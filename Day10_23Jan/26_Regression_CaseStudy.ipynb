{
 "cells": [
  {
   "cell_type": "markdown",
   "metadata": {},
   "source": [
    "# Importing Packages"
   ]
  },
  {
   "cell_type": "code",
   "execution_count": 1,
   "metadata": {},
   "outputs": [],
   "source": [
    "#### Import Modules\n",
    "import pandas as pd\n",
    "import numpy as np\n",
    "\n",
    "import matplotlib.pyplot as plt\n",
    "import seaborn as sns\n",
    "sns.set(style=\"ticks\", color_codes=True, font_scale=1.5)\n",
    "color = sns.color_palette()\n",
    "sns.set_style('darkgrid')\n",
    "import pylab \n",
    "%matplotlib inline\n",
    "\n",
    "import warnings\n",
    "warnings.simplefilter(action = 'ignore', category=FutureWarning)\n",
    "warnings.filterwarnings('ignore')\n",
    "def ignore_warn(*args, **kwargs):\n",
    "    pass\n",
    "warnings.warn = ignore_warn #ignore annoying warning (from sklearn and seaborn)\n",
    "\n",
    "\n",
    "from sklearn.metrics import r2_score, mean_squared_error\n",
    "from sklearn.linear_model import LinearRegression, Ridge, Lasso\n",
    "from sklearn.model_selection import train_test_split, GridSearchCV\n",
    "\n",
    "from scipy import stats\n",
    "\n",
    "import statsmodels.api as sm\n",
    "from statsmodels.formula.api import ols"
   ]
  },
  {
   "cell_type": "markdown",
   "metadata": {},
   "source": [
    "# Reading Data"
   ]
  },
  {
   "cell_type": "code",
   "execution_count": 2,
   "metadata": {},
   "outputs": [
    {
     "data": {
      "text/html": [
       "<div>\n",
       "<style scoped>\n",
       "    .dataframe tbody tr th:only-of-type {\n",
       "        vertical-align: middle;\n",
       "    }\n",
       "\n",
       "    .dataframe tbody tr th {\n",
       "        vertical-align: top;\n",
       "    }\n",
       "\n",
       "    .dataframe thead th {\n",
       "        text-align: right;\n",
       "    }\n",
       "</style>\n",
       "<table border=\"1\" class=\"dataframe\">\n",
       "  <thead>\n",
       "    <tr style=\"text-align: right;\">\n",
       "      <th></th>\n",
       "      <th>Order</th>\n",
       "      <th>PID</th>\n",
       "      <th>MS Zoning</th>\n",
       "      <th>Lot Area</th>\n",
       "      <th>Lot Shape</th>\n",
       "      <th>Utilities</th>\n",
       "      <th>Condition 1</th>\n",
       "      <th>Condition 2</th>\n",
       "      <th>Bldg Type</th>\n",
       "      <th>House Style</th>\n",
       "      <th>...</th>\n",
       "      <th>Year Built</th>\n",
       "      <th>Year Remod/Add</th>\n",
       "      <th>Foundation</th>\n",
       "      <th>Bsmt Qual</th>\n",
       "      <th>Central Air</th>\n",
       "      <th>F_Flr</th>\n",
       "      <th>S_Flr</th>\n",
       "      <th>Kitchen Qual</th>\n",
       "      <th>Yr Sold</th>\n",
       "      <th>Sale_Price</th>\n",
       "    </tr>\n",
       "  </thead>\n",
       "  <tbody>\n",
       "    <tr>\n",
       "      <th>0</th>\n",
       "      <td>1</td>\n",
       "      <td>526301100</td>\n",
       "      <td>RL</td>\n",
       "      <td>31770</td>\n",
       "      <td>IR1</td>\n",
       "      <td>AllPub</td>\n",
       "      <td>Norm</td>\n",
       "      <td>Norm</td>\n",
       "      <td>1Fam</td>\n",
       "      <td>1Story</td>\n",
       "      <td>...</td>\n",
       "      <td>1960</td>\n",
       "      <td>1960</td>\n",
       "      <td>CBlock</td>\n",
       "      <td>TA</td>\n",
       "      <td>Y</td>\n",
       "      <td>1656</td>\n",
       "      <td>0</td>\n",
       "      <td>TA</td>\n",
       "      <td>2010</td>\n",
       "      <td>215000</td>\n",
       "    </tr>\n",
       "    <tr>\n",
       "      <th>1</th>\n",
       "      <td>2</td>\n",
       "      <td>526350040</td>\n",
       "      <td>RH</td>\n",
       "      <td>11622</td>\n",
       "      <td>Reg</td>\n",
       "      <td>AllPub</td>\n",
       "      <td>Feedr</td>\n",
       "      <td>Norm</td>\n",
       "      <td>1Fam</td>\n",
       "      <td>1Story</td>\n",
       "      <td>...</td>\n",
       "      <td>1961</td>\n",
       "      <td>1961</td>\n",
       "      <td>CBlock</td>\n",
       "      <td>TA</td>\n",
       "      <td>Y</td>\n",
       "      <td>896</td>\n",
       "      <td>0</td>\n",
       "      <td>TA</td>\n",
       "      <td>2010</td>\n",
       "      <td>105000</td>\n",
       "    </tr>\n",
       "    <tr>\n",
       "      <th>2</th>\n",
       "      <td>3</td>\n",
       "      <td>526351010</td>\n",
       "      <td>RL</td>\n",
       "      <td>14267</td>\n",
       "      <td>IR1</td>\n",
       "      <td>AllPub</td>\n",
       "      <td>Norm</td>\n",
       "      <td>Norm</td>\n",
       "      <td>1Fam</td>\n",
       "      <td>1Story</td>\n",
       "      <td>...</td>\n",
       "      <td>1958</td>\n",
       "      <td>1958</td>\n",
       "      <td>CBlock</td>\n",
       "      <td>TA</td>\n",
       "      <td>Y</td>\n",
       "      <td>1329</td>\n",
       "      <td>0</td>\n",
       "      <td>Gd</td>\n",
       "      <td>2010</td>\n",
       "      <td>172000</td>\n",
       "    </tr>\n",
       "    <tr>\n",
       "      <th>3</th>\n",
       "      <td>4</td>\n",
       "      <td>526353030</td>\n",
       "      <td>RL</td>\n",
       "      <td>11160</td>\n",
       "      <td>Reg</td>\n",
       "      <td>AllPub</td>\n",
       "      <td>Norm</td>\n",
       "      <td>Norm</td>\n",
       "      <td>1Fam</td>\n",
       "      <td>1Story</td>\n",
       "      <td>...</td>\n",
       "      <td>1968</td>\n",
       "      <td>1968</td>\n",
       "      <td>CBlock</td>\n",
       "      <td>TA</td>\n",
       "      <td>Y</td>\n",
       "      <td>2110</td>\n",
       "      <td>0</td>\n",
       "      <td>Ex</td>\n",
       "      <td>2010</td>\n",
       "      <td>244000</td>\n",
       "    </tr>\n",
       "    <tr>\n",
       "      <th>4</th>\n",
       "      <td>5</td>\n",
       "      <td>527105010</td>\n",
       "      <td>RL</td>\n",
       "      <td>13830</td>\n",
       "      <td>IR1</td>\n",
       "      <td>AllPub</td>\n",
       "      <td>Norm</td>\n",
       "      <td>Norm</td>\n",
       "      <td>1Fam</td>\n",
       "      <td>2Story</td>\n",
       "      <td>...</td>\n",
       "      <td>1997</td>\n",
       "      <td>1998</td>\n",
       "      <td>PConc</td>\n",
       "      <td>Gd</td>\n",
       "      <td>Y</td>\n",
       "      <td>928</td>\n",
       "      <td>701</td>\n",
       "      <td>TA</td>\n",
       "      <td>2010</td>\n",
       "      <td>189900</td>\n",
       "    </tr>\n",
       "  </tbody>\n",
       "</table>\n",
       "<p>5 rows × 22 columns</p>\n",
       "</div>"
      ],
      "text/plain": [
       "   Order        PID MS Zoning  Lot Area Lot Shape Utilities Condition 1  \\\n",
       "0      1  526301100        RL     31770       IR1    AllPub        Norm   \n",
       "1      2  526350040        RH     11622       Reg    AllPub       Feedr   \n",
       "2      3  526351010        RL     14267       IR1    AllPub        Norm   \n",
       "3      4  526353030        RL     11160       Reg    AllPub        Norm   \n",
       "4      5  527105010        RL     13830       IR1    AllPub        Norm   \n",
       "\n",
       "  Condition 2 Bldg Type House Style    ...      Year Built  Year Remod/Add  \\\n",
       "0        Norm      1Fam      1Story    ...            1960            1960   \n",
       "1        Norm      1Fam      1Story    ...            1961            1961   \n",
       "2        Norm      1Fam      1Story    ...            1958            1958   \n",
       "3        Norm      1Fam      1Story    ...            1968            1968   \n",
       "4        Norm      1Fam      2Story    ...            1997            1998   \n",
       "\n",
       "   Foundation  Bsmt Qual Central Air F_Flr S_Flr  Kitchen Qual  Yr Sold  \\\n",
       "0      CBlock         TA           Y  1656     0            TA     2010   \n",
       "1      CBlock         TA           Y   896     0            TA     2010   \n",
       "2      CBlock         TA           Y  1329     0            Gd     2010   \n",
       "3      CBlock         TA           Y  2110     0            Ex     2010   \n",
       "4       PConc         Gd           Y   928   701            TA     2010   \n",
       "\n",
       "  Sale_Price  \n",
       "0     215000  \n",
       "1     105000  \n",
       "2     172000  \n",
       "3     244000  \n",
       "4     189900  \n",
       "\n",
       "[5 rows x 22 columns]"
      ]
     },
     "execution_count": 2,
     "metadata": {},
     "output_type": "execute_result"
    }
   ],
   "source": [
    "df = pd.read_excel(\"data/HousingPrice.xls\")\n",
    "df.head()"
   ]
  },
  {
   "cell_type": "code",
   "execution_count": 3,
   "metadata": {},
   "outputs": [
    {
     "name": "stdout",
     "output_type": "stream",
     "text": [
      "<class 'pandas.core.frame.DataFrame'>\n",
      "RangeIndex: 2930 entries, 0 to 2929\n",
      "Data columns (total 22 columns):\n",
      "Order             2930 non-null int64\n",
      "PID               2930 non-null int64\n",
      "MS Zoning         2930 non-null object\n",
      "Lot Area          2930 non-null int64\n",
      "Lot Shape         2930 non-null object\n",
      "Utilities         2930 non-null object\n",
      "Condition 1       2930 non-null object\n",
      "Condition 2       2930 non-null object\n",
      "Bldg Type         2930 non-null object\n",
      "House Style       2930 non-null object\n",
      "Overall Qual      2930 non-null int64\n",
      "Overall Cond      2930 non-null int64\n",
      "Year Built        2930 non-null int64\n",
      "Year Remod/Add    2930 non-null int64\n",
      "Foundation        2930 non-null object\n",
      "Bsmt Qual         2850 non-null object\n",
      "Central Air       2930 non-null object\n",
      "F_Flr             2930 non-null int64\n",
      "S_Flr             2930 non-null int64\n",
      "Kitchen Qual      2930 non-null object\n",
      "Yr Sold           2930 non-null int64\n",
      "Sale_Price        2930 non-null int64\n",
      "dtypes: int64(11), object(11)\n",
      "memory usage: 503.7+ KB\n"
     ]
    }
   ],
   "source": [
    "df.info()"
   ]
  },
  {
   "cell_type": "code",
   "execution_count": 4,
   "metadata": {},
   "outputs": [
    {
     "data": {
      "text/plain": [
       "Index(['Order', 'PID', 'MS Zoning', 'Lot Area', 'Lot Shape', 'Utilities',\n",
       "       'Condition 1', 'Condition 2', 'Bldg Type', 'House Style',\n",
       "       'Overall Qual', 'Overall Cond', 'Year Built', 'Year Remod/Add',\n",
       "       'Foundation', 'Bsmt Qual', 'Central Air', 'F_Flr', 'S_Flr',\n",
       "       'Kitchen Qual', 'Yr Sold', 'Sale_Price'],\n",
       "      dtype='object')"
      ]
     },
     "execution_count": 4,
     "metadata": {},
     "output_type": "execute_result"
    }
   ],
   "source": [
    "df.columns"
   ]
  },
  {
   "cell_type": "markdown",
   "metadata": {},
   "source": [
    "##### Fixing Column Names"
   ]
  },
  {
   "cell_type": "code",
   "execution_count": 5,
   "metadata": {},
   "outputs": [
    {
     "data": {
      "text/plain": [
       "Index(['order', 'pid', 'ms_zoning', 'lot_area', 'lot_shape', 'utilities',\n",
       "       'condition_1', 'condition_2', 'bldg_type', 'house_style',\n",
       "       'overall_qual', 'overall_cond', 'year_built', 'year_remod_add',\n",
       "       'foundation', 'bsmt_qual', 'central_air', 'f_flr', 's_flr',\n",
       "       'kitchen_qual', 'yr_sold', 'sale_price'],\n",
       "      dtype='object')"
      ]
     },
     "execution_count": 5,
     "metadata": {},
     "output_type": "execute_result"
    }
   ],
   "source": [
    "df.columns = df.columns.str.strip().str.lower().str.replace(' ', '_').str.replace('/', '_').str.replace(')', '')\n",
    "df.columns"
   ]
  },
  {
   "cell_type": "code",
   "execution_count": 6,
   "metadata": {},
   "outputs": [],
   "source": [
    "df.set_index('pid', inplace=True)  ### Setting Index \n",
    "df.drop('order', axis =1, inplace=True) ### Dropping Unneccessary column"
   ]
  },
  {
   "cell_type": "code",
   "execution_count": 7,
   "metadata": {},
   "outputs": [
    {
     "data": {
      "text/html": [
       "<div>\n",
       "<style scoped>\n",
       "    .dataframe tbody tr th:only-of-type {\n",
       "        vertical-align: middle;\n",
       "    }\n",
       "\n",
       "    .dataframe tbody tr th {\n",
       "        vertical-align: top;\n",
       "    }\n",
       "\n",
       "    .dataframe thead th {\n",
       "        text-align: right;\n",
       "    }\n",
       "</style>\n",
       "<table border=\"1\" class=\"dataframe\">\n",
       "  <thead>\n",
       "    <tr style=\"text-align: right;\">\n",
       "      <th></th>\n",
       "      <th>lot_area</th>\n",
       "      <th>overall_qual</th>\n",
       "      <th>overall_cond</th>\n",
       "      <th>year_built</th>\n",
       "      <th>year_remod_add</th>\n",
       "      <th>f_flr</th>\n",
       "      <th>s_flr</th>\n",
       "      <th>yr_sold</th>\n",
       "      <th>sale_price</th>\n",
       "    </tr>\n",
       "  </thead>\n",
       "  <tbody>\n",
       "    <tr>\n",
       "      <th>count</th>\n",
       "      <td>2930.000000</td>\n",
       "      <td>2930.000000</td>\n",
       "      <td>2930.000000</td>\n",
       "      <td>2930.000000</td>\n",
       "      <td>2930.000000</td>\n",
       "      <td>2930.000000</td>\n",
       "      <td>2930.000000</td>\n",
       "      <td>2930.000000</td>\n",
       "      <td>2930.000000</td>\n",
       "    </tr>\n",
       "    <tr>\n",
       "      <th>mean</th>\n",
       "      <td>10147.921843</td>\n",
       "      <td>6.094881</td>\n",
       "      <td>5.563140</td>\n",
       "      <td>1971.356314</td>\n",
       "      <td>1984.266553</td>\n",
       "      <td>1159.557679</td>\n",
       "      <td>335.455973</td>\n",
       "      <td>2007.790444</td>\n",
       "      <td>180796.060068</td>\n",
       "    </tr>\n",
       "    <tr>\n",
       "      <th>std</th>\n",
       "      <td>7880.017759</td>\n",
       "      <td>1.411026</td>\n",
       "      <td>1.111537</td>\n",
       "      <td>30.245361</td>\n",
       "      <td>20.860286</td>\n",
       "      <td>391.890885</td>\n",
       "      <td>428.395715</td>\n",
       "      <td>1.316613</td>\n",
       "      <td>79886.692357</td>\n",
       "    </tr>\n",
       "    <tr>\n",
       "      <th>min</th>\n",
       "      <td>1300.000000</td>\n",
       "      <td>1.000000</td>\n",
       "      <td>1.000000</td>\n",
       "      <td>1872.000000</td>\n",
       "      <td>1950.000000</td>\n",
       "      <td>334.000000</td>\n",
       "      <td>0.000000</td>\n",
       "      <td>2006.000000</td>\n",
       "      <td>12789.000000</td>\n",
       "    </tr>\n",
       "    <tr>\n",
       "      <th>25%</th>\n",
       "      <td>7440.250000</td>\n",
       "      <td>5.000000</td>\n",
       "      <td>5.000000</td>\n",
       "      <td>1954.000000</td>\n",
       "      <td>1965.000000</td>\n",
       "      <td>876.250000</td>\n",
       "      <td>0.000000</td>\n",
       "      <td>2007.000000</td>\n",
       "      <td>129500.000000</td>\n",
       "    </tr>\n",
       "    <tr>\n",
       "      <th>50%</th>\n",
       "      <td>9436.500000</td>\n",
       "      <td>6.000000</td>\n",
       "      <td>5.000000</td>\n",
       "      <td>1973.000000</td>\n",
       "      <td>1993.000000</td>\n",
       "      <td>1084.000000</td>\n",
       "      <td>0.000000</td>\n",
       "      <td>2008.000000</td>\n",
       "      <td>160000.000000</td>\n",
       "    </tr>\n",
       "    <tr>\n",
       "      <th>75%</th>\n",
       "      <td>11555.250000</td>\n",
       "      <td>7.000000</td>\n",
       "      <td>6.000000</td>\n",
       "      <td>2001.000000</td>\n",
       "      <td>2004.000000</td>\n",
       "      <td>1384.000000</td>\n",
       "      <td>703.750000</td>\n",
       "      <td>2009.000000</td>\n",
       "      <td>213500.000000</td>\n",
       "    </tr>\n",
       "    <tr>\n",
       "      <th>max</th>\n",
       "      <td>215245.000000</td>\n",
       "      <td>10.000000</td>\n",
       "      <td>9.000000</td>\n",
       "      <td>2010.000000</td>\n",
       "      <td>2010.000000</td>\n",
       "      <td>5095.000000</td>\n",
       "      <td>2065.000000</td>\n",
       "      <td>2010.000000</td>\n",
       "      <td>755000.000000</td>\n",
       "    </tr>\n",
       "  </tbody>\n",
       "</table>\n",
       "</div>"
      ],
      "text/plain": [
       "            lot_area  overall_qual  overall_cond   year_built  year_remod_add  \\\n",
       "count    2930.000000   2930.000000   2930.000000  2930.000000     2930.000000   \n",
       "mean    10147.921843      6.094881      5.563140  1971.356314     1984.266553   \n",
       "std      7880.017759      1.411026      1.111537    30.245361       20.860286   \n",
       "min      1300.000000      1.000000      1.000000  1872.000000     1950.000000   \n",
       "25%      7440.250000      5.000000      5.000000  1954.000000     1965.000000   \n",
       "50%      9436.500000      6.000000      5.000000  1973.000000     1993.000000   \n",
       "75%     11555.250000      7.000000      6.000000  2001.000000     2004.000000   \n",
       "max    215245.000000     10.000000      9.000000  2010.000000     2010.000000   \n",
       "\n",
       "             f_flr        s_flr      yr_sold     sale_price  \n",
       "count  2930.000000  2930.000000  2930.000000    2930.000000  \n",
       "mean   1159.557679   335.455973  2007.790444  180796.060068  \n",
       "std     391.890885   428.395715     1.316613   79886.692357  \n",
       "min     334.000000     0.000000  2006.000000   12789.000000  \n",
       "25%     876.250000     0.000000  2007.000000  129500.000000  \n",
       "50%    1084.000000     0.000000  2008.000000  160000.000000  \n",
       "75%    1384.000000   703.750000  2009.000000  213500.000000  \n",
       "max    5095.000000  2065.000000  2010.000000  755000.000000  "
      ]
     },
     "execution_count": 7,
     "metadata": {},
     "output_type": "execute_result"
    }
   ],
   "source": [
    "df.describe()"
   ]
  },
  {
   "cell_type": "markdown",
   "metadata": {},
   "source": [
    "## Step1 - Treatment of Continous Variables"
   ]
  },
  {
   "cell_type": "code",
   "execution_count": 8,
   "metadata": {},
   "outputs": [
    {
     "data": {
      "image/png": "[encoded data removed]",
      "text/plain": [
       "<Figure size 432x288 with 1 Axes>"
      ]
     },
     "metadata": {
      "needs_background": "light"
     },
     "output_type": "display_data"
    }
   ],
   "source": [
    "# Density Plot and Histogram of Target Variable\n",
    "sns.distplot(df.sale_price, hist=True, kde=True, \n",
    "             bins=int(180/5), color = 'darkblue', \n",
    "             hist_kws={'edgecolor':'black'},\n",
    "             kde_kws={'linewidth': 4});"
   ]
  },
  {
   "cell_type": "code",
   "execution_count": 9,
   "metadata": {},
   "outputs": [],
   "source": [
    "numeric_cols = df.select_dtypes(np.number).columns"
   ]
  },
  {
   "cell_type": "code",
   "execution_count": 10,
   "metadata": {},
   "outputs": [],
   "source": [
    "df_numeric = df[numeric_cols]"
   ]
  },
  {
   "cell_type": "code",
   "execution_count": 12,
   "metadata": {},
   "outputs": [],
   "source": [
    "def des_stat(df, pred=None): \n",
    "    obs = df.shape[0]\n",
    "    counts = df.apply(lambda x: x.count())\n",
    "    distincts = df.apply(lambda x: x.unique().shape[0])\n",
    "    nulls = df.apply(lambda x: x.isnull().sum())\n",
    "    missing_ratio = (df.isnull().sum()/ obs) * 100\n",
    "    \n",
    "    mean_value = np.round(df.mean(),2)\n",
    "    median_value = df.median()\n",
    "    \n",
    "    std_value = np.round(df.std(),2)\n",
    "    min_value = df.min()\n",
    "    max_value = df.max()\n",
    "    \n",
    "    skewness = np.round(df.skew(),2)\n",
    "    kurtosis = np.round(df.kurt(),2) \n",
    "    \n",
    "    print('Data shape:', df.shape)\n",
    "    \n",
    "    if pred is None:\n",
    "        cols = ['counts', 'distincts', 'nulls', 'missing ratio', 'mean_value', \n",
    "                'median_value', 'min_value',  'max_value', 'std_value', 'skewness', 'kurtosis']\n",
    "        str = pd.concat([counts, distincts, nulls, missing_ratio, mean_value, median_value, \n",
    "                         min_value, max_value, std_value, skewness, kurtosis], axis = 1)\n",
    "\n",
    "    else:\n",
    "        corr = df.corr()[pred]\n",
    "        string = pd.concat([counts, distincts, nulls, missing_ratio, mean_value, median_value, \n",
    "                         min_value, max_value, std_value, skewness, kurtosis, corr], axis = 1, sort=False)\n",
    "        corr_col = 'corr_'  + pred\n",
    "        cols = ['counts', 'distincts', 'nulls', 'missing ratio', 'mean_value', 'median_value', \n",
    "                'min_value', 'max_value', 'std_value', 'skewness', 'kurtosis', corr_col ]\n",
    "    string.columns = cols\n",
    "    print('___________________________')\n",
    "    return string"
   ]
  },
  {
   "cell_type": "code",
   "execution_count": 20,
   "metadata": {
    "scrolled": true
   },
   "outputs": [
    {
     "name": "stdout",
     "output_type": "stream",
     "text": [
      "Data shape: (2930, 9)\n",
      "___________________________\n"
     ]
    },
    {
     "data": {
      "text/html": [
       "<div>\n",
       "<style scoped>\n",
       "    .dataframe tbody tr th:only-of-type {\n",
       "        vertical-align: middle;\n",
       "    }\n",
       "\n",
       "    .dataframe tbody tr th {\n",
       "        vertical-align: top;\n",
       "    }\n",
       "\n",
       "    .dataframe thead th {\n",
       "        text-align: right;\n",
       "    }\n",
       "</style>\n",
       "<table border=\"1\" class=\"dataframe\">\n",
       "  <thead>\n",
       "    <tr style=\"text-align: right;\">\n",
       "      <th></th>\n",
       "      <th>counts</th>\n",
       "      <th>distincts</th>\n",
       "      <th>nulls</th>\n",
       "      <th>missing ratio</th>\n",
       "      <th>mean_value</th>\n",
       "      <th>median_value</th>\n",
       "      <th>min_value</th>\n",
       "      <th>max_value</th>\n",
       "      <th>std_value</th>\n",
       "      <th>skewness</th>\n",
       "      <th>kurtosis</th>\n",
       "      <th>corr_sale_price</th>\n",
       "    </tr>\n",
       "  </thead>\n",
       "  <tbody>\n",
       "    <tr>\n",
       "      <th>lot_area</th>\n",
       "      <td>2930</td>\n",
       "      <td>1960</td>\n",
       "      <td>0</td>\n",
       "      <td>0.0</td>\n",
       "      <td>10147.92</td>\n",
       "      <td>9436.5</td>\n",
       "      <td>1300</td>\n",
       "      <td>215245</td>\n",
       "      <td>7880.02</td>\n",
       "      <td>12.82</td>\n",
       "      <td>265.02</td>\n",
       "      <td>0.266549</td>\n",
       "    </tr>\n",
       "    <tr>\n",
       "      <th>overall_qual</th>\n",
       "      <td>2930</td>\n",
       "      <td>10</td>\n",
       "      <td>0</td>\n",
       "      <td>0.0</td>\n",
       "      <td>6.09</td>\n",
       "      <td>6.0</td>\n",
       "      <td>1</td>\n",
       "      <td>10</td>\n",
       "      <td>1.41</td>\n",
       "      <td>0.19</td>\n",
       "      <td>0.05</td>\n",
       "      <td>0.799262</td>\n",
       "    </tr>\n",
       "    <tr>\n",
       "      <th>overall_cond</th>\n",
       "      <td>2930</td>\n",
       "      <td>9</td>\n",
       "      <td>0</td>\n",
       "      <td>0.0</td>\n",
       "      <td>5.56</td>\n",
       "      <td>5.0</td>\n",
       "      <td>1</td>\n",
       "      <td>9</td>\n",
       "      <td>1.11</td>\n",
       "      <td>0.57</td>\n",
       "      <td>1.49</td>\n",
       "      <td>-0.101697</td>\n",
       "    </tr>\n",
       "    <tr>\n",
       "      <th>year_built</th>\n",
       "      <td>2930</td>\n",
       "      <td>118</td>\n",
       "      <td>0</td>\n",
       "      <td>0.0</td>\n",
       "      <td>1971.36</td>\n",
       "      <td>1973.0</td>\n",
       "      <td>1872</td>\n",
       "      <td>2010</td>\n",
       "      <td>30.25</td>\n",
       "      <td>-0.60</td>\n",
       "      <td>-0.50</td>\n",
       "      <td>0.558426</td>\n",
       "    </tr>\n",
       "    <tr>\n",
       "      <th>year_remod_add</th>\n",
       "      <td>2930</td>\n",
       "      <td>61</td>\n",
       "      <td>0</td>\n",
       "      <td>0.0</td>\n",
       "      <td>1984.27</td>\n",
       "      <td>1993.0</td>\n",
       "      <td>1950</td>\n",
       "      <td>2010</td>\n",
       "      <td>20.86</td>\n",
       "      <td>-0.45</td>\n",
       "      <td>-1.34</td>\n",
       "      <td>0.532974</td>\n",
       "    </tr>\n",
       "  </tbody>\n",
       "</table>\n",
       "</div>"
      ],
      "text/plain": [
       "                counts  distincts  nulls  missing ratio  mean_value  \\\n",
       "lot_area          2930       1960      0            0.0    10147.92   \n",
       "overall_qual      2930         10      0            0.0        6.09   \n",
       "overall_cond      2930          9      0            0.0        5.56   \n",
       "year_built        2930        118      0            0.0     1971.36   \n",
       "year_remod_add    2930         61      0            0.0     1984.27   \n",
       "\n",
       "                median_value  min_value  max_value  std_value  skewness  \\\n",
       "lot_area              9436.5       1300     215245    7880.02     12.82   \n",
       "overall_qual             6.0          1         10       1.41      0.19   \n",
       "overall_cond             5.0          1          9       1.11      0.57   \n",
       "year_built            1973.0       1872       2010      30.25     -0.60   \n",
       "year_remod_add        1993.0       1950       2010      20.86     -0.45   \n",
       "\n",
       "                kurtosis  corr_sale_price  \n",
       "lot_area          265.02         0.266549  \n",
       "overall_qual        0.05         0.799262  \n",
       "overall_cond        1.49        -0.101697  \n",
       "year_built         -0.50         0.558426  \n",
       "year_remod_add     -1.34         0.532974  "
      ]
     },
     "execution_count": 20,
     "metadata": {},
     "output_type": "execute_result"
    }
   ],
   "source": [
    "details = des_stat(df_numeric, 'sale_price')\n",
    "display(details.sort_values(by='corr_sale_price', ascending=False))"
   ]
  },
  {
   "cell_type": "code",
   "execution_count": 14,
   "metadata": {},
   "outputs": [],
   "source": [
    "### Year sold is not Continous so make it as Category\n",
    "df['yr_sold'] = df.yr_sold.astype('object')"
   ]
  },
  {
   "cell_type": "code",
   "execution_count": 15,
   "metadata": {},
   "outputs": [
    {
     "data": {
      "image/png": "[encoded data removed]",
      "text/plain": [
       "<Figure size 432x288 with 1 Axes>"
      ]
     },
     "metadata": {
      "needs_background": "light"
     },
     "output_type": "display_data"
    }
   ],
   "source": [
    "# Density Plot and Histogram of Lot Area\n",
    "sns.distplot(df.lot_area, hist=True, kde=True, \n",
    "             bins=int(180/5), color = 'darkblue', \n",
    "             hist_kws={'edgecolor':'black'},\n",
    "             kde_kws={'linewidth': 4});"
   ]
  },
  {
   "cell_type": "markdown",
   "metadata": {},
   "source": [
    "## Correlation Between Continous Variables"
   ]
  },
  {
   "cell_type": "code",
   "execution_count": 16,
   "metadata": {},
   "outputs": [
    {
     "data": {
      "text/html": [
       "<div>\n",
       "<style scoped>\n",
       "    .dataframe tbody tr th:only-of-type {\n",
       "        vertical-align: middle;\n",
       "    }\n",
       "\n",
       "    .dataframe tbody tr th {\n",
       "        vertical-align: top;\n",
       "    }\n",
       "\n",
       "    .dataframe thead th {\n",
       "        text-align: right;\n",
       "    }\n",
       "</style>\n",
       "<table border=\"1\" class=\"dataframe\">\n",
       "  <thead>\n",
       "    <tr style=\"text-align: right;\">\n",
       "      <th></th>\n",
       "      <th>lot_area</th>\n",
       "      <th>overall_qual</th>\n",
       "      <th>overall_cond</th>\n",
       "      <th>year_built</th>\n",
       "      <th>year_remod_add</th>\n",
       "      <th>f_flr</th>\n",
       "      <th>s_flr</th>\n",
       "      <th>sale_price</th>\n",
       "    </tr>\n",
       "  </thead>\n",
       "  <tbody>\n",
       "    <tr>\n",
       "      <th>sale_price</th>\n",
       "      <td>0.266549</td>\n",
       "      <td>0.799262</td>\n",
       "      <td>-0.101697</td>\n",
       "      <td>0.558426</td>\n",
       "      <td>0.532974</td>\n",
       "      <td>0.621676</td>\n",
       "      <td>0.269373</td>\n",
       "      <td>1.000000</td>\n",
       "    </tr>\n",
       "    <tr>\n",
       "      <th>overall_qual</th>\n",
       "      <td>0.097188</td>\n",
       "      <td>1.000000</td>\n",
       "      <td>-0.094812</td>\n",
       "      <td>0.597027</td>\n",
       "      <td>0.569609</td>\n",
       "      <td>0.477837</td>\n",
       "      <td>0.241402</td>\n",
       "      <td>0.799262</td>\n",
       "    </tr>\n",
       "    <tr>\n",
       "      <th>f_flr</th>\n",
       "      <td>0.332235</td>\n",
       "      <td>0.477837</td>\n",
       "      <td>-0.157052</td>\n",
       "      <td>0.310463</td>\n",
       "      <td>0.242108</td>\n",
       "      <td>1.000000</td>\n",
       "      <td>-0.250057</td>\n",
       "      <td>0.621676</td>\n",
       "    </tr>\n",
       "    <tr>\n",
       "      <th>year_built</th>\n",
       "      <td>0.023258</td>\n",
       "      <td>0.597027</td>\n",
       "      <td>-0.368773</td>\n",
       "      <td>1.000000</td>\n",
       "      <td>0.612095</td>\n",
       "      <td>0.310463</td>\n",
       "      <td>0.016828</td>\n",
       "      <td>0.558426</td>\n",
       "    </tr>\n",
       "    <tr>\n",
       "      <th>year_remod_add</th>\n",
       "      <td>0.021682</td>\n",
       "      <td>0.569609</td>\n",
       "      <td>0.047680</td>\n",
       "      <td>0.612095</td>\n",
       "      <td>1.000000</td>\n",
       "      <td>0.242108</td>\n",
       "      <td>0.158939</td>\n",
       "      <td>0.532974</td>\n",
       "    </tr>\n",
       "    <tr>\n",
       "      <th>s_flr</th>\n",
       "      <td>0.032996</td>\n",
       "      <td>0.241402</td>\n",
       "      <td>0.006218</td>\n",
       "      <td>0.016828</td>\n",
       "      <td>0.158939</td>\n",
       "      <td>-0.250057</td>\n",
       "      <td>1.000000</td>\n",
       "      <td>0.269373</td>\n",
       "    </tr>\n",
       "    <tr>\n",
       "      <th>lot_area</th>\n",
       "      <td>1.000000</td>\n",
       "      <td>0.097188</td>\n",
       "      <td>-0.034759</td>\n",
       "      <td>0.023258</td>\n",
       "      <td>0.021682</td>\n",
       "      <td>0.332235</td>\n",
       "      <td>0.032996</td>\n",
       "      <td>0.266549</td>\n",
       "    </tr>\n",
       "    <tr>\n",
       "      <th>overall_cond</th>\n",
       "      <td>-0.034759</td>\n",
       "      <td>-0.094812</td>\n",
       "      <td>1.000000</td>\n",
       "      <td>-0.368773</td>\n",
       "      <td>0.047680</td>\n",
       "      <td>-0.157052</td>\n",
       "      <td>0.006218</td>\n",
       "      <td>-0.101697</td>\n",
       "    </tr>\n",
       "  </tbody>\n",
       "</table>\n",
       "</div>"
      ],
      "text/plain": [
       "                lot_area  overall_qual  overall_cond  year_built  \\\n",
       "sale_price      0.266549      0.799262     -0.101697    0.558426   \n",
       "overall_qual    0.097188      1.000000     -0.094812    0.597027   \n",
       "f_flr           0.332235      0.477837     -0.157052    0.310463   \n",
       "year_built      0.023258      0.597027     -0.368773    1.000000   \n",
       "year_remod_add  0.021682      0.569609      0.047680    0.612095   \n",
       "s_flr           0.032996      0.241402      0.006218    0.016828   \n",
       "lot_area        1.000000      0.097188     -0.034759    0.023258   \n",
       "overall_cond   -0.034759     -0.094812      1.000000   -0.368773   \n",
       "\n",
       "                year_remod_add     f_flr     s_flr  sale_price  \n",
       "sale_price            0.532974  0.621676  0.269373    1.000000  \n",
       "overall_qual          0.569609  0.477837  0.241402    0.799262  \n",
       "f_flr                 0.242108  1.000000 -0.250057    0.621676  \n",
       "year_built            0.612095  0.310463  0.016828    0.558426  \n",
       "year_remod_add        1.000000  0.242108  0.158939    0.532974  \n",
       "s_flr                 0.158939 -0.250057  1.000000    0.269373  \n",
       "lot_area              0.021682  0.332235  0.032996    0.266549  \n",
       "overall_cond          0.047680 -0.157052  0.006218   -0.101697  "
      ]
     },
     "execution_count": 16,
     "metadata": {},
     "output_type": "execute_result"
    }
   ],
   "source": [
    "df.select_dtypes(np.number).corr().sort_values(by = 'sale_price', ascending =False)"
   ]
  },
  {
   "cell_type": "markdown",
   "metadata": {},
   "source": [
    "##### Outlier Removal for Lot Area"
   ]
  },
  {
   "cell_type": "code",
   "execution_count": 21,
   "metadata": {},
   "outputs": [],
   "source": [
    "q75, q25 = np.percentile(df.lot_area, [75,25])\n",
    "iqr = q75 - q25\n",
    "upper_whisker = q75 + 1.5 * iqr\n",
    "lower_whisker = q25 - 1.5 * iqr\n",
    "def check(x, ul, ll):\n",
    "    if ul>=x>=ll:\n",
    "        return x"
   ]
  },
  {
   "cell_type": "code",
   "execution_count": 22,
   "metadata": {},
   "outputs": [
    {
     "data": {
      "text/plain": [
       "10147.921843003413"
      ]
     },
     "execution_count": 22,
     "metadata": {},
     "output_type": "execute_result"
    }
   ],
   "source": [
    "df.lot_area.mean()"
   ]
  },
  {
   "cell_type": "code",
   "execution_count": 23,
   "metadata": {},
   "outputs": [
    {
     "name": "stdout",
     "output_type": "stream",
     "text": [
      "Percentage of Outliers in tripduration: 4.334470989761092\n"
     ]
    }
   ],
   "source": [
    "print(\"Percentage of Outliers in tripduration:\",len(df[df.lot_area.apply(check, args = (upper_whisker, lower_whisker)).isnull()]['lot_area'])/len(df) * 100)"
   ]
  },
  {
   "cell_type": "code",
   "execution_count": 24,
   "metadata": {},
   "outputs": [
    {
     "name": "stdout",
     "output_type": "stream",
     "text": [
      "9189.286835533358\n"
     ]
    }
   ],
   "source": [
    "mean_lot_area = df[df.lot_area.apply(check, args = (upper_whisker, lower_whisker)).notnull()]['lot_area'].mean()\n",
    "print (mean_lot_area)"
   ]
  },
  {
   "cell_type": "code",
   "execution_count": 25,
   "metadata": {},
   "outputs": [
    {
     "data": {
      "image/png": "[encoded data removed]",
      "text/plain": [
       "<Figure size 432x288 with 1 Axes>"
      ]
     },
     "metadata": {
      "needs_background": "light"
     },
     "output_type": "display_data"
    }
   ],
   "source": [
    "def transform_lot_area(x):\n",
    "    if x > upper_whisker:\n",
    "        return mean_lot_area\n",
    "    return x\n",
    "\n",
    "df['lot_area_mean'] = df['lot_area'].apply(lambda x: transform_lot_area(x))\n",
    "df['lot_area_mean'].plot.hist(bins=100, title='Frequency distribution of mean transformed Trip duration');"
   ]
  },
  {
   "cell_type": "code",
   "execution_count": 26,
   "metadata": {},
   "outputs": [
    {
     "data": {
      "image/png": "[encoded data removed]",
      "text/plain": [
       "<Figure size 432x288 with 1 Axes>"
      ]
     },
     "metadata": {
      "needs_background": "light"
     },
     "output_type": "display_data"
    }
   ],
   "source": [
    "# Density Plot and Histogram of all arrival delays\n",
    "sns.distplot(df.lot_area_mean, hist=True, kde=True, \n",
    "             bins=int(180/5), color = 'darkblue', \n",
    "             hist_kws={'edgecolor':'black'},\n",
    "             kde_kws={'linewidth': 4});"
   ]
  },
  {
   "cell_type": "code",
   "execution_count": 27,
   "metadata": {
    "scrolled": true
   },
   "outputs": [
    {
     "data": {
      "text/plain": [
       "sale_price        1.000000\n",
       "overall_qual      0.799262\n",
       "f_flr             0.621676\n",
       "year_built        0.558426\n",
       "year_remod_add    0.532974\n",
       "lot_area_mean     0.394259\n",
       "s_flr             0.269373\n",
       "lot_area          0.266549\n",
       "overall_cond     -0.101697\n",
       "Name: sale_price, dtype: float64"
      ]
     },
     "execution_count": 27,
     "metadata": {},
     "output_type": "execute_result"
    }
   ],
   "source": [
    "df.corr()['sale_price'].sort_values(ascending =False)"
   ]
  },
  {
   "cell_type": "markdown",
   "metadata": {},
   "source": [
    "### Can Lot area corr with Sales cab be improved?"
   ]
  },
  {
   "cell_type": "code",
   "execution_count": 28,
   "metadata": {},
   "outputs": [
    {
     "data": {
      "image/png": "[encoded data removed]",
      "text/plain": [
       "<Figure size 432x288 with 1 Axes>"
      ]
     },
     "metadata": {
      "needs_background": "light"
     },
     "output_type": "display_data"
    }
   ],
   "source": [
    "def transform_lot_area(x):\n",
    "    if x > upper_whisker:\n",
    "        return upper_whisker\n",
    "    return x\n",
    "\n",
    "df['lot_area_upper'] = df['lot_area'].apply(lambda x: transform_lot_area(x))\n",
    "df['lot_area_upper'].plot.hist(bins=100, title='Frequency distribution of Upper Limit transformed Trip duration');"
   ]
  },
  {
   "cell_type": "code",
   "execution_count": 29,
   "metadata": {},
   "outputs": [
    {
     "data": {
      "image/png": "[encoded data removed]",
      "text/plain": [
       "<Figure size 432x288 with 1 Axes>"
      ]
     },
     "metadata": {
      "needs_background": "light"
     },
     "output_type": "display_data"
    }
   ],
   "source": [
    "# Density Plot and Histogram of all arrival delays\n",
    "sns.distplot(df.lot_area_upper, hist=True, kde=True, \n",
    "             bins=int(180/5), color = 'darkblue', \n",
    "             hist_kws={'edgecolor':'black'},\n",
    "             kde_kws={'linewidth': 4});"
   ]
  },
  {
   "cell_type": "code",
   "execution_count": 30,
   "metadata": {},
   "outputs": [
    {
     "data": {
      "text/plain": [
       "sale_price        1.000000\n",
       "overall_qual      0.799262\n",
       "f_flr             0.621676\n",
       "year_built        0.558426\n",
       "year_remod_add    0.532974\n",
       "lot_area_upper    0.412271\n",
       "lot_area_mean     0.394259\n",
       "s_flr             0.269373\n",
       "lot_area          0.266549\n",
       "overall_cond     -0.101697\n",
       "Name: sale_price, dtype: float64"
      ]
     },
     "execution_count": 30,
     "metadata": {},
     "output_type": "execute_result"
    }
   ],
   "source": [
    "df.corr()['sale_price'].sort_values(ascending =False)"
   ]
  },
  {
   "cell_type": "code",
   "execution_count": 31,
   "metadata": {},
   "outputs": [
    {
     "data": {
      "text/plain": [
       "sale_price          1.000000\n",
       "overall_qual        0.799262\n",
       "first_second_flr    0.713588\n",
       "f_flr               0.621676\n",
       "year_built          0.558426\n",
       "year_remod_add      0.532974\n",
       "lot_area_upper      0.412271\n",
       "lot_area_mean       0.394259\n",
       "s_flr               0.269373\n",
       "lot_area            0.266549\n",
       "overall_cond       -0.101697\n",
       "Name: sale_price, dtype: float64"
      ]
     },
     "execution_count": 31,
     "metadata": {},
     "output_type": "execute_result"
    }
   ],
   "source": [
    "df['first_second_flr'] = df.f_flr + df.s_flr\n",
    "df.corr()['sale_price'].sort_values(ascending =False)"
   ]
  },
  {
   "cell_type": "code",
   "execution_count": 32,
   "metadata": {},
   "outputs": [],
   "source": [
    "#### Dropping Low Correlation and unneccessary columns\n",
    "df.drop(['lot_area', 'overall_cond', 'f_flr', 's_flr', 'lot_area_mean'], axis=1, inplace=True)"
   ]
  },
  {
   "cell_type": "code",
   "execution_count": 33,
   "metadata": {},
   "outputs": [
    {
     "data": {
      "text/plain": [
       "sale_price          1.000000\n",
       "overall_qual        0.799262\n",
       "first_second_flr    0.713588\n",
       "year_built          0.558426\n",
       "year_remod_add      0.532974\n",
       "lot_area_upper      0.412271\n",
       "Name: sale_price, dtype: float64"
      ]
     },
     "execution_count": 33,
     "metadata": {},
     "output_type": "execute_result"
    }
   ],
   "source": [
    "df.corr()['sale_price'].sort_values(ascending =False)"
   ]
  },
  {
   "cell_type": "markdown",
   "metadata": {},
   "source": [
    "# Step-2 Treatment of Nominal/Categorical Variables"
   ]
  },
  {
   "cell_type": "code",
   "execution_count": 34,
   "metadata": {},
   "outputs": [
    {
     "data": {
      "text/plain": [
       "Index(['ms_zoning', 'lot_shape', 'utilities', 'condition_1', 'condition_2',\n",
       "       'bldg_type', 'house_style', 'foundation', 'bsmt_qual', 'central_air',\n",
       "       'kitchen_qual', 'yr_sold'],\n",
       "      dtype='object')"
      ]
     },
     "execution_count": 34,
     "metadata": {},
     "output_type": "execute_result"
    }
   ],
   "source": [
    "df.select_dtypes('object').columns"
   ]
  },
  {
   "cell_type": "code",
   "execution_count": 35,
   "metadata": {},
   "outputs": [
    {
     "data": {
      "text/plain": [
       "(array([0, 0, 0, ..., 0, 0, 0]), Index(['Y', 'N'], dtype='object'))"
      ]
     },
     "execution_count": 35,
     "metadata": {},
     "output_type": "execute_result"
    }
   ],
   "source": [
    "pd.factorize(df.central_air)"
   ]
  },
  {
   "cell_type": "code",
   "execution_count": 38,
   "metadata": {},
   "outputs": [
    {
     "data": {
      "text/html": [
       "<div>\n",
       "<style scoped>\n",
       "    .dataframe tbody tr th:only-of-type {\n",
       "        vertical-align: middle;\n",
       "    }\n",
       "\n",
       "    .dataframe tbody tr th {\n",
       "        vertical-align: top;\n",
       "    }\n",
       "\n",
       "    .dataframe thead th {\n",
       "        text-align: right;\n",
       "    }\n",
       "</style>\n",
       "<table border=\"1\" class=\"dataframe\">\n",
       "  <thead>\n",
       "    <tr style=\"text-align: right;\">\n",
       "      <th></th>\n",
       "      <th>ms_zoning</th>\n",
       "      <th>lot_shape</th>\n",
       "      <th>utilities</th>\n",
       "      <th>condition_1</th>\n",
       "      <th>condition_2</th>\n",
       "      <th>bldg_type</th>\n",
       "      <th>house_style</th>\n",
       "      <th>overall_qual</th>\n",
       "      <th>year_built</th>\n",
       "      <th>year_remod_add</th>\n",
       "      <th>foundation</th>\n",
       "      <th>bsmt_qual</th>\n",
       "      <th>central_air</th>\n",
       "      <th>kitchen_qual</th>\n",
       "      <th>yr_sold</th>\n",
       "      <th>sale_price</th>\n",
       "      <th>lot_area_upper</th>\n",
       "      <th>first_second_flr</th>\n",
       "      <th>central_air_num</th>\n",
       "    </tr>\n",
       "    <tr>\n",
       "      <th>pid</th>\n",
       "      <th></th>\n",
       "      <th></th>\n",
       "      <th></th>\n",
       "      <th></th>\n",
       "      <th></th>\n",
       "      <th></th>\n",
       "      <th></th>\n",
       "      <th></th>\n",
       "      <th></th>\n",
       "      <th></th>\n",
       "      <th></th>\n",
       "      <th></th>\n",
       "      <th></th>\n",
       "      <th></th>\n",
       "      <th></th>\n",
       "      <th></th>\n",
       "      <th></th>\n",
       "      <th></th>\n",
       "      <th></th>\n",
       "    </tr>\n",
       "  </thead>\n",
       "  <tbody>\n",
       "    <tr>\n",
       "      <th>526301100</th>\n",
       "      <td>RL</td>\n",
       "      <td>IR1</td>\n",
       "      <td>AllPub</td>\n",
       "      <td>Norm</td>\n",
       "      <td>Norm</td>\n",
       "      <td>1Fam</td>\n",
       "      <td>1Story</td>\n",
       "      <td>6</td>\n",
       "      <td>1960</td>\n",
       "      <td>1960</td>\n",
       "      <td>CBlock</td>\n",
       "      <td>TA</td>\n",
       "      <td>Y</td>\n",
       "      <td>TA</td>\n",
       "      <td>2010</td>\n",
       "      <td>215000</td>\n",
       "      <td>17727.75</td>\n",
       "      <td>1656</td>\n",
       "      <td>0</td>\n",
       "    </tr>\n",
       "    <tr>\n",
       "      <th>526350040</th>\n",
       "      <td>RH</td>\n",
       "      <td>Reg</td>\n",
       "      <td>AllPub</td>\n",
       "      <td>Feedr</td>\n",
       "      <td>Norm</td>\n",
       "      <td>1Fam</td>\n",
       "      <td>1Story</td>\n",
       "      <td>5</td>\n",
       "      <td>1961</td>\n",
       "      <td>1961</td>\n",
       "      <td>CBlock</td>\n",
       "      <td>TA</td>\n",
       "      <td>Y</td>\n",
       "      <td>TA</td>\n",
       "      <td>2010</td>\n",
       "      <td>105000</td>\n",
       "      <td>11622.00</td>\n",
       "      <td>896</td>\n",
       "      <td>0</td>\n",
       "    </tr>\n",
       "    <tr>\n",
       "      <th>526351010</th>\n",
       "      <td>RL</td>\n",
       "      <td>IR1</td>\n",
       "      <td>AllPub</td>\n",
       "      <td>Norm</td>\n",
       "      <td>Norm</td>\n",
       "      <td>1Fam</td>\n",
       "      <td>1Story</td>\n",
       "      <td>6</td>\n",
       "      <td>1958</td>\n",
       "      <td>1958</td>\n",
       "      <td>CBlock</td>\n",
       "      <td>TA</td>\n",
       "      <td>Y</td>\n",
       "      <td>Gd</td>\n",
       "      <td>2010</td>\n",
       "      <td>172000</td>\n",
       "      <td>14267.00</td>\n",
       "      <td>1329</td>\n",
       "      <td>0</td>\n",
       "    </tr>\n",
       "    <tr>\n",
       "      <th>526353030</th>\n",
       "      <td>RL</td>\n",
       "      <td>Reg</td>\n",
       "      <td>AllPub</td>\n",
       "      <td>Norm</td>\n",
       "      <td>Norm</td>\n",
       "      <td>1Fam</td>\n",
       "      <td>1Story</td>\n",
       "      <td>7</td>\n",
       "      <td>1968</td>\n",
       "      <td>1968</td>\n",
       "      <td>CBlock</td>\n",
       "      <td>TA</td>\n",
       "      <td>Y</td>\n",
       "      <td>Ex</td>\n",
       "      <td>2010</td>\n",
       "      <td>244000</td>\n",
       "      <td>11160.00</td>\n",
       "      <td>2110</td>\n",
       "      <td>0</td>\n",
       "    </tr>\n",
       "    <tr>\n",
       "      <th>527105010</th>\n",
       "      <td>RL</td>\n",
       "      <td>IR1</td>\n",
       "      <td>AllPub</td>\n",
       "      <td>Norm</td>\n",
       "      <td>Norm</td>\n",
       "      <td>1Fam</td>\n",
       "      <td>2Story</td>\n",
       "      <td>5</td>\n",
       "      <td>1997</td>\n",
       "      <td>1998</td>\n",
       "      <td>PConc</td>\n",
       "      <td>Gd</td>\n",
       "      <td>Y</td>\n",
       "      <td>TA</td>\n",
       "      <td>2010</td>\n",
       "      <td>189900</td>\n",
       "      <td>13830.00</td>\n",
       "      <td>1629</td>\n",
       "      <td>0</td>\n",
       "    </tr>\n",
       "  </tbody>\n",
       "</table>\n",
       "</div>"
      ],
      "text/plain": [
       "          ms_zoning lot_shape utilities condition_1 condition_2 bldg_type  \\\n",
       "pid                                                                         \n",
       "526301100        RL       IR1    AllPub        Norm        Norm      1Fam   \n",
       "526350040        RH       Reg    AllPub       Feedr        Norm      1Fam   \n",
       "526351010        RL       IR1    AllPub        Norm        Norm      1Fam   \n",
       "526353030        RL       Reg    AllPub        Norm        Norm      1Fam   \n",
       "527105010        RL       IR1    AllPub        Norm        Norm      1Fam   \n",
       "\n",
       "          house_style  overall_qual  year_built  year_remod_add foundation  \\\n",
       "pid                                                                          \n",
       "526301100      1Story             6        1960            1960     CBlock   \n",
       "526350040      1Story             5        1961            1961     CBlock   \n",
       "526351010      1Story             6        1958            1958     CBlock   \n",
       "526353030      1Story             7        1968            1968     CBlock   \n",
       "527105010      2Story             5        1997            1998      PConc   \n",
       "\n",
       "          bsmt_qual central_air kitchen_qual yr_sold  sale_price  \\\n",
       "pid                                                                \n",
       "526301100        TA           Y           TA    2010      215000   \n",
       "526350040        TA           Y           TA    2010      105000   \n",
       "526351010        TA           Y           Gd    2010      172000   \n",
       "526353030        TA           Y           Ex    2010      244000   \n",
       "527105010        Gd           Y           TA    2010      189900   \n",
       "\n",
       "           lot_area_upper  first_second_flr  central_air_num  \n",
       "pid                                                           \n",
       "526301100        17727.75              1656                0  \n",
       "526350040        11622.00               896                0  \n",
       "526351010        14267.00              1329                0  \n",
       "526353030        11160.00              2110                0  \n",
       "527105010        13830.00              1629                0  "
      ]
     },
     "execution_count": 38,
     "metadata": {},
     "output_type": "execute_result"
    }
   ],
   "source": [
    "df['central_air_num'] = pd.factorize(df.central_air)[0]\n",
    "df.head()"
   ]
  },
  {
   "cell_type": "code",
   "execution_count": 39,
   "metadata": {},
   "outputs": [
    {
     "data": {
      "text/plain": [
       "sale_price          1.000000\n",
       "overall_qual        0.799262\n",
       "first_second_flr    0.713588\n",
       "year_built          0.558426\n",
       "year_remod_add      0.532974\n",
       "lot_area_upper      0.412271\n",
       "central_air_num    -0.264506\n",
       "Name: sale_price, dtype: float64"
      ]
     },
     "execution_count": 39,
     "metadata": {},
     "output_type": "execute_result"
    }
   ],
   "source": [
    "df.corr()['sale_price'].sort_values(ascending =False)"
   ]
  },
  {
   "cell_type": "code",
   "execution_count": 40,
   "metadata": {},
   "outputs": [
    {
     "data": {
      "image/png": "[encoded data removed]",
      "text/plain": [
       "<Figure size 1440x1080 with 1 Axes>"
      ]
     },
     "metadata": {
      "needs_background": "light"
     },
     "output_type": "display_data"
    }
   ],
   "source": [
    "fig = plt.figure(figsize=(20, 15))\n",
    "sns.set(font_scale=1.5)\n",
    "\n",
    "fig1 = fig.add_subplot(221); sns.boxplot(x='central_air', y='sale_price', data=df[['central_air', 'sale_price']]);"
   ]
  },
  {
   "cell_type": "markdown",
   "metadata": {},
   "source": [
    "#### ANOVA Test"
   ]
  },
  {
   "cell_type": "markdown",
   "metadata": {},
   "source": [
    "##### 1) Central Air Condition"
   ]
  },
  {
   "cell_type": "code",
   "execution_count": 42,
   "metadata": {},
   "outputs": [
    {
     "data": {
      "text/html": [
       "<div>\n",
       "<style scoped>\n",
       "    .dataframe tbody tr th:only-of-type {\n",
       "        vertical-align: middle;\n",
       "    }\n",
       "\n",
       "    .dataframe tbody tr th {\n",
       "        vertical-align: top;\n",
       "    }\n",
       "\n",
       "    .dataframe thead th {\n",
       "        text-align: right;\n",
       "    }\n",
       "</style>\n",
       "<table border=\"1\" class=\"dataframe\">\n",
       "  <thead>\n",
       "    <tr style=\"text-align: right;\">\n",
       "      <th></th>\n",
       "      <th>df</th>\n",
       "      <th>sum_sq</th>\n",
       "      <th>mean_sq</th>\n",
       "      <th>F</th>\n",
       "      <th>PR(&gt;F)</th>\n",
       "    </tr>\n",
       "  </thead>\n",
       "  <tbody>\n",
       "    <tr>\n",
       "      <th>central_air</th>\n",
       "      <td>1.0</td>\n",
       "      <td>1.307798e+12</td>\n",
       "      <td>1.307798e+12</td>\n",
       "      <td>220.263994</td>\n",
       "      <td>4.247468e-48</td>\n",
       "    </tr>\n",
       "    <tr>\n",
       "      <th>Residual</th>\n",
       "      <td>2928.0</td>\n",
       "      <td>1.738474e+13</td>\n",
       "      <td>5.937411e+09</td>\n",
       "      <td>NaN</td>\n",
       "      <td>NaN</td>\n",
       "    </tr>\n",
       "  </tbody>\n",
       "</table>\n",
       "</div>"
      ],
      "text/plain": [
       "                 df        sum_sq       mean_sq           F        PR(>F)\n",
       "central_air     1.0  1.307798e+12  1.307798e+12  220.263994  4.247468e-48\n",
       "Residual     2928.0  1.738474e+13  5.937411e+09         NaN           NaN"
      ]
     },
     "execution_count": 42,
     "metadata": {},
     "output_type": "execute_result"
    }
   ],
   "source": [
    "mod1 = ols('sale_price ~ central_air', data=df).fit()\n",
    "sm.stats.anova_lm(mod1)"
   ]
  },
  {
   "cell_type": "markdown",
   "metadata": {},
   "source": [
    "##### 2) MS Zoning"
   ]
  },
  {
   "cell_type": "code",
   "execution_count": 43,
   "metadata": {},
   "outputs": [
    {
     "data": {
      "text/plain": [
       "RL         0.775768\n",
       "RM         0.157679\n",
       "FV         0.047440\n",
       "RH         0.009215\n",
       "C (all)    0.008532\n",
       "A (agr)    0.000683\n",
       "I (all)    0.000683\n",
       "Name: ms_zoning, dtype: float64"
      ]
     },
     "execution_count": 43,
     "metadata": {},
     "output_type": "execute_result"
    }
   ],
   "source": [
    "df.ms_zoning.value_counts(normalize=True, dropna=False)"
   ]
  },
  {
   "cell_type": "code",
   "execution_count": 44,
   "metadata": {},
   "outputs": [
    {
     "data": {
      "image/png": "[encoded data removed]",
      "text/plain": [
       "<Figure size 1440x1080 with 1 Axes>"
      ]
     },
     "metadata": {},
     "output_type": "display_data"
    }
   ],
   "source": [
    "fig = plt.figure(figsize=(20, 15))\n",
    "sns.set(font_scale=1.5)\n",
    "\n",
    "fig1 = fig.add_subplot(221); sns.boxplot(x='ms_zoning', y='sale_price', data=df[['ms_zoning', 'sale_price']]);"
   ]
  },
  {
   "cell_type": "code",
   "execution_count": 45,
   "metadata": {},
   "outputs": [
    {
     "data": {
      "text/html": [
       "<div>\n",
       "<style scoped>\n",
       "    .dataframe tbody tr th:only-of-type {\n",
       "        vertical-align: middle;\n",
       "    }\n",
       "\n",
       "    .dataframe tbody tr th {\n",
       "        vertical-align: top;\n",
       "    }\n",
       "\n",
       "    .dataframe thead th {\n",
       "        text-align: right;\n",
       "    }\n",
       "</style>\n",
       "<table border=\"1\" class=\"dataframe\">\n",
       "  <thead>\n",
       "    <tr style=\"text-align: right;\">\n",
       "      <th></th>\n",
       "      <th>df</th>\n",
       "      <th>sum_sq</th>\n",
       "      <th>mean_sq</th>\n",
       "      <th>F</th>\n",
       "      <th>PR(&gt;F)</th>\n",
       "    </tr>\n",
       "  </thead>\n",
       "  <tbody>\n",
       "    <tr>\n",
       "      <th>ms_zoning</th>\n",
       "      <td>6.0</td>\n",
       "      <td>2.164685e+12</td>\n",
       "      <td>3.607808e+11</td>\n",
       "      <td>63.805169</td>\n",
       "      <td>1.100499e-74</td>\n",
       "    </tr>\n",
       "    <tr>\n",
       "      <th>Residual</th>\n",
       "      <td>2923.0</td>\n",
       "      <td>1.652785e+13</td>\n",
       "      <td>5.654414e+09</td>\n",
       "      <td>NaN</td>\n",
       "      <td>NaN</td>\n",
       "    </tr>\n",
       "  </tbody>\n",
       "</table>\n",
       "</div>"
      ],
      "text/plain": [
       "               df        sum_sq       mean_sq          F        PR(>F)\n",
       "ms_zoning     6.0  2.164685e+12  3.607808e+11  63.805169  1.100499e-74\n",
       "Residual   2923.0  1.652785e+13  5.654414e+09        NaN           NaN"
      ]
     },
     "execution_count": 45,
     "metadata": {},
     "output_type": "execute_result"
    }
   ],
   "source": [
    "mod2 = ols('sale_price ~ ms_zoning', data=df).fit()\n",
    "sm.stats.anova_lm(mod2)"
   ]
  },
  {
   "cell_type": "markdown",
   "metadata": {},
   "source": [
    "##### 3) Lot Shape"
   ]
  },
  {
   "cell_type": "code",
   "execution_count": 46,
   "metadata": {},
   "outputs": [
    {
     "data": {
      "text/plain": [
       "Reg    0.634471\n",
       "IR1    0.334130\n",
       "IR2    0.025939\n",
       "IR3    0.005461\n",
       "Name: lot_shape, dtype: float64"
      ]
     },
     "execution_count": 46,
     "metadata": {},
     "output_type": "execute_result"
    }
   ],
   "source": [
    "df.lot_shape.value_counts(normalize=True, dropna=False)"
   ]
  },
  {
   "cell_type": "code",
   "execution_count": 47,
   "metadata": {},
   "outputs": [
    {
     "data": {
      "image/png": "[encoded data removed]",
      "text/plain": [
       "<Figure size 1440x1080 with 1 Axes>"
      ]
     },
     "metadata": {},
     "output_type": "display_data"
    }
   ],
   "source": [
    "fig = plt.figure(figsize=(20, 15))\n",
    "sns.set(font_scale=1.5)\n",
    "\n",
    "fig1 = fig.add_subplot(221); sns.boxplot(x='lot_shape', y='sale_price', data=df[['lot_shape', 'sale_price']]);"
   ]
  },
  {
   "cell_type": "code",
   "execution_count": 48,
   "metadata": {},
   "outputs": [
    {
     "data": {
      "text/html": [
       "<div>\n",
       "<style scoped>\n",
       "    .dataframe tbody tr th:only-of-type {\n",
       "        vertical-align: middle;\n",
       "    }\n",
       "\n",
       "    .dataframe tbody tr th {\n",
       "        vertical-align: top;\n",
       "    }\n",
       "\n",
       "    .dataframe thead th {\n",
       "        text-align: right;\n",
       "    }\n",
       "</style>\n",
       "<table border=\"1\" class=\"dataframe\">\n",
       "  <thead>\n",
       "    <tr style=\"text-align: right;\">\n",
       "      <th></th>\n",
       "      <th>df</th>\n",
       "      <th>sum_sq</th>\n",
       "      <th>mean_sq</th>\n",
       "      <th>F</th>\n",
       "      <th>PR(&gt;F)</th>\n",
       "    </tr>\n",
       "  </thead>\n",
       "  <tbody>\n",
       "    <tr>\n",
       "      <th>lot_shape</th>\n",
       "      <td>3.0</td>\n",
       "      <td>1.713537e+12</td>\n",
       "      <td>5.711791e+11</td>\n",
       "      <td>98.431601</td>\n",
       "      <td>1.067863e-60</td>\n",
       "    </tr>\n",
       "    <tr>\n",
       "      <th>Residual</th>\n",
       "      <td>2926.0</td>\n",
       "      <td>1.697900e+13</td>\n",
       "      <td>5.802802e+09</td>\n",
       "      <td>NaN</td>\n",
       "      <td>NaN</td>\n",
       "    </tr>\n",
       "  </tbody>\n",
       "</table>\n",
       "</div>"
      ],
      "text/plain": [
       "               df        sum_sq       mean_sq          F        PR(>F)\n",
       "lot_shape     3.0  1.713537e+12  5.711791e+11  98.431601  1.067863e-60\n",
       "Residual   2926.0  1.697900e+13  5.802802e+09        NaN           NaN"
      ]
     },
     "execution_count": 48,
     "metadata": {},
     "output_type": "execute_result"
    }
   ],
   "source": [
    "mod3= ols('sale_price ~ lot_shape', data=df).fit()\n",
    "sm.stats.anova_lm(mod3)"
   ]
  },
  {
   "cell_type": "code",
   "execution_count": 49,
   "metadata": {},
   "outputs": [
    {
     "data": {
      "text/plain": [
       "Reg    0.634471\n",
       "IR     0.365529\n",
       "Name: lot_shape, dtype: float64"
      ]
     },
     "execution_count": 49,
     "metadata": {},
     "output_type": "execute_result"
    }
   ],
   "source": [
    "df.lot_shape.replace({'Reg': 'Reg', 'IR1': 'IR' , 'IR2': 'IR' , \"IR3\": 'IR'}, inplace=True)\n",
    "df.lot_shape.value_counts(normalize=True, dropna=False)"
   ]
  },
  {
   "cell_type": "code",
   "execution_count": 50,
   "metadata": {},
   "outputs": [
    {
     "data": {
      "text/html": [
       "<div>\n",
       "<style scoped>\n",
       "    .dataframe tbody tr th:only-of-type {\n",
       "        vertical-align: middle;\n",
       "    }\n",
       "\n",
       "    .dataframe tbody tr th {\n",
       "        vertical-align: top;\n",
       "    }\n",
       "\n",
       "    .dataframe thead th {\n",
       "        text-align: right;\n",
       "    }\n",
       "</style>\n",
       "<table border=\"1\" class=\"dataframe\">\n",
       "  <thead>\n",
       "    <tr style=\"text-align: right;\">\n",
       "      <th></th>\n",
       "      <th>df</th>\n",
       "      <th>sum_sq</th>\n",
       "      <th>mean_sq</th>\n",
       "      <th>F</th>\n",
       "      <th>PR(&gt;F)</th>\n",
       "    </tr>\n",
       "  </thead>\n",
       "  <tbody>\n",
       "    <tr>\n",
       "      <th>lot_shape</th>\n",
       "      <td>1.0</td>\n",
       "      <td>1.687504e+12</td>\n",
       "      <td>1.687504e+12</td>\n",
       "      <td>290.561783</td>\n",
       "      <td>3.407607e-62</td>\n",
       "    </tr>\n",
       "    <tr>\n",
       "      <th>Residual</th>\n",
       "      <td>2928.0</td>\n",
       "      <td>1.700503e+13</td>\n",
       "      <td>5.807730e+09</td>\n",
       "      <td>NaN</td>\n",
       "      <td>NaN</td>\n",
       "    </tr>\n",
       "  </tbody>\n",
       "</table>\n",
       "</div>"
      ],
      "text/plain": [
       "               df        sum_sq       mean_sq           F        PR(>F)\n",
       "lot_shape     1.0  1.687504e+12  1.687504e+12  290.561783  3.407607e-62\n",
       "Residual   2928.0  1.700503e+13  5.807730e+09         NaN           NaN"
      ]
     },
     "execution_count": 50,
     "metadata": {},
     "output_type": "execute_result"
    }
   ],
   "source": [
    "mod3= ols('sale_price ~ lot_shape', data=df).fit()\n",
    "sm.stats.anova_lm(mod3)"
   ]
  },
  {
   "cell_type": "markdown",
   "metadata": {},
   "source": [
    "##### 4) Utilities"
   ]
  },
  {
   "cell_type": "code",
   "execution_count": 51,
   "metadata": {},
   "outputs": [
    {
     "data": {
      "text/plain": [
       "AllPub    0.998976\n",
       "NoSewr    0.000683\n",
       "NoSeWa    0.000341\n",
       "Name: utilities, dtype: float64"
      ]
     },
     "execution_count": 51,
     "metadata": {},
     "output_type": "execute_result"
    }
   ],
   "source": [
    "df.utilities.value_counts(normalize=True, dropna=False)"
   ]
  },
  {
   "cell_type": "code",
   "execution_count": 52,
   "metadata": {},
   "outputs": [
    {
     "data": {
      "image/png": "[encoded data removed]",
      "text/plain": [
       "<Figure size 1440x1080 with 1 Axes>"
      ]
     },
     "metadata": {},
     "output_type": "display_data"
    }
   ],
   "source": [
    "fig = plt.figure(figsize=(20, 15))\n",
    "sns.set(font_scale=1.5)\n",
    "\n",
    "fig1 = fig.add_subplot(221); sns.boxplot(x='utilities', y='sale_price', data=df[['utilities', 'sale_price']]);"
   ]
  },
  {
   "cell_type": "code",
   "execution_count": 53,
   "metadata": {},
   "outputs": [
    {
     "data": {
      "text/html": [
       "<div>\n",
       "<style scoped>\n",
       "    .dataframe tbody tr th:only-of-type {\n",
       "        vertical-align: middle;\n",
       "    }\n",
       "\n",
       "    .dataframe tbody tr th {\n",
       "        vertical-align: top;\n",
       "    }\n",
       "\n",
       "    .dataframe thead th {\n",
       "        text-align: right;\n",
       "    }\n",
       "</style>\n",
       "<table border=\"1\" class=\"dataframe\">\n",
       "  <thead>\n",
       "    <tr style=\"text-align: right;\">\n",
       "      <th></th>\n",
       "      <th>df</th>\n",
       "      <th>sum_sq</th>\n",
       "      <th>mean_sq</th>\n",
       "      <th>F</th>\n",
       "      <th>PR(&gt;F)</th>\n",
       "    </tr>\n",
       "  </thead>\n",
       "  <tbody>\n",
       "    <tr>\n",
       "      <th>utilities</th>\n",
       "      <td>2.0</td>\n",
       "      <td>1.974727e+10</td>\n",
       "      <td>9.873633e+09</td>\n",
       "      <td>1.547713</td>\n",
       "      <td>0.212908</td>\n",
       "    </tr>\n",
       "    <tr>\n",
       "      <th>Residual</th>\n",
       "      <td>2927.0</td>\n",
       "      <td>1.867279e+13</td>\n",
       "      <td>6.379498e+09</td>\n",
       "      <td>NaN</td>\n",
       "      <td>NaN</td>\n",
       "    </tr>\n",
       "  </tbody>\n",
       "</table>\n",
       "</div>"
      ],
      "text/plain": [
       "               df        sum_sq       mean_sq         F    PR(>F)\n",
       "utilities     2.0  1.974727e+10  9.873633e+09  1.547713  0.212908\n",
       "Residual   2927.0  1.867279e+13  6.379498e+09       NaN       NaN"
      ]
     },
     "execution_count": 53,
     "metadata": {},
     "output_type": "execute_result"
    }
   ],
   "source": [
    "mod4= ols('sale_price ~ utilities', data=df).fit()\n",
    "sm.stats.anova_lm(mod4)"
   ]
  },
  {
   "cell_type": "markdown",
   "metadata": {},
   "source": [
    "##### 5) Building Type"
   ]
  },
  {
   "cell_type": "code",
   "execution_count": 54,
   "metadata": {},
   "outputs": [
    {
     "data": {
      "text/plain": [
       "1Fam      0.827645\n",
       "TwnhsE    0.079522\n",
       "Duplex    0.037201\n",
       "Twnhs     0.034471\n",
       "2fmCon    0.021160\n",
       "Name: bldg_type, dtype: float64"
      ]
     },
     "execution_count": 54,
     "metadata": {},
     "output_type": "execute_result"
    }
   ],
   "source": [
    "df.bldg_type.value_counts(normalize=True, dropna=False)"
   ]
  },
  {
   "cell_type": "code",
   "execution_count": 55,
   "metadata": {},
   "outputs": [
    {
     "data": {
      "image/png": "[encoded data removed]",
      "text/plain": [
       "<Figure size 1440x1080 with 1 Axes>"
      ]
     },
     "metadata": {},
     "output_type": "display_data"
    }
   ],
   "source": [
    "fig = plt.figure(figsize=(20, 15))\n",
    "sns.set(font_scale=1.5)\n",
    "\n",
    "fig1 = fig.add_subplot(221); sns.boxplot(x='bldg_type', y='sale_price', data=df[['bldg_type', 'sale_price']]);"
   ]
  },
  {
   "cell_type": "code",
   "execution_count": 56,
   "metadata": {},
   "outputs": [
    {
     "data": {
      "text/plain": [
       "Family    0.827645\n",
       "Others    0.092833\n",
       "TwnhsE    0.079522\n",
       "Name: bldg_type, dtype: float64"
      ]
     },
     "execution_count": 56,
     "metadata": {},
     "output_type": "execute_result"
    }
   ],
   "source": [
    "df.bldg_type.replace({'1Fam': 'Family', 'TwnhsE': 'TwnhsE' , 'Twnhs': 'Others' , \n",
    "                      \"Duplex\": 'Others', '2fmCon': 'Others'}, inplace=True)\n",
    "df.bldg_type.value_counts(normalize=True, dropna=False)"
   ]
  },
  {
   "cell_type": "code",
   "execution_count": 57,
   "metadata": {},
   "outputs": [
    {
     "data": {
      "image/png": "[encoded data removed]",
      "text/plain": [
       "<Figure size 1440x1080 with 1 Axes>"
      ]
     },
     "metadata": {},
     "output_type": "display_data"
    }
   ],
   "source": [
    "fig = plt.figure(figsize=(20, 15))\n",
    "sns.set(font_scale=1.5)\n",
    "\n",
    "fig1 = fig.add_subplot(221); sns.boxplot(x='bldg_type', y='sale_price', data=df[['bldg_type', 'sale_price']]);"
   ]
  },
  {
   "cell_type": "code",
   "execution_count": 58,
   "metadata": {},
   "outputs": [
    {
     "data": {
      "text/html": [
       "<div>\n",
       "<style scoped>\n",
       "    .dataframe tbody tr th:only-of-type {\n",
       "        vertical-align: middle;\n",
       "    }\n",
       "\n",
       "    .dataframe tbody tr th {\n",
       "        vertical-align: top;\n",
       "    }\n",
       "\n",
       "    .dataframe thead th {\n",
       "        text-align: right;\n",
       "    }\n",
       "</style>\n",
       "<table border=\"1\" class=\"dataframe\">\n",
       "  <thead>\n",
       "    <tr style=\"text-align: right;\">\n",
       "      <th></th>\n",
       "      <th>df</th>\n",
       "      <th>sum_sq</th>\n",
       "      <th>mean_sq</th>\n",
       "      <th>F</th>\n",
       "      <th>PR(&gt;F)</th>\n",
       "    </tr>\n",
       "  </thead>\n",
       "  <tbody>\n",
       "    <tr>\n",
       "      <th>bldg_type</th>\n",
       "      <td>2.0</td>\n",
       "      <td>6.373070e+11</td>\n",
       "      <td>3.186535e+11</td>\n",
       "      <td>51.658094</td>\n",
       "      <td>8.954587e-23</td>\n",
       "    </tr>\n",
       "    <tr>\n",
       "      <th>Residual</th>\n",
       "      <td>2927.0</td>\n",
       "      <td>1.805523e+13</td>\n",
       "      <td>6.168510e+09</td>\n",
       "      <td>NaN</td>\n",
       "      <td>NaN</td>\n",
       "    </tr>\n",
       "  </tbody>\n",
       "</table>\n",
       "</div>"
      ],
      "text/plain": [
       "               df        sum_sq       mean_sq          F        PR(>F)\n",
       "bldg_type     2.0  6.373070e+11  3.186535e+11  51.658094  8.954587e-23\n",
       "Residual   2927.0  1.805523e+13  6.168510e+09        NaN           NaN"
      ]
     },
     "execution_count": 58,
     "metadata": {},
     "output_type": "execute_result"
    }
   ],
   "source": [
    "mod5= ols('sale_price ~ bldg_type', data=df).fit()\n",
    "sm.stats.anova_lm(mod5)"
   ]
  },
  {
   "cell_type": "markdown",
   "metadata": {},
   "source": [
    "##### 6) House Style"
   ]
  },
  {
   "cell_type": "code",
   "execution_count": 59,
   "metadata": {},
   "outputs": [
    {
     "data": {
      "text/plain": [
       "1Story    0.505461\n",
       "2Story    0.297952\n",
       "1.5Fin    0.107167\n",
       "SLvl      0.043686\n",
       "SFoyer    0.028328\n",
       "2.5Unf    0.008191\n",
       "1.5Unf    0.006485\n",
       "2.5Fin    0.002730\n",
       "Name: house_style, dtype: float64"
      ]
     },
     "execution_count": 59,
     "metadata": {},
     "output_type": "execute_result"
    }
   ],
   "source": [
    "df.house_style.value_counts(normalize=True, dropna=False)"
   ]
  },
  {
   "cell_type": "code",
   "execution_count": 60,
   "metadata": {},
   "outputs": [
    {
     "data": {
      "image/png": "[encoded data removed]",
      "text/plain": [
       "<Figure size 1440x1080 with 1 Axes>"
      ]
     },
     "metadata": {},
     "output_type": "display_data"
    }
   ],
   "source": [
    "fig = plt.figure(figsize=(20, 15))\n",
    "sns.set(font_scale=1.5)\n",
    "\n",
    "fig1 = fig.add_subplot(221); sns.boxplot(x='house_style', y='sale_price', data=df[['house_style', 'sale_price']]);"
   ]
  },
  {
   "cell_type": "code",
   "execution_count": 61,
   "metadata": {},
   "outputs": [
    {
     "data": {
      "text/html": [
       "<div>\n",
       "<style scoped>\n",
       "    .dataframe tbody tr th:only-of-type {\n",
       "        vertical-align: middle;\n",
       "    }\n",
       "\n",
       "    .dataframe tbody tr th {\n",
       "        vertical-align: top;\n",
       "    }\n",
       "\n",
       "    .dataframe thead th {\n",
       "        text-align: right;\n",
       "    }\n",
       "</style>\n",
       "<table border=\"1\" class=\"dataframe\">\n",
       "  <thead>\n",
       "    <tr style=\"text-align: right;\">\n",
       "      <th></th>\n",
       "      <th>df</th>\n",
       "      <th>sum_sq</th>\n",
       "      <th>mean_sq</th>\n",
       "      <th>F</th>\n",
       "      <th>PR(&gt;F)</th>\n",
       "    </tr>\n",
       "  </thead>\n",
       "  <tbody>\n",
       "    <tr>\n",
       "      <th>house_style</th>\n",
       "      <td>7.0</td>\n",
       "      <td>1.447509e+12</td>\n",
       "      <td>2.067870e+11</td>\n",
       "      <td>35.038012</td>\n",
       "      <td>3.028710e-47</td>\n",
       "    </tr>\n",
       "    <tr>\n",
       "      <th>Residual</th>\n",
       "      <td>2922.0</td>\n",
       "      <td>1.724503e+13</td>\n",
       "      <td>5.901789e+09</td>\n",
       "      <td>NaN</td>\n",
       "      <td>NaN</td>\n",
       "    </tr>\n",
       "  </tbody>\n",
       "</table>\n",
       "</div>"
      ],
      "text/plain": [
       "                 df        sum_sq       mean_sq          F        PR(>F)\n",
       "house_style     7.0  1.447509e+12  2.067870e+11  35.038012  3.028710e-47\n",
       "Residual     2922.0  1.724503e+13  5.901789e+09        NaN           NaN"
      ]
     },
     "execution_count": 61,
     "metadata": {},
     "output_type": "execute_result"
    }
   ],
   "source": [
    "mod6= ols('sale_price ~ house_style', data=df).fit()\n",
    "sm.stats.anova_lm(mod6)"
   ]
  },
  {
   "cell_type": "markdown",
   "metadata": {},
   "source": [
    "##### 7) Foundation"
   ]
  },
  {
   "cell_type": "code",
   "execution_count": 62,
   "metadata": {
    "scrolled": true
   },
   "outputs": [
    {
     "data": {
      "text/plain": [
       "PConc     0.447099\n",
       "CBlock    0.424573\n",
       "BrkTil    0.106143\n",
       "Slab      0.016724\n",
       "Stone     0.003754\n",
       "Wood      0.001706\n",
       "Name: foundation, dtype: float64"
      ]
     },
     "execution_count": 62,
     "metadata": {},
     "output_type": "execute_result"
    }
   ],
   "source": [
    "df.foundation.value_counts(normalize=True, dropna=False)"
   ]
  },
  {
   "cell_type": "code",
   "execution_count": 63,
   "metadata": {},
   "outputs": [
    {
     "data": {
      "image/png": "[encoded data removed]",
      "text/plain": [
       "<Figure size 1440x1080 with 1 Axes>"
      ]
     },
     "metadata": {},
     "output_type": "display_data"
    }
   ],
   "source": [
    "fig = plt.figure(figsize=(20, 15))\n",
    "sns.set(font_scale=1.5)\n",
    "\n",
    "fig1 = fig.add_subplot(221); sns.boxplot(x='foundation', y='sale_price', data=df[['foundation', 'sale_price']]);"
   ]
  },
  {
   "cell_type": "code",
   "execution_count": 64,
   "metadata": {},
   "outputs": [
    {
     "data": {
      "text/html": [
       "<div>\n",
       "<style scoped>\n",
       "    .dataframe tbody tr th:only-of-type {\n",
       "        vertical-align: middle;\n",
       "    }\n",
       "\n",
       "    .dataframe tbody tr th {\n",
       "        vertical-align: top;\n",
       "    }\n",
       "\n",
       "    .dataframe thead th {\n",
       "        text-align: right;\n",
       "    }\n",
       "</style>\n",
       "<table border=\"1\" class=\"dataframe\">\n",
       "  <thead>\n",
       "    <tr style=\"text-align: right;\">\n",
       "      <th></th>\n",
       "      <th>df</th>\n",
       "      <th>sum_sq</th>\n",
       "      <th>mean_sq</th>\n",
       "      <th>F</th>\n",
       "      <th>PR(&gt;F)</th>\n",
       "    </tr>\n",
       "  </thead>\n",
       "  <tbody>\n",
       "    <tr>\n",
       "      <th>foundation</th>\n",
       "      <td>5.0</td>\n",
       "      <td>5.236323e+12</td>\n",
       "      <td>1.047265e+12</td>\n",
       "      <td>227.567827</td>\n",
       "      <td>1.267124e-205</td>\n",
       "    </tr>\n",
       "    <tr>\n",
       "      <th>Residual</th>\n",
       "      <td>2924.0</td>\n",
       "      <td>1.345621e+13</td>\n",
       "      <td>4.601989e+09</td>\n",
       "      <td>NaN</td>\n",
       "      <td>NaN</td>\n",
       "    </tr>\n",
       "  </tbody>\n",
       "</table>\n",
       "</div>"
      ],
      "text/plain": [
       "                df        sum_sq       mean_sq           F         PR(>F)\n",
       "foundation     5.0  5.236323e+12  1.047265e+12  227.567827  1.267124e-205\n",
       "Residual    2924.0  1.345621e+13  4.601989e+09         NaN            NaN"
      ]
     },
     "execution_count": 64,
     "metadata": {},
     "output_type": "execute_result"
    }
   ],
   "source": [
    "mod7= ols('sale_price ~ foundation', data=df).fit()\n",
    "sm.stats.anova_lm(mod7)"
   ]
  },
  {
   "cell_type": "markdown",
   "metadata": {},
   "source": [
    "##### 8) Basement Quality"
   ]
  },
  {
   "cell_type": "code",
   "execution_count": 65,
   "metadata": {},
   "outputs": [
    {
     "data": {
      "text/plain": [
       "TA     0.437884\n",
       "Gd     0.416041\n",
       "Ex     0.088055\n",
       "Fa     0.030034\n",
       "NaN    0.027304\n",
       "Po     0.000683\n",
       "Name: bsmt_qual, dtype: float64"
      ]
     },
     "execution_count": 65,
     "metadata": {},
     "output_type": "execute_result"
    }
   ],
   "source": [
    "df.bsmt_qual.value_counts(normalize=True, dropna=False)"
   ]
  },
  {
   "cell_type": "code",
   "execution_count": 66,
   "metadata": {},
   "outputs": [],
   "source": [
    "df['bsmt_qual'] = np.where(df.bsmt_qual.isnull(), df.bsmt_qual.mode(), df.bsmt_qual)"
   ]
  },
  {
   "cell_type": "code",
   "execution_count": 67,
   "metadata": {},
   "outputs": [
    {
     "data": {
      "text/plain": [
       "TA    0.465188\n",
       "Gd    0.416041\n",
       "Ex    0.088055\n",
       "Fa    0.030034\n",
       "Po    0.000683\n",
       "Name: bsmt_qual, dtype: float64"
      ]
     },
     "execution_count": 67,
     "metadata": {},
     "output_type": "execute_result"
    }
   ],
   "source": [
    "df.bsmt_qual.value_counts(normalize=True, dropna=False)"
   ]
  },
  {
   "cell_type": "code",
   "execution_count": 68,
   "metadata": {},
   "outputs": [
    {
     "data": {
      "image/png": "[encoded data removed]",
      "text/plain": [
       "<Figure size 1440x1080 with 1 Axes>"
      ]
     },
     "metadata": {},
     "output_type": "display_data"
    }
   ],
   "source": [
    "fig = plt.figure(figsize=(20, 15))\n",
    "sns.set(font_scale=1.5)\n",
    "\n",
    "fig1 = fig.add_subplot(221); sns.boxplot(x='bsmt_qual', y='sale_price', data=df[['bsmt_qual', 'sale_price']]);"
   ]
  },
  {
   "cell_type": "code",
   "execution_count": 69,
   "metadata": {},
   "outputs": [
    {
     "data": {
      "text/html": [
       "<div>\n",
       "<style scoped>\n",
       "    .dataframe tbody tr th:only-of-type {\n",
       "        vertical-align: middle;\n",
       "    }\n",
       "\n",
       "    .dataframe tbody tr th {\n",
       "        vertical-align: top;\n",
       "    }\n",
       "\n",
       "    .dataframe thead th {\n",
       "        text-align: right;\n",
       "    }\n",
       "</style>\n",
       "<table border=\"1\" class=\"dataframe\">\n",
       "  <thead>\n",
       "    <tr style=\"text-align: right;\">\n",
       "      <th></th>\n",
       "      <th>df</th>\n",
       "      <th>sum_sq</th>\n",
       "      <th>mean_sq</th>\n",
       "      <th>F</th>\n",
       "      <th>PR(&gt;F)</th>\n",
       "    </tr>\n",
       "  </thead>\n",
       "  <tbody>\n",
       "    <tr>\n",
       "      <th>bsmt_qual</th>\n",
       "      <td>4.0</td>\n",
       "      <td>9.508260e+12</td>\n",
       "      <td>2.377065e+12</td>\n",
       "      <td>757.04551</td>\n",
       "      <td>0.0</td>\n",
       "    </tr>\n",
       "    <tr>\n",
       "      <th>Residual</th>\n",
       "      <td>2925.0</td>\n",
       "      <td>9.184277e+12</td>\n",
       "      <td>3.139924e+09</td>\n",
       "      <td>NaN</td>\n",
       "      <td>NaN</td>\n",
       "    </tr>\n",
       "  </tbody>\n",
       "</table>\n",
       "</div>"
      ],
      "text/plain": [
       "               df        sum_sq       mean_sq          F  PR(>F)\n",
       "bsmt_qual     4.0  9.508260e+12  2.377065e+12  757.04551     0.0\n",
       "Residual   2925.0  9.184277e+12  3.139924e+09        NaN     NaN"
      ]
     },
     "execution_count": 69,
     "metadata": {},
     "output_type": "execute_result"
    }
   ],
   "source": [
    "mod8= ols('sale_price ~ bsmt_qual', data=df).fit()\n",
    "sm.stats.anova_lm(mod8)"
   ]
  },
  {
   "cell_type": "code",
   "execution_count": 70,
   "metadata": {},
   "outputs": [],
   "source": [
    "df.bsmt_qual.replace({'TA': 'TA', 'Gd': 'Gd' , 'Ex': 'Ex' , \n",
    "                      \"Fa\": 'TA', 'Po': 'TA'}, inplace=True)"
   ]
  },
  {
   "cell_type": "code",
   "execution_count": 71,
   "metadata": {},
   "outputs": [
    {
     "data": {
      "text/html": [
       "<div>\n",
       "<style scoped>\n",
       "    .dataframe tbody tr th:only-of-type {\n",
       "        vertical-align: middle;\n",
       "    }\n",
       "\n",
       "    .dataframe tbody tr th {\n",
       "        vertical-align: top;\n",
       "    }\n",
       "\n",
       "    .dataframe thead th {\n",
       "        text-align: right;\n",
       "    }\n",
       "</style>\n",
       "<table border=\"1\" class=\"dataframe\">\n",
       "  <thead>\n",
       "    <tr style=\"text-align: right;\">\n",
       "      <th></th>\n",
       "      <th>df</th>\n",
       "      <th>sum_sq</th>\n",
       "      <th>mean_sq</th>\n",
       "      <th>F</th>\n",
       "      <th>PR(&gt;F)</th>\n",
       "    </tr>\n",
       "  </thead>\n",
       "  <tbody>\n",
       "    <tr>\n",
       "      <th>bsmt_qual</th>\n",
       "      <td>2.0</td>\n",
       "      <td>9.436826e+12</td>\n",
       "      <td>4.718413e+12</td>\n",
       "      <td>1492.137498</td>\n",
       "      <td>0.0</td>\n",
       "    </tr>\n",
       "    <tr>\n",
       "      <th>Residual</th>\n",
       "      <td>2927.0</td>\n",
       "      <td>9.255712e+12</td>\n",
       "      <td>3.162184e+09</td>\n",
       "      <td>NaN</td>\n",
       "      <td>NaN</td>\n",
       "    </tr>\n",
       "  </tbody>\n",
       "</table>\n",
       "</div>"
      ],
      "text/plain": [
       "               df        sum_sq       mean_sq            F  PR(>F)\n",
       "bsmt_qual     2.0  9.436826e+12  4.718413e+12  1492.137498     0.0\n",
       "Residual   2927.0  9.255712e+12  3.162184e+09          NaN     NaN"
      ]
     },
     "execution_count": 71,
     "metadata": {},
     "output_type": "execute_result"
    }
   ],
   "source": [
    "mod8= ols('sale_price ~ bsmt_qual', data=df).fit()\n",
    "sm.stats.anova_lm(mod8)"
   ]
  },
  {
   "cell_type": "code",
   "execution_count": 72,
   "metadata": {},
   "outputs": [
    {
     "data": {
      "text/plain": [
       "TA    0.509898\n",
       "Gd    0.395904\n",
       "Ex    0.069966\n",
       "Fa    0.023891\n",
       "Po    0.000341\n",
       "Name: kitchen_qual, dtype: float64"
      ]
     },
     "execution_count": 72,
     "metadata": {},
     "output_type": "execute_result"
    }
   ],
   "source": [
    "df.kitchen_qual.value_counts(normalize=True, dropna=False)\n"
   ]
  },
  {
   "cell_type": "code",
   "execution_count": 73,
   "metadata": {},
   "outputs": [
    {
     "data": {
      "image/png": "[encoded data removed]",
      "text/plain": [
       "<Figure size 1440x1080 with 1 Axes>"
      ]
     },
     "metadata": {},
     "output_type": "display_data"
    }
   ],
   "source": [
    "fig = plt.figure(figsize=(20, 15))\n",
    "sns.set(font_scale=1.5)\n",
    "\n",
    "fig1 = fig.add_subplot(221); sns.boxplot(x='kitchen_qual', y='sale_price', data=df[['kitchen_qual', 'sale_price']]);"
   ]
  },
  {
   "cell_type": "markdown",
   "metadata": {},
   "source": [
    "##### 9) Kitchen Quality"
   ]
  },
  {
   "cell_type": "code",
   "execution_count": 74,
   "metadata": {},
   "outputs": [
    {
     "data": {
      "text/plain": [
       "TA    0.509898\n",
       "Gd    0.395904\n",
       "Ex    0.069966\n",
       "Fa    0.023891\n",
       "Po    0.000341\n",
       "Name: kitchen_qual, dtype: float64"
      ]
     },
     "execution_count": 74,
     "metadata": {},
     "output_type": "execute_result"
    }
   ],
   "source": [
    "df.kitchen_qual.value_counts(normalize=True, dropna=False)"
   ]
  },
  {
   "cell_type": "code",
   "execution_count": 75,
   "metadata": {},
   "outputs": [
    {
     "data": {
      "image/png": "[encoded data removed]",
      "text/plain": [
       "<Figure size 1440x1080 with 1 Axes>"
      ]
     },
     "metadata": {},
     "output_type": "display_data"
    }
   ],
   "source": [
    "fig = plt.figure(figsize=(20, 15))\n",
    "sns.set(font_scale=1.5)\n",
    "\n",
    "fig1 = fig.add_subplot(221); sns.boxplot(x='kitchen_qual', y='sale_price', data=df[['kitchen_qual', 'sale_price']]);"
   ]
  },
  {
   "cell_type": "code",
   "execution_count": 76,
   "metadata": {},
   "outputs": [],
   "source": [
    "df.kitchen_qual.replace({'TA': 'TA', 'Gd': 'Gd' , 'Ex': 'Ex' , \n",
    "                      \"Fa\": 'TA', 'Po': 'TA'}, inplace=True)"
   ]
  },
  {
   "cell_type": "code",
   "execution_count": 77,
   "metadata": {},
   "outputs": [
    {
     "data": {
      "image/png": "[encoded data removed]",
      "text/plain": [
       "<Figure size 1440x1080 with 1 Axes>"
      ]
     },
     "metadata": {},
     "output_type": "display_data"
    }
   ],
   "source": [
    "fig = plt.figure(figsize=(20, 15))\n",
    "sns.set(font_scale=1.5)\n",
    "\n",
    "fig1 = fig.add_subplot(221); sns.boxplot(x='kitchen_qual', y='sale_price', data=df[['kitchen_qual', 'sale_price']]);"
   ]
  },
  {
   "cell_type": "code",
   "execution_count": 78,
   "metadata": {
    "scrolled": true
   },
   "outputs": [
    {
     "data": {
      "text/html": [
       "<div>\n",
       "<style scoped>\n",
       "    .dataframe tbody tr th:only-of-type {\n",
       "        vertical-align: middle;\n",
       "    }\n",
       "\n",
       "    .dataframe tbody tr th {\n",
       "        vertical-align: top;\n",
       "    }\n",
       "\n",
       "    .dataframe thead th {\n",
       "        text-align: right;\n",
       "    }\n",
       "</style>\n",
       "<table border=\"1\" class=\"dataframe\">\n",
       "  <thead>\n",
       "    <tr style=\"text-align: right;\">\n",
       "      <th></th>\n",
       "      <th>df</th>\n",
       "      <th>sum_sq</th>\n",
       "      <th>mean_sq</th>\n",
       "      <th>F</th>\n",
       "      <th>PR(&gt;F)</th>\n",
       "    </tr>\n",
       "  </thead>\n",
       "  <tbody>\n",
       "    <tr>\n",
       "      <th>kitchen_qual</th>\n",
       "      <td>2.0</td>\n",
       "      <td>8.933439e+12</td>\n",
       "      <td>4.466720e+12</td>\n",
       "      <td>1339.681991</td>\n",
       "      <td>0.0</td>\n",
       "    </tr>\n",
       "    <tr>\n",
       "      <th>Residual</th>\n",
       "      <td>2927.0</td>\n",
       "      <td>9.759098e+12</td>\n",
       "      <td>3.334164e+09</td>\n",
       "      <td>NaN</td>\n",
       "      <td>NaN</td>\n",
       "    </tr>\n",
       "  </tbody>\n",
       "</table>\n",
       "</div>"
      ],
      "text/plain": [
       "                  df        sum_sq       mean_sq            F  PR(>F)\n",
       "kitchen_qual     2.0  8.933439e+12  4.466720e+12  1339.681991     0.0\n",
       "Residual      2927.0  9.759098e+12  3.334164e+09          NaN     NaN"
      ]
     },
     "execution_count": 78,
     "metadata": {},
     "output_type": "execute_result"
    }
   ],
   "source": [
    "mod9= ols('sale_price ~ kitchen_qual', data=df).fit()\n",
    "sm.stats.anova_lm(mod9)"
   ]
  },
  {
   "cell_type": "markdown",
   "metadata": {},
   "source": [
    "##### Whether Kitchen Quality and Basement Quality Correlated Each other??? If So how you identify it??\n",
    "![](img/ques_confuse.jpg)"
   ]
  },
  {
   "cell_type": "markdown",
   "metadata": {},
   "source": [
    "### CHI-SQUARE Test"
   ]
  },
  {
   "cell_type": "code",
   "execution_count": 79,
   "metadata": {},
   "outputs": [
    {
     "data": {
      "text/html": [
       "<div>\n",
       "<style scoped>\n",
       "    .dataframe tbody tr th:only-of-type {\n",
       "        vertical-align: middle;\n",
       "    }\n",
       "\n",
       "    .dataframe tbody tr th {\n",
       "        vertical-align: top;\n",
       "    }\n",
       "\n",
       "    .dataframe thead th {\n",
       "        text-align: right;\n",
       "    }\n",
       "</style>\n",
       "<table border=\"1\" class=\"dataframe\">\n",
       "  <thead>\n",
       "    <tr style=\"text-align: right;\">\n",
       "      <th>kitchen_qual</th>\n",
       "      <th>Ex</th>\n",
       "      <th>Gd</th>\n",
       "      <th>TA</th>\n",
       "      <th>All</th>\n",
       "    </tr>\n",
       "    <tr>\n",
       "      <th>bsmt_qual</th>\n",
       "      <th></th>\n",
       "      <th></th>\n",
       "      <th></th>\n",
       "      <th></th>\n",
       "    </tr>\n",
       "  </thead>\n",
       "  <tbody>\n",
       "    <tr>\n",
       "      <th>Ex</th>\n",
       "      <td>138</td>\n",
       "      <td>104</td>\n",
       "      <td>16</td>\n",
       "      <td>258</td>\n",
       "    </tr>\n",
       "    <tr>\n",
       "      <th>Gd</th>\n",
       "      <td>43</td>\n",
       "      <td>806</td>\n",
       "      <td>370</td>\n",
       "      <td>1219</td>\n",
       "    </tr>\n",
       "    <tr>\n",
       "      <th>TA</th>\n",
       "      <td>24</td>\n",
       "      <td>250</td>\n",
       "      <td>1179</td>\n",
       "      <td>1453</td>\n",
       "    </tr>\n",
       "    <tr>\n",
       "      <th>All</th>\n",
       "      <td>205</td>\n",
       "      <td>1160</td>\n",
       "      <td>1565</td>\n",
       "      <td>2930</td>\n",
       "    </tr>\n",
       "  </tbody>\n",
       "</table>\n",
       "</div>"
      ],
      "text/plain": [
       "kitchen_qual   Ex    Gd    TA   All\n",
       "bsmt_qual                          \n",
       "Ex            138   104    16   258\n",
       "Gd             43   806   370  1219\n",
       "TA             24   250  1179  1453\n",
       "All           205  1160  1565  2930"
      ]
     },
     "execution_count": 79,
     "metadata": {},
     "output_type": "execute_result"
    }
   ],
   "source": [
    "contingency_table = pd.crosstab(\n",
    "    df.bsmt_qual,\n",
    "    df.kitchen_qual,\n",
    "    margins = True\n",
    ")\n",
    "contingency_table"
   ]
  },
  {
   "cell_type": "code",
   "execution_count": 80,
   "metadata": {},
   "outputs": [
    {
     "data": {
      "text/plain": [
       "array([[ 138,  104,   16],\n",
       "       [  43,  806,  370],\n",
       "       [  24,  250, 1179]])"
      ]
     },
     "execution_count": 80,
     "metadata": {},
     "output_type": "execute_result"
    }
   ],
   "source": [
    "f_obs = np.array([contingency_table.iloc[0][0:3].values,\n",
    "                  contingency_table.iloc[1][0:3].values,\n",
    "                  contingency_table.iloc[2][0:3].values])\n",
    "f_obs"
   ]
  },
  {
   "cell_type": "code",
   "execution_count": 81,
   "metadata": {},
   "outputs": [
    {
     "data": {
      "text/plain": [
       "(1716.1767681944539, 0.0, 4)"
      ]
     },
     "execution_count": 81,
     "metadata": {},
     "output_type": "execute_result"
    }
   ],
   "source": [
    "stats.chi2_contingency(f_obs)[0:3]"
   ]
  },
  {
   "cell_type": "markdown",
   "metadata": {},
   "source": [
    "##### 10) Year Sold - Dropped"
   ]
  },
  {
   "cell_type": "code",
   "execution_count": 82,
   "metadata": {},
   "outputs": [
    {
     "data": {
      "text/plain": [
       "2007    694\n",
       "2009    648\n",
       "2006    625\n",
       "2008    622\n",
       "2010    341\n",
       "Name: yr_sold, dtype: int64"
      ]
     },
     "execution_count": 82,
     "metadata": {},
     "output_type": "execute_result"
    }
   ],
   "source": [
    "df.yr_sold.value_counts()"
   ]
  },
  {
   "cell_type": "code",
   "execution_count": 83,
   "metadata": {},
   "outputs": [
    {
     "data": {
      "image/png": "[encoded data removed]",
      "text/plain": [
       "<Figure size 1440x1080 with 1 Axes>"
      ]
     },
     "metadata": {},
     "output_type": "display_data"
    }
   ],
   "source": [
    "fig = plt.figure(figsize=(20, 15))\n",
    "sns.set(font_scale=1.5)\n",
    "\n",
    "fig1 = fig.add_subplot(221); sns.boxplot(x='yr_sold', y='sale_price', data=df[['yr_sold', 'sale_price']]);"
   ]
  },
  {
   "cell_type": "markdown",
   "metadata": {},
   "source": [
    "##### 11) Condition"
   ]
  },
  {
   "cell_type": "code",
   "execution_count": 84,
   "metadata": {},
   "outputs": [
    {
     "data": {
      "text/plain": [
       "Norm      0.860751\n",
       "Feedr     0.055973\n",
       "Artery    0.031399\n",
       "RRAn      0.017065\n",
       "PosN      0.013311\n",
       "RRAe      0.009556\n",
       "PosA      0.006826\n",
       "RRNn      0.003072\n",
       "RRNe      0.002048\n",
       "Name: condition_1, dtype: float64"
      ]
     },
     "execution_count": 84,
     "metadata": {},
     "output_type": "execute_result"
    }
   ],
   "source": [
    "df.condition_1.value_counts(normalize=True, dropna=False)"
   ]
  },
  {
   "cell_type": "code",
   "execution_count": 85,
   "metadata": {},
   "outputs": [
    {
     "data": {
      "text/plain": [
       "Norm      0.989761\n",
       "Feedr     0.004437\n",
       "Artery    0.001706\n",
       "PosN      0.001365\n",
       "PosA      0.001365\n",
       "RRNn      0.000683\n",
       "RRAn      0.000341\n",
       "RRAe      0.000341\n",
       "Name: condition_2, dtype: float64"
      ]
     },
     "execution_count": 85,
     "metadata": {},
     "output_type": "execute_result"
    }
   ],
   "source": [
    "df.condition_2.value_counts(normalize=True, dropna=False)"
   ]
  },
  {
   "cell_type": "code",
   "execution_count": 86,
   "metadata": {},
   "outputs": [
    {
     "data": {
      "text/html": [
       "<div>\n",
       "<style scoped>\n",
       "    .dataframe tbody tr th:only-of-type {\n",
       "        vertical-align: middle;\n",
       "    }\n",
       "\n",
       "    .dataframe tbody tr th {\n",
       "        vertical-align: top;\n",
       "    }\n",
       "\n",
       "    .dataframe thead th {\n",
       "        text-align: right;\n",
       "    }\n",
       "</style>\n",
       "<table border=\"1\" class=\"dataframe\">\n",
       "  <thead>\n",
       "    <tr style=\"text-align: right;\">\n",
       "      <th></th>\n",
       "      <th>condition_1</th>\n",
       "      <th>condition_2</th>\n",
       "    </tr>\n",
       "    <tr>\n",
       "      <th>pid</th>\n",
       "      <th></th>\n",
       "      <th></th>\n",
       "    </tr>\n",
       "  </thead>\n",
       "  <tbody>\n",
       "    <tr>\n",
       "      <th>526301100</th>\n",
       "      <td>Norm</td>\n",
       "      <td>Norm</td>\n",
       "    </tr>\n",
       "    <tr>\n",
       "      <th>526350040</th>\n",
       "      <td>Feedr</td>\n",
       "      <td>Norm</td>\n",
       "    </tr>\n",
       "    <tr>\n",
       "      <th>526351010</th>\n",
       "      <td>Norm</td>\n",
       "      <td>Norm</td>\n",
       "    </tr>\n",
       "    <tr>\n",
       "      <th>526353030</th>\n",
       "      <td>Norm</td>\n",
       "      <td>Norm</td>\n",
       "    </tr>\n",
       "    <tr>\n",
       "      <th>527105010</th>\n",
       "      <td>Norm</td>\n",
       "      <td>Norm</td>\n",
       "    </tr>\n",
       "  </tbody>\n",
       "</table>\n",
       "</div>"
      ],
      "text/plain": [
       "          condition_1 condition_2\n",
       "pid                              \n",
       "526301100        Norm        Norm\n",
       "526350040       Feedr        Norm\n",
       "526351010        Norm        Norm\n",
       "526353030        Norm        Norm\n",
       "527105010        Norm        Norm"
      ]
     },
     "execution_count": 86,
     "metadata": {},
     "output_type": "execute_result"
    }
   ],
   "source": [
    "df[['condition_1', 'condition_2']].head()"
   ]
  },
  {
   "cell_type": "code",
   "execution_count": 87,
   "metadata": {},
   "outputs": [
    {
     "data": {
      "text/html": [
       "<div>\n",
       "<style scoped>\n",
       "    .dataframe tbody tr th:only-of-type {\n",
       "        vertical-align: middle;\n",
       "    }\n",
       "\n",
       "    .dataframe tbody tr th {\n",
       "        vertical-align: top;\n",
       "    }\n",
       "\n",
       "    .dataframe thead th {\n",
       "        text-align: right;\n",
       "    }\n",
       "</style>\n",
       "<table border=\"1\" class=\"dataframe\">\n",
       "  <thead>\n",
       "    <tr style=\"text-align: right;\">\n",
       "      <th></th>\n",
       "      <th>condition_1</th>\n",
       "      <th>condition_2</th>\n",
       "      <th>condition_3</th>\n",
       "    </tr>\n",
       "    <tr>\n",
       "      <th>pid</th>\n",
       "      <th></th>\n",
       "      <th></th>\n",
       "      <th></th>\n",
       "    </tr>\n",
       "  </thead>\n",
       "  <tbody>\n",
       "    <tr>\n",
       "      <th>526301100</th>\n",
       "      <td>Norm</td>\n",
       "      <td>Norm</td>\n",
       "      <td>NaN</td>\n",
       "    </tr>\n",
       "    <tr>\n",
       "      <th>526350040</th>\n",
       "      <td>Feedr</td>\n",
       "      <td>Norm</td>\n",
       "      <td>Norm</td>\n",
       "    </tr>\n",
       "    <tr>\n",
       "      <th>526351010</th>\n",
       "      <td>Norm</td>\n",
       "      <td>Norm</td>\n",
       "      <td>NaN</td>\n",
       "    </tr>\n",
       "    <tr>\n",
       "      <th>526353030</th>\n",
       "      <td>Norm</td>\n",
       "      <td>Norm</td>\n",
       "      <td>NaN</td>\n",
       "    </tr>\n",
       "    <tr>\n",
       "      <th>527105010</th>\n",
       "      <td>Norm</td>\n",
       "      <td>Norm</td>\n",
       "      <td>NaN</td>\n",
       "    </tr>\n",
       "  </tbody>\n",
       "</table>\n",
       "</div>"
      ],
      "text/plain": [
       "          condition_1 condition_2 condition_3\n",
       "pid                                          \n",
       "526301100        Norm        Norm         NaN\n",
       "526350040       Feedr        Norm        Norm\n",
       "526351010        Norm        Norm         NaN\n",
       "526353030        Norm        Norm         NaN\n",
       "527105010        Norm        Norm         NaN"
      ]
     },
     "execution_count": 87,
     "metadata": {},
     "output_type": "execute_result"
    }
   ],
   "source": [
    "df['condition_3'] = np.where(df.condition_1 == df.condition_2, np.nan, df.condition_2)\n",
    "df[['condition_1', 'condition_2', 'condition_3']].head()"
   ]
  },
  {
   "cell_type": "code",
   "execution_count": 88,
   "metadata": {},
   "outputs": [
    {
     "data": {
      "text/plain": [
       "pid\n",
       "526301100          Norm\n",
       "526350040    Feedr|Norm\n",
       "526351010          Norm\n",
       "526353030          Norm\n",
       "527105010          Norm\n",
       "Name: cond, dtype: object"
      ]
     },
     "execution_count": 88,
     "metadata": {},
     "output_type": "execute_result"
    }
   ],
   "source": [
    "df['cond']= np.where(df.condition_3.isnull(), df.condition_1, df.condition_1 + '|' + df.condition_3)\n",
    "df.cond.head()"
   ]
  },
  {
   "cell_type": "code",
   "execution_count": 89,
   "metadata": {},
   "outputs": [],
   "source": [
    "cond = df.cond.str.get_dummies('|').copy()"
   ]
  },
  {
   "cell_type": "code",
   "execution_count": 90,
   "metadata": {},
   "outputs": [],
   "source": [
    "drop_cols = ['utilities', 'condition_1', 'condition_2',  'condition_3',  'cond', 'yr_sold', 'central_air_num']"
   ]
  },
  {
   "cell_type": "code",
   "execution_count": 91,
   "metadata": {},
   "outputs": [],
   "source": [
    "df.drop(drop_cols, axis=1, inplace=True)"
   ]
  },
  {
   "cell_type": "code",
   "execution_count": 92,
   "metadata": {},
   "outputs": [],
   "source": [
    "df_final = df.merge(cond, left_index=True, right_index=True)"
   ]
  },
  {
   "cell_type": "code",
   "execution_count": 93,
   "metadata": {
    "scrolled": true
   },
   "outputs": [
    {
     "name": "stdout",
     "output_type": "stream",
     "text": [
      "<class 'pandas.core.frame.DataFrame'>\n",
      "Int64Index: 2930 entries, 526301100 to 924151050\n",
      "Data columns (total 23 columns):\n",
      "ms_zoning           2930 non-null object\n",
      "lot_shape           2930 non-null object\n",
      "bldg_type           2930 non-null object\n",
      "house_style         2930 non-null object\n",
      "overall_qual        2930 non-null int64\n",
      "year_built          2930 non-null int64\n",
      "year_remod_add      2930 non-null int64\n",
      "foundation          2930 non-null object\n",
      "bsmt_qual           2930 non-null object\n",
      "central_air         2930 non-null object\n",
      "kitchen_qual        2930 non-null object\n",
      "sale_price          2930 non-null int64\n",
      "lot_area_upper      2930 non-null float64\n",
      "first_second_flr    2930 non-null int64\n",
      "Artery              2930 non-null int64\n",
      "Feedr               2930 non-null int64\n",
      "Norm                2930 non-null int64\n",
      "PosA                2930 non-null int64\n",
      "PosN                2930 non-null int64\n",
      "RRAe                2930 non-null int64\n",
      "RRAn                2930 non-null int64\n",
      "RRNe                2930 non-null int64\n",
      "RRNn                2930 non-null int64\n",
      "dtypes: float64(1), int64(14), object(8)\n",
      "memory usage: 629.4+ KB\n"
     ]
    }
   ],
   "source": [
    "df_final.info()"
   ]
  },
  {
   "cell_type": "markdown",
   "metadata": {},
   "source": [
    "##### Converting Dummies Variables"
   ]
  },
  {
   "cell_type": "code",
   "execution_count": 94,
   "metadata": {},
   "outputs": [
    {
     "name": "stdout",
     "output_type": "stream",
     "text": [
      "<class 'pandas.core.frame.DataFrame'>\n",
      "Int64Index: 2930 entries, 526301100 to 924151050\n",
      "Data columns (total 49 columns):\n",
      "overall_qual          2930 non-null int64\n",
      "year_built            2930 non-null int64\n",
      "year_remod_add        2930 non-null int64\n",
      "sale_price            2930 non-null int64\n",
      "lot_area_upper        2930 non-null float64\n",
      "first_second_flr      2930 non-null int64\n",
      "Artery                2930 non-null int64\n",
      "Feedr                 2930 non-null int64\n",
      "Norm                  2930 non-null int64\n",
      "PosA                  2930 non-null int64\n",
      "PosN                  2930 non-null int64\n",
      "RRAe                  2930 non-null int64\n",
      "RRAn                  2930 non-null int64\n",
      "RRNe                  2930 non-null int64\n",
      "RRNn                  2930 non-null int64\n",
      "ms_zoning_A (agr)     2930 non-null uint8\n",
      "ms_zoning_C (all)     2930 non-null uint8\n",
      "ms_zoning_FV          2930 non-null uint8\n",
      "ms_zoning_I (all)     2930 non-null uint8\n",
      "ms_zoning_RH          2930 non-null uint8\n",
      "ms_zoning_RL          2930 non-null uint8\n",
      "ms_zoning_RM          2930 non-null uint8\n",
      "lot_shape_IR          2930 non-null uint8\n",
      "lot_shape_Reg         2930 non-null uint8\n",
      "bldg_type_Family      2930 non-null uint8\n",
      "bldg_type_Others      2930 non-null uint8\n",
      "bldg_type_TwnhsE      2930 non-null uint8\n",
      "house_style_1.5Fin    2930 non-null uint8\n",
      "house_style_1.5Unf    2930 non-null uint8\n",
      "house_style_1Story    2930 non-null uint8\n",
      "house_style_2.5Fin    2930 non-null uint8\n",
      "house_style_2.5Unf    2930 non-null uint8\n",
      "house_style_2Story    2930 non-null uint8\n",
      "house_style_SFoyer    2930 non-null uint8\n",
      "house_style_SLvl      2930 non-null uint8\n",
      "foundation_BrkTil     2930 non-null uint8\n",
      "foundation_CBlock     2930 non-null uint8\n",
      "foundation_PConc      2930 non-null uint8\n",
      "foundation_Slab       2930 non-null uint8\n",
      "foundation_Stone      2930 non-null uint8\n",
      "foundation_Wood       2930 non-null uint8\n",
      "bsmt_qual_Ex          2930 non-null uint8\n",
      "bsmt_qual_Gd          2930 non-null uint8\n",
      "bsmt_qual_TA          2930 non-null uint8\n",
      "central_air_N         2930 non-null uint8\n",
      "central_air_Y         2930 non-null uint8\n",
      "kitchen_qual_Ex       2930 non-null uint8\n",
      "kitchen_qual_Gd       2930 non-null uint8\n",
      "kitchen_qual_TA       2930 non-null uint8\n",
      "dtypes: float64(1), int64(14), uint8(34)\n",
      "memory usage: 543.5 KB\n"
     ]
    }
   ],
   "source": [
    "df_final = pd.get_dummies(df_final)\n",
    "df_final.info()"
   ]
  },
  {
   "cell_type": "code",
   "execution_count": 95,
   "metadata": {},
   "outputs": [
    {
     "data": {
      "text/plain": [
       "Index(['overall_qual', 'year_built', 'year_remod_add', 'sale_price',\n",
       "       'lot_area_upper', 'first_second_flr', 'Artery', 'Feedr', 'Norm', 'PosA',\n",
       "       'PosN', 'RRAe', 'RRAn', 'RRNe', 'RRNn', 'ms_zoning_A (agr)',\n",
       "       'ms_zoning_C (all)', 'ms_zoning_FV', 'ms_zoning_I (all)',\n",
       "       'ms_zoning_RH', 'ms_zoning_RL', 'ms_zoning_RM', 'lot_shape_IR',\n",
       "       'lot_shape_Reg', 'bldg_type_Family', 'bldg_type_Others',\n",
       "       'bldg_type_TwnhsE', 'house_style_1.5Fin', 'house_style_1.5Unf',\n",
       "       'house_style_1Story', 'house_style_2.5Fin', 'house_style_2.5Unf',\n",
       "       'house_style_2Story', 'house_style_SFoyer', 'house_style_SLvl',\n",
       "       'foundation_BrkTil', 'foundation_CBlock', 'foundation_PConc',\n",
       "       'foundation_Slab', 'foundation_Stone', 'foundation_Wood',\n",
       "       'bsmt_qual_Ex', 'bsmt_qual_Gd', 'bsmt_qual_TA', 'central_air_N',\n",
       "       'central_air_Y', 'kitchen_qual_Ex', 'kitchen_qual_Gd',\n",
       "       'kitchen_qual_TA'],\n",
       "      dtype='object')"
      ]
     },
     "execution_count": 95,
     "metadata": {},
     "output_type": "execute_result"
    }
   ],
   "source": [
    "df_final.columns"
   ]
  },
  {
   "cell_type": "code",
   "execution_count": 96,
   "metadata": {},
   "outputs": [],
   "source": [
    "cols_ord = ['overall_qual', 'year_built', 'year_remod_add', \n",
    "       'lot_area_upper', 'first_second_flr', 'Artery',\n",
    "       'Feedr', 'Norm', 'PosA', 'PosN', 'RRAe', 'RRAn', 'RRNe', 'RRNn',\n",
    "       'ms_zoning_A (agr)', 'ms_zoning_C (all)', 'ms_zoning_FV',\n",
    "       'ms_zoning_I (all)', 'ms_zoning_RH', 'ms_zoning_RL', 'ms_zoning_RM',\n",
    "       'lot_shape_IR', 'lot_shape_Reg', 'bldg_type_Family', 'bldg_type_Others',\n",
    "       'bldg_type_TwnhsE', 'house_style_1.5Fin', 'house_style_1.5Unf',\n",
    "       'house_style_1Story', 'house_style_2.5Fin', 'house_style_2.5Unf',\n",
    "       'house_style_2Story', 'house_style_SFoyer', 'house_style_SLvl',\n",
    "       'foundation_BrkTil', 'foundation_CBlock', 'foundation_PConc',\n",
    "       'foundation_Slab', 'foundation_Stone', 'foundation_Wood',\n",
    "       'bsmt_qual_Ex', 'bsmt_qual_Gd', 'bsmt_qual_TA', 'central_air_N',\n",
    "       'central_air_Y', 'kitchen_qual_Ex', 'kitchen_qual_Gd',\n",
    "        'kitchen_qual_TA', 'sale_price']"
   ]
  },
  {
   "cell_type": "code",
   "execution_count": 97,
   "metadata": {},
   "outputs": [],
   "source": [
    "df_final = df_final[cols_ord].copy()"
   ]
  },
  {
   "cell_type": "markdown",
   "metadata": {},
   "source": [
    "# Building Model"
   ]
  },
  {
   "cell_type": "code",
   "execution_count": 98,
   "metadata": {},
   "outputs": [
    {
     "data": {
      "text/html": [
       "<div>\n",
       "<style scoped>\n",
       "    .dataframe tbody tr th:only-of-type {\n",
       "        vertical-align: middle;\n",
       "    }\n",
       "\n",
       "    .dataframe tbody tr th {\n",
       "        vertical-align: top;\n",
       "    }\n",
       "\n",
       "    .dataframe thead th {\n",
       "        text-align: right;\n",
       "    }\n",
       "</style>\n",
       "<table border=\"1\" class=\"dataframe\">\n",
       "  <thead>\n",
       "    <tr style=\"text-align: right;\">\n",
       "      <th></th>\n",
       "      <th>overall_qual</th>\n",
       "      <th>year_built</th>\n",
       "      <th>year_remod_add</th>\n",
       "      <th>lot_area_upper</th>\n",
       "      <th>first_second_flr</th>\n",
       "      <th>Artery</th>\n",
       "      <th>Feedr</th>\n",
       "      <th>Norm</th>\n",
       "      <th>PosA</th>\n",
       "      <th>PosN</th>\n",
       "      <th>...</th>\n",
       "      <th>foundation_Wood</th>\n",
       "      <th>bsmt_qual_Ex</th>\n",
       "      <th>bsmt_qual_Gd</th>\n",
       "      <th>bsmt_qual_TA</th>\n",
       "      <th>central_air_N</th>\n",
       "      <th>central_air_Y</th>\n",
       "      <th>kitchen_qual_Ex</th>\n",
       "      <th>kitchen_qual_Gd</th>\n",
       "      <th>kitchen_qual_TA</th>\n",
       "      <th>sale_price</th>\n",
       "    </tr>\n",
       "    <tr>\n",
       "      <th>pid</th>\n",
       "      <th></th>\n",
       "      <th></th>\n",
       "      <th></th>\n",
       "      <th></th>\n",
       "      <th></th>\n",
       "      <th></th>\n",
       "      <th></th>\n",
       "      <th></th>\n",
       "      <th></th>\n",
       "      <th></th>\n",
       "      <th></th>\n",
       "      <th></th>\n",
       "      <th></th>\n",
       "      <th></th>\n",
       "      <th></th>\n",
       "      <th></th>\n",
       "      <th></th>\n",
       "      <th></th>\n",
       "      <th></th>\n",
       "      <th></th>\n",
       "      <th></th>\n",
       "    </tr>\n",
       "  </thead>\n",
       "  <tbody>\n",
       "    <tr>\n",
       "      <th>526301100</th>\n",
       "      <td>6</td>\n",
       "      <td>1960</td>\n",
       "      <td>1960</td>\n",
       "      <td>17727.75</td>\n",
       "      <td>1656</td>\n",
       "      <td>0</td>\n",
       "      <td>0</td>\n",
       "      <td>1</td>\n",
       "      <td>0</td>\n",
       "      <td>0</td>\n",
       "      <td>...</td>\n",
       "      <td>0</td>\n",
       "      <td>0</td>\n",
       "      <td>0</td>\n",
       "      <td>1</td>\n",
       "      <td>0</td>\n",
       "      <td>1</td>\n",
       "      <td>0</td>\n",
       "      <td>0</td>\n",
       "      <td>1</td>\n",
       "      <td>215000</td>\n",
       "    </tr>\n",
       "    <tr>\n",
       "      <th>526350040</th>\n",
       "      <td>5</td>\n",
       "      <td>1961</td>\n",
       "      <td>1961</td>\n",
       "      <td>11622.00</td>\n",
       "      <td>896</td>\n",
       "      <td>0</td>\n",
       "      <td>1</td>\n",
       "      <td>1</td>\n",
       "      <td>0</td>\n",
       "      <td>0</td>\n",
       "      <td>...</td>\n",
       "      <td>0</td>\n",
       "      <td>0</td>\n",
       "      <td>0</td>\n",
       "      <td>1</td>\n",
       "      <td>0</td>\n",
       "      <td>1</td>\n",
       "      <td>0</td>\n",
       "      <td>0</td>\n",
       "      <td>1</td>\n",
       "      <td>105000</td>\n",
       "    </tr>\n",
       "    <tr>\n",
       "      <th>526351010</th>\n",
       "      <td>6</td>\n",
       "      <td>1958</td>\n",
       "      <td>1958</td>\n",
       "      <td>14267.00</td>\n",
       "      <td>1329</td>\n",
       "      <td>0</td>\n",
       "      <td>0</td>\n",
       "      <td>1</td>\n",
       "      <td>0</td>\n",
       "      <td>0</td>\n",
       "      <td>...</td>\n",
       "      <td>0</td>\n",
       "      <td>0</td>\n",
       "      <td>0</td>\n",
       "      <td>1</td>\n",
       "      <td>0</td>\n",
       "      <td>1</td>\n",
       "      <td>0</td>\n",
       "      <td>1</td>\n",
       "      <td>0</td>\n",
       "      <td>172000</td>\n",
       "    </tr>\n",
       "    <tr>\n",
       "      <th>526353030</th>\n",
       "      <td>7</td>\n",
       "      <td>1968</td>\n",
       "      <td>1968</td>\n",
       "      <td>11160.00</td>\n",
       "      <td>2110</td>\n",
       "      <td>0</td>\n",
       "      <td>0</td>\n",
       "      <td>1</td>\n",
       "      <td>0</td>\n",
       "      <td>0</td>\n",
       "      <td>...</td>\n",
       "      <td>0</td>\n",
       "      <td>0</td>\n",
       "      <td>0</td>\n",
       "      <td>1</td>\n",
       "      <td>0</td>\n",
       "      <td>1</td>\n",
       "      <td>1</td>\n",
       "      <td>0</td>\n",
       "      <td>0</td>\n",
       "      <td>244000</td>\n",
       "    </tr>\n",
       "    <tr>\n",
       "      <th>527105010</th>\n",
       "      <td>5</td>\n",
       "      <td>1997</td>\n",
       "      <td>1998</td>\n",
       "      <td>13830.00</td>\n",
       "      <td>1629</td>\n",
       "      <td>0</td>\n",
       "      <td>0</td>\n",
       "      <td>1</td>\n",
       "      <td>0</td>\n",
       "      <td>0</td>\n",
       "      <td>...</td>\n",
       "      <td>0</td>\n",
       "      <td>0</td>\n",
       "      <td>1</td>\n",
       "      <td>0</td>\n",
       "      <td>0</td>\n",
       "      <td>1</td>\n",
       "      <td>0</td>\n",
       "      <td>0</td>\n",
       "      <td>1</td>\n",
       "      <td>189900</td>\n",
       "    </tr>\n",
       "  </tbody>\n",
       "</table>\n",
       "<p>5 rows × 49 columns</p>\n",
       "</div>"
      ],
      "text/plain": [
       "           overall_qual  year_built  year_remod_add  lot_area_upper  \\\n",
       "pid                                                                   \n",
       "526301100             6        1960            1960        17727.75   \n",
       "526350040             5        1961            1961        11622.00   \n",
       "526351010             6        1958            1958        14267.00   \n",
       "526353030             7        1968            1968        11160.00   \n",
       "527105010             5        1997            1998        13830.00   \n",
       "\n",
       "           first_second_flr  Artery  Feedr  Norm  PosA  PosN     ...      \\\n",
       "pid                                                              ...       \n",
       "526301100              1656       0      0     1     0     0     ...       \n",
       "526350040               896       0      1     1     0     0     ...       \n",
       "526351010              1329       0      0     1     0     0     ...       \n",
       "526353030              2110       0      0     1     0     0     ...       \n",
       "527105010              1629       0      0     1     0     0     ...       \n",
       "\n",
       "           foundation_Wood  bsmt_qual_Ex  bsmt_qual_Gd  bsmt_qual_TA  \\\n",
       "pid                                                                    \n",
       "526301100                0             0             0             1   \n",
       "526350040                0             0             0             1   \n",
       "526351010                0             0             0             1   \n",
       "526353030                0             0             0             1   \n",
       "527105010                0             0             1             0   \n",
       "\n",
       "           central_air_N  central_air_Y  kitchen_qual_Ex  kitchen_qual_Gd  \\\n",
       "pid                                                                         \n",
       "526301100              0              1                0                0   \n",
       "526350040              0              1                0                0   \n",
       "526351010              0              1                0                1   \n",
       "526353030              0              1                1                0   \n",
       "527105010              0              1                0                0   \n",
       "\n",
       "           kitchen_qual_TA  sale_price  \n",
       "pid                                     \n",
       "526301100                1      215000  \n",
       "526350040                1      105000  \n",
       "526351010                0      172000  \n",
       "526353030                0      244000  \n",
       "527105010                1      189900  \n",
       "\n",
       "[5 rows x 49 columns]"
      ]
     },
     "execution_count": 98,
     "metadata": {},
     "output_type": "execute_result"
    }
   ],
   "source": [
    "df_final.head()"
   ]
  },
  {
   "cell_type": "code",
   "execution_count": null,
   "metadata": {},
   "outputs": [],
   "source": [
    "X = df_final.iloc[:, 0:-1].values\n",
    "y = df_final.iloc[:, -1].values"
   ]
  },
  {
   "cell_type": "code",
   "execution_count": null,
   "metadata": {},
   "outputs": [],
   "source": [
    "y"
   ]
  },
  {
   "cell_type": "code",
   "execution_count": null,
   "metadata": {},
   "outputs": [],
   "source": [
    "X_train, X_test, y_train, y_test = train_test_split(X, y, random_state = 50)"
   ]
  },
  {
   "cell_type": "code",
   "execution_count": null,
   "metadata": {},
   "outputs": [],
   "source": [
    "print(\"X_train Shape:\", X_train.shape)\n",
    "print(\"X_test Shape:\", X_test.shape)\n",
    "print(\"y_train Shape:\", y_train.shape)\n",
    "print(\"y_test Shape:\", y_test.shape)"
   ]
  },
  {
   "cell_type": "markdown",
   "metadata": {},
   "source": [
    "#### Base Model"
   ]
  },
  {
   "cell_type": "code",
   "execution_count": null,
   "metadata": {},
   "outputs": [],
   "source": [
    "lr = LinearRegression()\n",
    "lr.fit(X_train, y_train)\n",
    "y_pred_train = lr.predict(X_train)\n",
    "y_pred_test = lr.predict(X_test) "
   ]
  },
  {
   "cell_type": "code",
   "execution_count": null,
   "metadata": {},
   "outputs": [],
   "source": [
    "print(\"R2 Training Score for the Baseline Model:\", np.round(r2_score(y_train, y_pred_train),2))\n",
    "\n",
    "print(\"R2 Test Score for the Baseline Model:\", np.round(r2_score(y_test, y_pred_test),2))\n"
   ]
  },
  {
   "cell_type": "code",
   "execution_count": null,
   "metadata": {},
   "outputs": [],
   "source": [
    "print(\"Mean Squared Error:\", mean_squared_error(y_test, y_pred_test))\n",
    "print('___________________________')\n",
    "print(\"RMSE:\", np.sqrt(mean_squared_error(y_test, y_pred_test)))"
   ]
  },
  {
   "cell_type": "markdown",
   "metadata": {},
   "source": [
    "#### Ridge Model"
   ]
  },
  {
   "cell_type": "code",
   "execution_count": null,
   "metadata": {},
   "outputs": [],
   "source": [
    "ridge = Ridge().fit(X_train, y_train)\n",
    "print(\"Training set score: {:.2f}\".format(ridge.score(X_train, y_train)))\n",
    "print(\"Test set score: {:.2f}\".format(ridge.score(X_test, y_test)))\n"
   ]
  },
  {
   "cell_type": "code",
   "execution_count": null,
   "metadata": {},
   "outputs": [],
   "source": [
    "ridge10 = Ridge(alpha=2).fit(X_train, y_train)\n",
    "print(\"Training set score: {:.2f}\".format(ridge10.score(X_train, y_train)))\n",
    "print(\"Test set score: {:.2f}\".format(ridge10.score(X_test, y_test)))"
   ]
  },
  {
   "cell_type": "markdown",
   "metadata": {},
   "source": [
    "#### Lasso"
   ]
  },
  {
   "cell_type": "code",
   "execution_count": null,
   "metadata": {},
   "outputs": [],
   "source": [
    "lasso = Lasso().fit(X_train, y_train)\n",
    "print(\"Training set score: {:.2f}\".format(lasso.score(X_train, y_train)))\n",
    "print(\"Test set score: {:.2f}\".format(lasso.score(X_test, y_test)))\n",
    "print(\"Number of features used: {}\".format(np.sum(lasso.coef_ != 0)))"
   ]
  },
  {
   "cell_type": "code",
   "execution_count": null,
   "metadata": {},
   "outputs": [],
   "source": [
    "lasso001 = Lasso(alpha=0.01, max_iter=100000).fit(X_train, y_train)\n",
    "print(\"Training set score: {:.2f}\".format(lasso001.score(X_train, y_train)))\n",
    "print(\"Test set score: {:.2f}\".format(lasso001.score(X_test, y_test)))\n",
    "print(\"Number of features used: {}\".format(np.sum(lasso001.coef_ != 0)))"
   ]
  },
  {
   "cell_type": "code",
   "execution_count": null,
   "metadata": {},
   "outputs": [],
   "source": [
    "param_grid = {'alpha': [10, 50, 75, 90, 100, 150, 500, 1000],\n",
    "'max_iter': [500, 700, 1000, 2000, 3000]}\n",
    "print(\"Parameter grid:\\n{}\".format(param_grid))"
   ]
  },
  {
   "cell_type": "code",
   "execution_count": null,
   "metadata": {},
   "outputs": [],
   "source": [
    "grid_search = GridSearchCV(Lasso(), param_grid)"
   ]
  },
  {
   "cell_type": "code",
   "execution_count": null,
   "metadata": {},
   "outputs": [],
   "source": [
    "grid_search.fit(X_train, y_train)"
   ]
  },
  {
   "cell_type": "code",
   "execution_count": null,
   "metadata": {},
   "outputs": [],
   "source": [
    "print(\"Test set score: {:.2f}\".format(grid_search.score(X_test, y_test)))\n",
    "print(\"Best parameters: {}\".format(grid_search.best_params_))\n",
    "y_pred_test = grid_search.predict(X_test)\n",
    "\n",
    "print(\"Mean Squared Error:\", mean_squared_error(y_test, y_pred_test))\n",
    "print('___________________________')\n",
    "print(\"RMSE:\", np.sqrt(mean_squared_error(y_test, y_pred_test)))"
   ]
  },
  {
   "cell_type": "code",
   "execution_count": null,
   "metadata": {},
   "outputs": [],
   "source": []
  },
  {
   "cell_type": "code",
   "execution_count": null,
   "metadata": {},
   "outputs": [],
   "source": []
  }
 ],
 "metadata": {
  "kernelspec": {
   "display_name": "Python 3",
   "language": "python",
   "name": "python3"
  },
  "language_info": {
   "codemirror_mode": {
    "name": "ipython",
    "version": 3
   },
   "file_extension": ".py",
   "mimetype": "text/x-python",
   "name": "python",
   "nbconvert_exporter": "python",
   "pygments_lexer": "ipython3",
   "version": "3.7.1"
  }
 },
 "nbformat": 4,
 "nbformat_minor": 2
}

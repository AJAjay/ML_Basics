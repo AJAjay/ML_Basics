{
 "cells": [
  {
   "cell_type": "markdown",
   "metadata": {},
   "source": [
    "# ENSEMBLE LEARNING - Random Forest"
   ]
  },
  {
   "cell_type": "code",
   "execution_count": 2,
   "metadata": {},
   "outputs": [],
   "source": [
    "import numpy as np\n",
    "import pandas as pd\n",
    "\n",
    "import matplotlib.pyplot as plt\n",
    "import seaborn as sns\n",
    "%matplotlib inline\n",
    "\n",
    "import random\n",
    "from pprint import pprint\n",
    "\n",
    "import seaborn as sns\n",
    "sns.set(style=\"ticks\", color_codes=True, font_scale=1.5)\n",
    "color = sns.color_palette()\n",
    "sns.set_style('darkgrid')\n",
    "\n",
    "\n",
    "from sklearn.linear_model import LinearRegression, LogisticRegression, Ridge, Lasso\n",
    "from sklearn.metrics import accuracy_score, confusion_matrix, r2_score, mean_squared_error\n",
    "from sklearn.model_selection import train_test_split, GridSearchCV\n",
    "from sklearn.tree import DecisionTreeRegressor, DecisionTreeClassifier\n",
    "from sklearn.ensemble import RandomForestRegressor, RandomForestClassifier\n",
    "\n"
   ]
  },
  {
   "cell_type": "markdown",
   "metadata": {},
   "source": [
    "### Example-1 IRIS"
   ]
  },
  {
   "cell_type": "code",
   "execution_count": 3,
   "metadata": {},
   "outputs": [],
   "source": [
    "iris = pd.read_csv(\"data/Iris.csv\")\n",
    "iris = iris.drop(\"Id\", axis=1)\n",
    "iris = iris.rename(columns={\"species\": \"label\"})"
   ]
  },
  {
   "cell_type": "code",
   "execution_count": 4,
   "metadata": {},
   "outputs": [
    {
     "data": {
      "text/html": [
       "<div>\n",
       "<style scoped>\n",
       "    .dataframe tbody tr th:only-of-type {\n",
       "        vertical-align: middle;\n",
       "    }\n",
       "\n",
       "    .dataframe tbody tr th {\n",
       "        vertical-align: top;\n",
       "    }\n",
       "\n",
       "    .dataframe thead th {\n",
       "        text-align: right;\n",
       "    }\n",
       "</style>\n",
       "<table border=\"1\" class=\"dataframe\">\n",
       "  <thead>\n",
       "    <tr style=\"text-align: right;\">\n",
       "      <th></th>\n",
       "      <th>sepal_length</th>\n",
       "      <th>sepal_width</th>\n",
       "      <th>petal_length</th>\n",
       "      <th>petal_width</th>\n",
       "      <th>label</th>\n",
       "    </tr>\n",
       "  </thead>\n",
       "  <tbody>\n",
       "    <tr>\n",
       "      <th>0</th>\n",
       "      <td>5.1</td>\n",
       "      <td>3.5</td>\n",
       "      <td>1.4</td>\n",
       "      <td>0.2</td>\n",
       "      <td>Iris-setosa</td>\n",
       "    </tr>\n",
       "    <tr>\n",
       "      <th>1</th>\n",
       "      <td>4.9</td>\n",
       "      <td>3.0</td>\n",
       "      <td>1.4</td>\n",
       "      <td>0.2</td>\n",
       "      <td>Iris-setosa</td>\n",
       "    </tr>\n",
       "    <tr>\n",
       "      <th>2</th>\n",
       "      <td>4.7</td>\n",
       "      <td>3.2</td>\n",
       "      <td>1.3</td>\n",
       "      <td>0.2</td>\n",
       "      <td>Iris-setosa</td>\n",
       "    </tr>\n",
       "    <tr>\n",
       "      <th>3</th>\n",
       "      <td>4.6</td>\n",
       "      <td>3.1</td>\n",
       "      <td>1.5</td>\n",
       "      <td>0.2</td>\n",
       "      <td>Iris-setosa</td>\n",
       "    </tr>\n",
       "    <tr>\n",
       "      <th>4</th>\n",
       "      <td>5.0</td>\n",
       "      <td>3.6</td>\n",
       "      <td>1.4</td>\n",
       "      <td>0.2</td>\n",
       "      <td>Iris-setosa</td>\n",
       "    </tr>\n",
       "  </tbody>\n",
       "</table>\n",
       "</div>"
      ],
      "text/plain": [
       "   sepal_length  sepal_width  petal_length  petal_width        label\n",
       "0           5.1          3.5           1.4          0.2  Iris-setosa\n",
       "1           4.9          3.0           1.4          0.2  Iris-setosa\n",
       "2           4.7          3.2           1.3          0.2  Iris-setosa\n",
       "3           4.6          3.1           1.5          0.2  Iris-setosa\n",
       "4           5.0          3.6           1.4          0.2  Iris-setosa"
      ]
     },
     "execution_count": 4,
     "metadata": {},
     "output_type": "execute_result"
    }
   ],
   "source": [
    "iris.head()"
   ]
  },
  {
   "cell_type": "code",
   "execution_count": 5,
   "metadata": {},
   "outputs": [
    {
     "name": "stdout",
     "output_type": "stream",
     "text": [
      "<class 'pandas.core.frame.DataFrame'>\n",
      "RangeIndex: 150 entries, 0 to 149\n",
      "Data columns (total 5 columns):\n",
      "sepal_length    150 non-null float64\n",
      "sepal_width     150 non-null float64\n",
      "petal_length    150 non-null float64\n",
      "petal_width     150 non-null float64\n",
      "label           150 non-null object\n",
      "dtypes: float64(4), object(1)\n",
      "memory usage: 5.9+ KB\n"
     ]
    }
   ],
   "source": [
    "iris.info()"
   ]
  },
  {
   "cell_type": "code",
   "execution_count": 6,
   "metadata": {},
   "outputs": [],
   "source": [
    "X = iris.iloc[:, :-1].values\n",
    "y = iris.iloc[:, -1].values\n",
    "X_train, X_test, y_train, y_test = train_test_split(X, y, test_size = .20, random_state = 2794)"
   ]
  },
  {
   "cell_type": "markdown",
   "metadata": {},
   "source": [
    "##### Logistic Regression"
   ]
  },
  {
   "cell_type": "code",
   "execution_count": 7,
   "metadata": {},
   "outputs": [
    {
     "name": "stderr",
     "output_type": "stream",
     "text": [
      "/usr/local/anaconda/lib/python3.7/site-packages/sklearn/linear_model/logistic.py:433: FutureWarning: Default solver will be changed to 'lbfgs' in 0.22. Specify a solver to silence this warning.\n",
      "  FutureWarning)\n",
      "/usr/local/anaconda/lib/python3.7/site-packages/sklearn/linear_model/logistic.py:460: FutureWarning: Default multi_class will be changed to 'auto' in 0.22. Specify the multi_class option to silence this warning.\n",
      "  \"this warning.\", FutureWarning)\n"
     ]
    }
   ],
   "source": [
    "log_reg = LogisticRegression()\n",
    "log_reg.fit(X_train, y_train)\n",
    "y_pred_train = log_reg.predict(X_train)\n",
    "y_pred_test = log_reg.predict(X_test)"
   ]
  },
  {
   "cell_type": "code",
   "execution_count": 8,
   "metadata": {},
   "outputs": [
    {
     "name": "stdout",
     "output_type": "stream",
     "text": [
      "Training Accuracy: 0.97\n",
      "Test Accuracy: 0.93\n"
     ]
    }
   ],
   "source": [
    "print(\"Training Accuracy:\", np.round(accuracy_score(y_train, y_pred_train),2))\n",
    "print(\"Test Accuracy:\", np.round(accuracy_score(y_test, y_pred_test),2))"
   ]
  },
  {
   "cell_type": "code",
   "execution_count": 9,
   "metadata": {},
   "outputs": [
    {
     "name": "stdout",
     "output_type": "stream",
     "text": [
      "Confusion Matrix-Test Dataset:::\n",
      "--------------------------------\n"
     ]
    },
    {
     "data": {
      "text/plain": [
       "array([[ 9,  0,  0],\n",
       "       [ 0,  8,  2],\n",
       "       [ 0,  0, 11]])"
      ]
     },
     "execution_count": 9,
     "metadata": {},
     "output_type": "execute_result"
    }
   ],
   "source": [
    "print(\"Confusion Matrix-Test Dataset:::\")\n",
    "print(\"--------------------------------\")\n",
    "confusion_matrix(y_test, y_pred_test)"
   ]
  },
  {
   "cell_type": "code",
   "execution_count": 10,
   "metadata": {},
   "outputs": [
    {
     "data": {
      "text/plain": [
       "Iris-virginica     11\n",
       "Iris-versicolor    10\n",
       "Iris-setosa         9\n",
       "dtype: int64"
      ]
     },
     "execution_count": 10,
     "metadata": {},
     "output_type": "execute_result"
    }
   ],
   "source": [
    "pd.Series(y_test).value_counts()"
   ]
  },
  {
   "cell_type": "code",
   "execution_count": null,
   "metadata": {},
   "outputs": [],
   "source": []
  },
  {
   "cell_type": "markdown",
   "metadata": {},
   "source": [
    "##### Decision Tree"
   ]
  },
  {
   "cell_type": "code",
   "execution_count": 11,
   "metadata": {},
   "outputs": [],
   "source": [
    "dec_tree = DecisionTreeClassifier()\n",
    "dec_tree.fit(X_train, y_train)\n",
    "y_pred_train = dec_tree.predict(X_train)\n",
    "y_pred_test = dec_tree.predict(X_test)"
   ]
  },
  {
   "cell_type": "code",
   "execution_count": 12,
   "metadata": {},
   "outputs": [
    {
     "name": "stdout",
     "output_type": "stream",
     "text": [
      "Training Accuracy: 1.0\n",
      "Test Accuracy: 0.93\n"
     ]
    }
   ],
   "source": [
    "print(\"Training Accuracy:\", np.round(accuracy_score(y_train, y_pred_train),2))\n",
    "print(\"Test Accuracy:\", np.round(accuracy_score(y_test, y_pred_test),2))"
   ]
  },
  {
   "cell_type": "code",
   "execution_count": 13,
   "metadata": {},
   "outputs": [
    {
     "name": "stdout",
     "output_type": "stream",
     "text": [
      "Confusion Matrix-Test Dataset:::\n",
      "--------------------------------\n"
     ]
    },
    {
     "data": {
      "text/plain": [
       "array([[ 9,  0,  0],\n",
       "       [ 0,  8,  2],\n",
       "       [ 0,  0, 11]])"
      ]
     },
     "execution_count": 13,
     "metadata": {},
     "output_type": "execute_result"
    }
   ],
   "source": [
    "print(\"Confusion Matrix-Test Dataset:::\")\n",
    "print(\"--------------------------------\")\n",
    "confusion_matrix(y_test, y_pred_test)"
   ]
  },
  {
   "cell_type": "code",
   "execution_count": 14,
   "metadata": {},
   "outputs": [
    {
     "name": "stderr",
     "output_type": "stream",
     "text": [
      "/usr/local/anaconda/lib/python3.7/site-packages/seaborn/regression.py:546: UserWarning: The `size` paramter has been renamed to `height`; please update your code.\n",
      "  warnings.warn(msg, UserWarning)\n"
     ]
    },
    {
     "data": {
      "image/png": "[encoded data removed]",
      "text/plain": [
       "<Figure size 818.275x432 with 1 Axes>"
      ]
     },
     "metadata": {
      "needs_background": "light"
     },
     "output_type": "display_data"
    }
   ],
   "source": [
    "sns.lmplot(data=iris, x = 'petal_width', y='petal_length', hue='label', \n",
    "           fit_reg=False, size = 6,  aspect = 1.5);\n",
    "plt.vlines(x=0.8, ymin=1, ymax=7);\n",
    "plt.vlines(x=1.75, ymin=1, ymax=7);\n",
    "plt.hlines(y=5.2, xmin=0.8, xmax=1.75);\n"
   ]
  },
  {
   "cell_type": "markdown",
   "metadata": {},
   "source": [
    "### Example-2 Housing Price"
   ]
  },
  {
   "cell_type": "code",
   "execution_count": 15,
   "metadata": {},
   "outputs": [
    {
     "data": {
      "text/html": [
       "<div>\n",
       "<style scoped>\n",
       "    .dataframe tbody tr th:only-of-type {\n",
       "        vertical-align: middle;\n",
       "    }\n",
       "\n",
       "    .dataframe tbody tr th {\n",
       "        vertical-align: top;\n",
       "    }\n",
       "\n",
       "    .dataframe thead th {\n",
       "        text-align: right;\n",
       "    }\n",
       "</style>\n",
       "<table border=\"1\" class=\"dataframe\">\n",
       "  <thead>\n",
       "    <tr style=\"text-align: right;\">\n",
       "      <th></th>\n",
       "      <th>Order</th>\n",
       "      <th>PID</th>\n",
       "      <th>MS Zoning</th>\n",
       "      <th>Lot Area</th>\n",
       "      <th>Lot Shape</th>\n",
       "      <th>Utilities</th>\n",
       "      <th>Condition 1</th>\n",
       "      <th>Condition 2</th>\n",
       "      <th>Bldg Type</th>\n",
       "      <th>House Style</th>\n",
       "      <th>...</th>\n",
       "      <th>Year Built</th>\n",
       "      <th>Year Remod/Add</th>\n",
       "      <th>Foundation</th>\n",
       "      <th>Bsmt Qual</th>\n",
       "      <th>Central Air</th>\n",
       "      <th>F_Flr</th>\n",
       "      <th>S_Flr</th>\n",
       "      <th>Kitchen Qual</th>\n",
       "      <th>Yr Sold</th>\n",
       "      <th>Sale_Price</th>\n",
       "    </tr>\n",
       "  </thead>\n",
       "  <tbody>\n",
       "    <tr>\n",
       "      <th>0</th>\n",
       "      <td>1</td>\n",
       "      <td>526301100</td>\n",
       "      <td>RL</td>\n",
       "      <td>31770</td>\n",
       "      <td>IR1</td>\n",
       "      <td>AllPub</td>\n",
       "      <td>Norm</td>\n",
       "      <td>Norm</td>\n",
       "      <td>1Fam</td>\n",
       "      <td>1Story</td>\n",
       "      <td>...</td>\n",
       "      <td>1960</td>\n",
       "      <td>1960</td>\n",
       "      <td>CBlock</td>\n",
       "      <td>TA</td>\n",
       "      <td>Y</td>\n",
       "      <td>1656</td>\n",
       "      <td>0</td>\n",
       "      <td>TA</td>\n",
       "      <td>2010</td>\n",
       "      <td>215000</td>\n",
       "    </tr>\n",
       "    <tr>\n",
       "      <th>1</th>\n",
       "      <td>2</td>\n",
       "      <td>526350040</td>\n",
       "      <td>RH</td>\n",
       "      <td>11622</td>\n",
       "      <td>Reg</td>\n",
       "      <td>AllPub</td>\n",
       "      <td>Feedr</td>\n",
       "      <td>Norm</td>\n",
       "      <td>1Fam</td>\n",
       "      <td>1Story</td>\n",
       "      <td>...</td>\n",
       "      <td>1961</td>\n",
       "      <td>1961</td>\n",
       "      <td>CBlock</td>\n",
       "      <td>TA</td>\n",
       "      <td>Y</td>\n",
       "      <td>896</td>\n",
       "      <td>0</td>\n",
       "      <td>TA</td>\n",
       "      <td>2010</td>\n",
       "      <td>105000</td>\n",
       "    </tr>\n",
       "    <tr>\n",
       "      <th>2</th>\n",
       "      <td>3</td>\n",
       "      <td>526351010</td>\n",
       "      <td>RL</td>\n",
       "      <td>14267</td>\n",
       "      <td>IR1</td>\n",
       "      <td>AllPub</td>\n",
       "      <td>Norm</td>\n",
       "      <td>Norm</td>\n",
       "      <td>1Fam</td>\n",
       "      <td>1Story</td>\n",
       "      <td>...</td>\n",
       "      <td>1958</td>\n",
       "      <td>1958</td>\n",
       "      <td>CBlock</td>\n",
       "      <td>TA</td>\n",
       "      <td>Y</td>\n",
       "      <td>1329</td>\n",
       "      <td>0</td>\n",
       "      <td>Gd</td>\n",
       "      <td>2010</td>\n",
       "      <td>172000</td>\n",
       "    </tr>\n",
       "    <tr>\n",
       "      <th>3</th>\n",
       "      <td>4</td>\n",
       "      <td>526353030</td>\n",
       "      <td>RL</td>\n",
       "      <td>11160</td>\n",
       "      <td>Reg</td>\n",
       "      <td>AllPub</td>\n",
       "      <td>Norm</td>\n",
       "      <td>Norm</td>\n",
       "      <td>1Fam</td>\n",
       "      <td>1Story</td>\n",
       "      <td>...</td>\n",
       "      <td>1968</td>\n",
       "      <td>1968</td>\n",
       "      <td>CBlock</td>\n",
       "      <td>TA</td>\n",
       "      <td>Y</td>\n",
       "      <td>2110</td>\n",
       "      <td>0</td>\n",
       "      <td>Ex</td>\n",
       "      <td>2010</td>\n",
       "      <td>244000</td>\n",
       "    </tr>\n",
       "    <tr>\n",
       "      <th>4</th>\n",
       "      <td>5</td>\n",
       "      <td>527105010</td>\n",
       "      <td>RL</td>\n",
       "      <td>13830</td>\n",
       "      <td>IR1</td>\n",
       "      <td>AllPub</td>\n",
       "      <td>Norm</td>\n",
       "      <td>Norm</td>\n",
       "      <td>1Fam</td>\n",
       "      <td>2Story</td>\n",
       "      <td>...</td>\n",
       "      <td>1997</td>\n",
       "      <td>1998</td>\n",
       "      <td>PConc</td>\n",
       "      <td>Gd</td>\n",
       "      <td>Y</td>\n",
       "      <td>928</td>\n",
       "      <td>701</td>\n",
       "      <td>TA</td>\n",
       "      <td>2010</td>\n",
       "      <td>189900</td>\n",
       "    </tr>\n",
       "  </tbody>\n",
       "</table>\n",
       "<p>5 rows × 22 columns</p>\n",
       "</div>"
      ],
      "text/plain": [
       "   Order        PID MS Zoning  Lot Area Lot Shape Utilities Condition 1  \\\n",
       "0      1  526301100        RL     31770       IR1    AllPub        Norm   \n",
       "1      2  526350040        RH     11622       Reg    AllPub       Feedr   \n",
       "2      3  526351010        RL     14267       IR1    AllPub        Norm   \n",
       "3      4  526353030        RL     11160       Reg    AllPub        Norm   \n",
       "4      5  527105010        RL     13830       IR1    AllPub        Norm   \n",
       "\n",
       "  Condition 2 Bldg Type House Style    ...      Year Built  Year Remod/Add  \\\n",
       "0        Norm      1Fam      1Story    ...            1960            1960   \n",
       "1        Norm      1Fam      1Story    ...            1961            1961   \n",
       "2        Norm      1Fam      1Story    ...            1958            1958   \n",
       "3        Norm      1Fam      1Story    ...            1968            1968   \n",
       "4        Norm      1Fam      2Story    ...            1997            1998   \n",
       "\n",
       "   Foundation  Bsmt Qual Central Air F_Flr S_Flr  Kitchen Qual  Yr Sold  \\\n",
       "0      CBlock         TA           Y  1656     0            TA     2010   \n",
       "1      CBlock         TA           Y   896     0            TA     2010   \n",
       "2      CBlock         TA           Y  1329     0            Gd     2010   \n",
       "3      CBlock         TA           Y  2110     0            Ex     2010   \n",
       "4       PConc         Gd           Y   928   701            TA     2010   \n",
       "\n",
       "  Sale_Price  \n",
       "0     215000  \n",
       "1     105000  \n",
       "2     172000  \n",
       "3     244000  \n",
       "4     189900  \n",
       "\n",
       "[5 rows x 22 columns]"
      ]
     },
     "execution_count": 15,
     "metadata": {},
     "output_type": "execute_result"
    }
   ],
   "source": [
    "df = pd.read_excel(\"data/HousingPrice.xls\")\n",
    "df.head()"
   ]
  },
  {
   "cell_type": "code",
   "execution_count": 16,
   "metadata": {},
   "outputs": [
    {
     "name": "stdout",
     "output_type": "stream",
     "text": [
      "<class 'pandas.core.frame.DataFrame'>\n",
      "RangeIndex: 2930 entries, 0 to 2929\n",
      "Data columns (total 22 columns):\n",
      "Order             2930 non-null int64\n",
      "PID               2930 non-null int64\n",
      "MS Zoning         2930 non-null object\n",
      "Lot Area          2930 non-null int64\n",
      "Lot Shape         2930 non-null object\n",
      "Utilities         2930 non-null object\n",
      "Condition 1       2930 non-null object\n",
      "Condition 2       2930 non-null object\n",
      "Bldg Type         2930 non-null object\n",
      "House Style       2930 non-null object\n",
      "Overall Qual      2930 non-null int64\n",
      "Overall Cond      2930 non-null int64\n",
      "Year Built        2930 non-null int64\n",
      "Year Remod/Add    2930 non-null int64\n",
      "Foundation        2930 non-null object\n",
      "Bsmt Qual         2850 non-null object\n",
      "Central Air       2930 non-null object\n",
      "F_Flr             2930 non-null int64\n",
      "S_Flr             2930 non-null int64\n",
      "Kitchen Qual      2930 non-null object\n",
      "Yr Sold           2930 non-null int64\n",
      "Sale_Price        2930 non-null int64\n",
      "dtypes: int64(11), object(11)\n",
      "memory usage: 503.7+ KB\n"
     ]
    }
   ],
   "source": [
    "df.info()"
   ]
  },
  {
   "cell_type": "code",
   "execution_count": 17,
   "metadata": {},
   "outputs": [
    {
     "data": {
      "text/plain": [
       "Index(['order', 'pid', 'ms_zoning', 'lot_area', 'lot_shape', 'utilities',\n",
       "       'condition_1', 'condition_2', 'bldg_type', 'house_style',\n",
       "       'overall_qual', 'overall_cond', 'year_built', 'year_remod_add',\n",
       "       'foundation', 'bsmt_qual', 'central_air', 'f_flr', 's_flr',\n",
       "       'kitchen_qual', 'yr_sold', 'sale_price'],\n",
       "      dtype='object')"
      ]
     },
     "execution_count": 17,
     "metadata": {},
     "output_type": "execute_result"
    }
   ],
   "source": [
    "df.columns = df.columns.str.strip().str.lower().str.replace(' ', '_').str.replace('/', '_').str.replace(')', '')\n",
    "df.columns"
   ]
  },
  {
   "cell_type": "code",
   "execution_count": 18,
   "metadata": {},
   "outputs": [],
   "source": [
    "df.set_index('pid', inplace=True)  ### Setting Index \n",
    "df.drop('order', axis =1, inplace=True) ### Dropping Unneccessary column\n",
    "df.dropna(inplace=True) ### Dropping Missing Values"
   ]
  },
  {
   "cell_type": "code",
   "execution_count": 19,
   "metadata": {},
   "outputs": [
    {
     "data": {
      "text/plain": [
       "Index(['ms_zoning', 'lot_area', 'lot_shape', 'utilities', 'condition_1',\n",
       "       'condition_2', 'bldg_type', 'house_style', 'overall_qual',\n",
       "       'overall_cond', 'year_built', 'year_remod_add', 'foundation',\n",
       "       'bsmt_qual', 'central_air', 'f_flr', 's_flr', 'kitchen_qual', 'yr_sold',\n",
       "       'sale_price'],\n",
       "      dtype='object')"
      ]
     },
     "execution_count": 19,
     "metadata": {},
     "output_type": "execute_result"
    }
   ],
   "source": [
    "df.columns"
   ]
  },
  {
   "cell_type": "code",
   "execution_count": 20,
   "metadata": {},
   "outputs": [
    {
     "data": {
      "text/plain": [
       "Index(['lot_area', 'overall_qual', 'overall_cond', 'year_built',\n",
       "       'year_remod_add', 'f_flr', 's_flr', 'yr_sold', 'sale_price',\n",
       "       'ms_zoning_C (all)', 'ms_zoning_FV', 'ms_zoning_I (all)',\n",
       "       'ms_zoning_RH', 'ms_zoning_RL', 'ms_zoning_RM', 'lot_shape_IR1',\n",
       "       'lot_shape_IR2', 'lot_shape_IR3', 'lot_shape_Reg', 'utilities_AllPub',\n",
       "       'utilities_NoSeWa', 'utilities_NoSewr', 'condition_1_Artery',\n",
       "       'condition_1_Feedr', 'condition_1_Norm', 'condition_1_PosA',\n",
       "       'condition_1_PosN', 'condition_1_RRAe', 'condition_1_RRAn',\n",
       "       'condition_1_RRNe', 'condition_1_RRNn', 'condition_2_Artery',\n",
       "       'condition_2_Feedr', 'condition_2_Norm', 'condition_2_PosA',\n",
       "       'condition_2_PosN', 'condition_2_RRAe', 'condition_2_RRAn',\n",
       "       'condition_2_RRNn', 'bldg_type_1Fam', 'bldg_type_2fmCon',\n",
       "       'bldg_type_Duplex', 'bldg_type_Twnhs', 'bldg_type_TwnhsE',\n",
       "       'house_style_1.5Fin', 'house_style_1.5Unf', 'house_style_1Story',\n",
       "       'house_style_2.5Fin', 'house_style_2.5Unf', 'house_style_2Story',\n",
       "       'house_style_SFoyer', 'house_style_SLvl', 'foundation_BrkTil',\n",
       "       'foundation_CBlock', 'foundation_PConc', 'foundation_Stone',\n",
       "       'foundation_Wood', 'bsmt_qual_Ex', 'bsmt_qual_Fa', 'bsmt_qual_Gd',\n",
       "       'bsmt_qual_Po', 'bsmt_qual_TA', 'central_air_N', 'central_air_Y',\n",
       "       'kitchen_qual_Ex', 'kitchen_qual_Fa', 'kitchen_qual_Gd',\n",
       "       'kitchen_qual_Po', 'kitchen_qual_TA'],\n",
       "      dtype='object')"
      ]
     },
     "execution_count": 20,
     "metadata": {},
     "output_type": "execute_result"
    }
   ],
   "source": [
    "df = pd.get_dummies(df)\n",
    "df.columns"
   ]
  },
  {
   "cell_type": "code",
   "execution_count": 21,
   "metadata": {},
   "outputs": [],
   "source": [
    "column_order = ['lot_area', 'overall_qual', 'overall_cond', 'year_built',\n",
    "       'year_remod_add', 'f_flr', 's_flr', 'yr_sold', \n",
    "       'ms_zoning_C (all)', 'ms_zoning_FV', 'ms_zoning_I (all)',\n",
    "       'ms_zoning_RH', 'ms_zoning_RL', 'ms_zoning_RM', 'lot_shape_IR1',\n",
    "       'lot_shape_IR2', 'lot_shape_IR3', 'lot_shape_Reg', 'utilities_AllPub',\n",
    "       'utilities_NoSeWa', 'utilities_NoSewr', 'condition_1_Artery',\n",
    "       'condition_1_Feedr', 'condition_1_Norm', 'condition_1_PosA',\n",
    "       'condition_1_PosN', 'condition_1_RRAe', 'condition_1_RRAn',\n",
    "       'condition_1_RRNe', 'condition_1_RRNn', 'condition_2_Artery',\n",
    "       'condition_2_Feedr', 'condition_2_Norm', 'condition_2_PosA',\n",
    "       'condition_2_PosN', 'condition_2_RRAe', 'condition_2_RRAn',\n",
    "       'condition_2_RRNn', 'bldg_type_1Fam', 'bldg_type_2fmCon',\n",
    "       'bldg_type_Duplex', 'bldg_type_Twnhs', 'bldg_type_TwnhsE',\n",
    "       'house_style_1.5Fin', 'house_style_1.5Unf', 'house_style_1Story',\n",
    "       'house_style_2.5Fin', 'house_style_2.5Unf', 'house_style_2Story',\n",
    "       'house_style_SFoyer', 'house_style_SLvl', 'foundation_BrkTil',\n",
    "       'foundation_CBlock', 'foundation_PConc', 'foundation_Stone',\n",
    "       'foundation_Wood', 'bsmt_qual_Ex', 'bsmt_qual_Fa', 'bsmt_qual_Gd',\n",
    "       'bsmt_qual_Po', 'bsmt_qual_TA', 'central_air_N', 'central_air_Y',\n",
    "       'kitchen_qual_Ex', 'kitchen_qual_Fa', 'kitchen_qual_Gd',\n",
    "       'kitchen_qual_Po', 'kitchen_qual_TA', 'sale_price']"
   ]
  },
  {
   "cell_type": "code",
   "execution_count": 22,
   "metadata": {},
   "outputs": [
    {
     "data": {
      "text/html": [
       "<div>\n",
       "<style scoped>\n",
       "    .dataframe tbody tr th:only-of-type {\n",
       "        vertical-align: middle;\n",
       "    }\n",
       "\n",
       "    .dataframe tbody tr th {\n",
       "        vertical-align: top;\n",
       "    }\n",
       "\n",
       "    .dataframe thead th {\n",
       "        text-align: right;\n",
       "    }\n",
       "</style>\n",
       "<table border=\"1\" class=\"dataframe\">\n",
       "  <thead>\n",
       "    <tr style=\"text-align: right;\">\n",
       "      <th></th>\n",
       "      <th>lot_area</th>\n",
       "      <th>overall_qual</th>\n",
       "      <th>overall_cond</th>\n",
       "      <th>year_built</th>\n",
       "      <th>year_remod_add</th>\n",
       "      <th>f_flr</th>\n",
       "      <th>s_flr</th>\n",
       "      <th>yr_sold</th>\n",
       "      <th>ms_zoning_C (all)</th>\n",
       "      <th>ms_zoning_FV</th>\n",
       "      <th>...</th>\n",
       "      <th>bsmt_qual_Po</th>\n",
       "      <th>bsmt_qual_TA</th>\n",
       "      <th>central_air_N</th>\n",
       "      <th>central_air_Y</th>\n",
       "      <th>kitchen_qual_Ex</th>\n",
       "      <th>kitchen_qual_Fa</th>\n",
       "      <th>kitchen_qual_Gd</th>\n",
       "      <th>kitchen_qual_Po</th>\n",
       "      <th>kitchen_qual_TA</th>\n",
       "      <th>sale_price</th>\n",
       "    </tr>\n",
       "    <tr>\n",
       "      <th>pid</th>\n",
       "      <th></th>\n",
       "      <th></th>\n",
       "      <th></th>\n",
       "      <th></th>\n",
       "      <th></th>\n",
       "      <th></th>\n",
       "      <th></th>\n",
       "      <th></th>\n",
       "      <th></th>\n",
       "      <th></th>\n",
       "      <th></th>\n",
       "      <th></th>\n",
       "      <th></th>\n",
       "      <th></th>\n",
       "      <th></th>\n",
       "      <th></th>\n",
       "      <th></th>\n",
       "      <th></th>\n",
       "      <th></th>\n",
       "      <th></th>\n",
       "      <th></th>\n",
       "    </tr>\n",
       "  </thead>\n",
       "  <tbody>\n",
       "    <tr>\n",
       "      <th>526301100</th>\n",
       "      <td>31770</td>\n",
       "      <td>6</td>\n",
       "      <td>5</td>\n",
       "      <td>1960</td>\n",
       "      <td>1960</td>\n",
       "      <td>1656</td>\n",
       "      <td>0</td>\n",
       "      <td>2010</td>\n",
       "      <td>0</td>\n",
       "      <td>0</td>\n",
       "      <td>...</td>\n",
       "      <td>0</td>\n",
       "      <td>1</td>\n",
       "      <td>0</td>\n",
       "      <td>1</td>\n",
       "      <td>0</td>\n",
       "      <td>0</td>\n",
       "      <td>0</td>\n",
       "      <td>0</td>\n",
       "      <td>1</td>\n",
       "      <td>215000</td>\n",
       "    </tr>\n",
       "    <tr>\n",
       "      <th>526350040</th>\n",
       "      <td>11622</td>\n",
       "      <td>5</td>\n",
       "      <td>6</td>\n",
       "      <td>1961</td>\n",
       "      <td>1961</td>\n",
       "      <td>896</td>\n",
       "      <td>0</td>\n",
       "      <td>2010</td>\n",
       "      <td>0</td>\n",
       "      <td>0</td>\n",
       "      <td>...</td>\n",
       "      <td>0</td>\n",
       "      <td>1</td>\n",
       "      <td>0</td>\n",
       "      <td>1</td>\n",
       "      <td>0</td>\n",
       "      <td>0</td>\n",
       "      <td>0</td>\n",
       "      <td>0</td>\n",
       "      <td>1</td>\n",
       "      <td>105000</td>\n",
       "    </tr>\n",
       "    <tr>\n",
       "      <th>526351010</th>\n",
       "      <td>14267</td>\n",
       "      <td>6</td>\n",
       "      <td>6</td>\n",
       "      <td>1958</td>\n",
       "      <td>1958</td>\n",
       "      <td>1329</td>\n",
       "      <td>0</td>\n",
       "      <td>2010</td>\n",
       "      <td>0</td>\n",
       "      <td>0</td>\n",
       "      <td>...</td>\n",
       "      <td>0</td>\n",
       "      <td>1</td>\n",
       "      <td>0</td>\n",
       "      <td>1</td>\n",
       "      <td>0</td>\n",
       "      <td>0</td>\n",
       "      <td>1</td>\n",
       "      <td>0</td>\n",
       "      <td>0</td>\n",
       "      <td>172000</td>\n",
       "    </tr>\n",
       "    <tr>\n",
       "      <th>526353030</th>\n",
       "      <td>11160</td>\n",
       "      <td>7</td>\n",
       "      <td>5</td>\n",
       "      <td>1968</td>\n",
       "      <td>1968</td>\n",
       "      <td>2110</td>\n",
       "      <td>0</td>\n",
       "      <td>2010</td>\n",
       "      <td>0</td>\n",
       "      <td>0</td>\n",
       "      <td>...</td>\n",
       "      <td>0</td>\n",
       "      <td>1</td>\n",
       "      <td>0</td>\n",
       "      <td>1</td>\n",
       "      <td>1</td>\n",
       "      <td>0</td>\n",
       "      <td>0</td>\n",
       "      <td>0</td>\n",
       "      <td>0</td>\n",
       "      <td>244000</td>\n",
       "    </tr>\n",
       "    <tr>\n",
       "      <th>527105010</th>\n",
       "      <td>13830</td>\n",
       "      <td>5</td>\n",
       "      <td>5</td>\n",
       "      <td>1997</td>\n",
       "      <td>1998</td>\n",
       "      <td>928</td>\n",
       "      <td>701</td>\n",
       "      <td>2010</td>\n",
       "      <td>0</td>\n",
       "      <td>0</td>\n",
       "      <td>...</td>\n",
       "      <td>0</td>\n",
       "      <td>0</td>\n",
       "      <td>0</td>\n",
       "      <td>1</td>\n",
       "      <td>0</td>\n",
       "      <td>0</td>\n",
       "      <td>0</td>\n",
       "      <td>0</td>\n",
       "      <td>1</td>\n",
       "      <td>189900</td>\n",
       "    </tr>\n",
       "  </tbody>\n",
       "</table>\n",
       "<p>5 rows × 69 columns</p>\n",
       "</div>"
      ],
      "text/plain": [
       "           lot_area  overall_qual  overall_cond  year_built  year_remod_add  \\\n",
       "pid                                                                           \n",
       "526301100     31770             6             5        1960            1960   \n",
       "526350040     11622             5             6        1961            1961   \n",
       "526351010     14267             6             6        1958            1958   \n",
       "526353030     11160             7             5        1968            1968   \n",
       "527105010     13830             5             5        1997            1998   \n",
       "\n",
       "           f_flr  s_flr  yr_sold  ms_zoning_C (all)  ms_zoning_FV     ...      \\\n",
       "pid                                                                   ...       \n",
       "526301100   1656      0     2010                  0             0     ...       \n",
       "526350040    896      0     2010                  0             0     ...       \n",
       "526351010   1329      0     2010                  0             0     ...       \n",
       "526353030   2110      0     2010                  0             0     ...       \n",
       "527105010    928    701     2010                  0             0     ...       \n",
       "\n",
       "           bsmt_qual_Po  bsmt_qual_TA  central_air_N  central_air_Y  \\\n",
       "pid                                                                   \n",
       "526301100             0             1              0              1   \n",
       "526350040             0             1              0              1   \n",
       "526351010             0             1              0              1   \n",
       "526353030             0             1              0              1   \n",
       "527105010             0             0              0              1   \n",
       "\n",
       "           kitchen_qual_Ex  kitchen_qual_Fa  kitchen_qual_Gd  kitchen_qual_Po  \\\n",
       "pid                                                                             \n",
       "526301100                0                0                0                0   \n",
       "526350040                0                0                0                0   \n",
       "526351010                0                0                1                0   \n",
       "526353030                1                0                0                0   \n",
       "527105010                0                0                0                0   \n",
       "\n",
       "           kitchen_qual_TA  sale_price  \n",
       "pid                                     \n",
       "526301100                1      215000  \n",
       "526350040                1      105000  \n",
       "526351010                0      172000  \n",
       "526353030                0      244000  \n",
       "527105010                1      189900  \n",
       "\n",
       "[5 rows x 69 columns]"
      ]
     },
     "execution_count": 22,
     "metadata": {},
     "output_type": "execute_result"
    }
   ],
   "source": [
    "df = df[column_order]\n",
    "df.head()"
   ]
  },
  {
   "cell_type": "code",
   "execution_count": 23,
   "metadata": {},
   "outputs": [
    {
     "name": "stdout",
     "output_type": "stream",
     "text": [
      "<class 'pandas.core.frame.DataFrame'>\n",
      "Int64Index: 2850 entries, 526301100 to 924151050\n",
      "Data columns (total 69 columns):\n",
      "lot_area              2850 non-null int64\n",
      "overall_qual          2850 non-null int64\n",
      "overall_cond          2850 non-null int64\n",
      "year_built            2850 non-null int64\n",
      "year_remod_add        2850 non-null int64\n",
      "f_flr                 2850 non-null int64\n",
      "s_flr                 2850 non-null int64\n",
      "yr_sold               2850 non-null int64\n",
      "ms_zoning_C (all)     2850 non-null uint8\n",
      "ms_zoning_FV          2850 non-null uint8\n",
      "ms_zoning_I (all)     2850 non-null uint8\n",
      "ms_zoning_RH          2850 non-null uint8\n",
      "ms_zoning_RL          2850 non-null uint8\n",
      "ms_zoning_RM          2850 non-null uint8\n",
      "lot_shape_IR1         2850 non-null uint8\n",
      "lot_shape_IR2         2850 non-null uint8\n",
      "lot_shape_IR3         2850 non-null uint8\n",
      "lot_shape_Reg         2850 non-null uint8\n",
      "utilities_AllPub      2850 non-null uint8\n",
      "utilities_NoSeWa      2850 non-null uint8\n",
      "utilities_NoSewr      2850 non-null uint8\n",
      "condition_1_Artery    2850 non-null uint8\n",
      "condition_1_Feedr     2850 non-null uint8\n",
      "condition_1_Norm      2850 non-null uint8\n",
      "condition_1_PosA      2850 non-null uint8\n",
      "condition_1_PosN      2850 non-null uint8\n",
      "condition_1_RRAe      2850 non-null uint8\n",
      "condition_1_RRAn      2850 non-null uint8\n",
      "condition_1_RRNe      2850 non-null uint8\n",
      "condition_1_RRNn      2850 non-null uint8\n",
      "condition_2_Artery    2850 non-null uint8\n",
      "condition_2_Feedr     2850 non-null uint8\n",
      "condition_2_Norm      2850 non-null uint8\n",
      "condition_2_PosA      2850 non-null uint8\n",
      "condition_2_PosN      2850 non-null uint8\n",
      "condition_2_RRAe      2850 non-null uint8\n",
      "condition_2_RRAn      2850 non-null uint8\n",
      "condition_2_RRNn      2850 non-null uint8\n",
      "bldg_type_1Fam        2850 non-null uint8\n",
      "bldg_type_2fmCon      2850 non-null uint8\n",
      "bldg_type_Duplex      2850 non-null uint8\n",
      "bldg_type_Twnhs       2850 non-null uint8\n",
      "bldg_type_TwnhsE      2850 non-null uint8\n",
      "house_style_1.5Fin    2850 non-null uint8\n",
      "house_style_1.5Unf    2850 non-null uint8\n",
      "house_style_1Story    2850 non-null uint8\n",
      "house_style_2.5Fin    2850 non-null uint8\n",
      "house_style_2.5Unf    2850 non-null uint8\n",
      "house_style_2Story    2850 non-null uint8\n",
      "house_style_SFoyer    2850 non-null uint8\n",
      "house_style_SLvl      2850 non-null uint8\n",
      "foundation_BrkTil     2850 non-null uint8\n",
      "foundation_CBlock     2850 non-null uint8\n",
      "foundation_PConc      2850 non-null uint8\n",
      "foundation_Stone      2850 non-null uint8\n",
      "foundation_Wood       2850 non-null uint8\n",
      "bsmt_qual_Ex          2850 non-null uint8\n",
      "bsmt_qual_Fa          2850 non-null uint8\n",
      "bsmt_qual_Gd          2850 non-null uint8\n",
      "bsmt_qual_Po          2850 non-null uint8\n",
      "bsmt_qual_TA          2850 non-null uint8\n",
      "central_air_N         2850 non-null uint8\n",
      "central_air_Y         2850 non-null uint8\n",
      "kitchen_qual_Ex       2850 non-null uint8\n",
      "kitchen_qual_Fa       2850 non-null uint8\n",
      "kitchen_qual_Gd       2850 non-null uint8\n",
      "kitchen_qual_Po       2850 non-null uint8\n",
      "kitchen_qual_TA       2850 non-null uint8\n",
      "sale_price            2850 non-null int64\n",
      "dtypes: int64(9), uint8(60)\n",
      "memory usage: 389.6 KB\n"
     ]
    }
   ],
   "source": [
    "df.info()"
   ]
  },
  {
   "cell_type": "code",
   "execution_count": 26,
   "metadata": {},
   "outputs": [],
   "source": [
    "X = df.iloc[:, :-1].values\n",
    "y = df.iloc[:, -1].values\n",
    "X_train, X_test, y_train, y_test = train_test_split(X, y, random_state = 2794)"
   ]
  },
  {
   "cell_type": "code",
   "execution_count": 27,
   "metadata": {
    "scrolled": true
   },
   "outputs": [
    {
     "data": {
      "text/plain": [
       "(713, 68)"
      ]
     },
     "execution_count": 27,
     "metadata": {},
     "output_type": "execute_result"
    }
   ],
   "source": [
    "X_test.shape"
   ]
  },
  {
   "cell_type": "code",
   "execution_count": 28,
   "metadata": {},
   "outputs": [
    {
     "name": "stdout",
     "output_type": "stream",
     "text": [
      "Training Accuracy: 0.84\n",
      "Training RMSE: 31325.938445358966\n",
      "Test Accuracy: 0.85\n",
      "Test RMSE: 31586.471993737185\n"
     ]
    }
   ],
   "source": [
    "lr  = LinearRegression()\n",
    "lr.fit(X_train, y_train)\n",
    "y_pred_train = lr.predict(X_train)\n",
    "y_pred_test = lr.predict(X_test)\n",
    "print(\"Training Accuracy:\", np.round(r2_score(y_train, y_pred_train),2))\n",
    "print(\"Training RMSE:\", np.sqrt(mean_squared_error(y_train, y_pred_train)))\n",
    "\n",
    "print(\"Test Accuracy:\", np.round(r2_score(y_test, y_pred_test),2))\n",
    "print(\"Test RMSE:\", np.sqrt(mean_squared_error(y_test, y_pred_test)))"
   ]
  },
  {
   "cell_type": "code",
   "execution_count": 29,
   "metadata": {},
   "outputs": [
    {
     "name": "stdout",
     "output_type": "stream",
     "text": [
      "Training Accuracy: 1.0\n",
      "Training RMSE: 182.45994767791979\n",
      "Test Accuracy: 0.79\n",
      "Test RMSE: 37894.17520732914\n"
     ]
    }
   ],
   "source": [
    "dec_tree = DecisionTreeRegressor()\n",
    "dec_tree.fit(X_train, y_train)\n",
    "y_pred_train = dec_tree.predict(X_train)\n",
    "y_pred_test = dec_tree.predict(X_test)\n",
    "print(\"Training Accuracy:\", np.round(r2_score(y_train, y_pred_train),2))\n",
    "print(\"Training RMSE:\", np.sqrt(mean_squared_error(y_train, y_pred_train)))\n",
    "\n",
    "print(\"Test Accuracy:\", np.round(r2_score(y_test, y_pred_test),2))\n",
    "print(\"Test RMSE:\", np.sqrt(mean_squared_error(y_test, y_pred_test)))"
   ]
  },
  {
   "cell_type": "markdown",
   "metadata": {},
   "source": [
    "### Bias-Variance Tradeoff\n",
    "![](img/bias1.png)\n",
    "![](img/bias2.png)\n",
    "-----------------------------------\n",
    "### So Decision Tree is WOT ???\n",
    "![](img/think.png)"
   ]
  },
  {
   "cell_type": "code",
   "execution_count": 30,
   "metadata": {},
   "outputs": [
    {
     "name": "stdout",
     "output_type": "stream",
     "text": [
      "Training Accuracy: 0.84\n",
      "Training RMSE: 31978.531740971983\n",
      "Test Accuracy: 0.77\n",
      "Test RMSE: 39370.17422168971\n"
     ]
    }
   ],
   "source": [
    "dec_tree = DecisionTreeRegressor(max_depth=5, min_samples_split= 5)\n",
    "dec_tree.fit(X_train, y_train)\n",
    "y_pred_train = dec_tree.predict(X_train)\n",
    "y_pred_test = dec_tree.predict(X_test)\n",
    "print(\"Training Accuracy:\", np.round(r2_score(y_train, y_pred_train),2))\n",
    "print(\"Training RMSE:\", np.sqrt(mean_squared_error(y_train, y_pred_train)))\n",
    "\n",
    "print(\"Test Accuracy:\", np.round(r2_score(y_test, y_pred_test),2))\n",
    "print(\"Test RMSE:\", np.sqrt(mean_squared_error(y_test, y_pred_test)))"
   ]
  },
  {
   "cell_type": "markdown",
   "metadata": {},
   "source": [
    "# Here comes the handy Ensemble Learning\n",
    "\n",
    "#### 1) Bagging (Ex. Random Forest)\n",
    "![](img/bagging.png)\n",
    "#### 2) Boosting (Ex. Gradient Boosting)\n",
    "![](img/boosting.png)\n",
    "#### 3) Stacking\n",
    "![](img/stacking.png)"
   ]
  },
  {
   "cell_type": "markdown",
   "metadata": {},
   "source": [
    "## Random Forest\n",
    "![](img/rf1.jpg)\n",
    "------------------------------------\n",
    "![](img/rf2.png)"
   ]
  },
  {
   "cell_type": "code",
   "execution_count": 31,
   "metadata": {},
   "outputs": [
    {
     "name": "stdout",
     "output_type": "stream",
     "text": [
      "Training Accuracy: 0.92\n",
      "Training RMSE: 22499.531703211687\n",
      "Test Accuracy: 0.77\n",
      "Test RMSE: 39627.99027572718\n"
     ]
    }
   ],
   "source": [
    "rf = RandomForestRegressor(n_estimators=1)\n",
    "rf.fit(X_train, y_train)\n",
    "y_pred_train = rf.predict(X_train)\n",
    "y_pred_test = rf.predict(X_test)\n",
    "print(\"Training Accuracy:\", np.round(r2_score(y_train, y_pred_train),2))\n",
    "print(\"Training RMSE:\", np.sqrt(mean_squared_error(y_train, y_pred_train)))\n",
    "\n",
    "print(\"Test Accuracy:\", np.round(r2_score(y_test, y_pred_test),2))\n",
    "print(\"Test RMSE:\", np.sqrt(mean_squared_error(y_test, y_pred_test)))"
   ]
  },
  {
   "cell_type": "code",
   "execution_count": 32,
   "metadata": {},
   "outputs": [],
   "source": [
    "RandomForestRegressor?"
   ]
  },
  {
   "cell_type": "code",
   "execution_count": 33,
   "metadata": {},
   "outputs": [
    {
     "name": "stdout",
     "output_type": "stream",
     "text": [
      "Training Accuracy: 0.96\n",
      "Training RMSE: 16061.537183225115\n",
      "Test Accuracy: 0.87\n",
      "Test RMSE: 29120.546913209906\n"
     ]
    }
   ],
   "source": [
    "rf = RandomForestRegressor(n_estimators = 100, max_depth =9, random_state = 50, \n",
    "                           max_features=.60)\n",
    "rf.fit(X_train, y_train)\n",
    "y_pred_train = rf.predict(X_train)\n",
    "y_pred_test = rf.predict(X_test)\n",
    "print(\"Training Accuracy:\", np.round(r2_score(y_train, y_pred_train),2))\n",
    "print(\"Training RMSE:\", np.sqrt(mean_squared_error(y_train, y_pred_train)))\n",
    "\n",
    "print(\"Test Accuracy:\", np.round(r2_score(y_test, y_pred_test),2))\n",
    "print(\"Test RMSE:\", np.sqrt(mean_squared_error(y_test, y_pred_test)))"
   ]
  },
  {
   "cell_type": "code",
   "execution_count": 34,
   "metadata": {},
   "outputs": [
    {
     "data": {
      "text/plain": [
       "array([5.68712963e-02, 4.44840820e-01, 8.10238370e-03, 1.09978514e-01,\n",
       "       1.31268843e-02, 1.32638416e-01, 5.95140816e-02, 4.29536374e-03,\n",
       "       2.31030781e-04, 4.32576930e-04, 1.46353215e-05, 8.30985392e-05,\n",
       "       3.65669386e-03, 3.49984430e-03, 1.32587814e-03, 8.99445202e-04,\n",
       "       8.11982412e-04, 1.36297207e-03, 6.35780314e-05, 5.25179950e-08,\n",
       "       9.35176120e-06, 1.83161730e-04, 2.65687575e-04, 6.96912091e-04,\n",
       "       4.36004195e-04, 5.04053341e-04, 4.07877313e-05, 4.37270469e-05,\n",
       "       1.28847011e-06, 7.32705885e-05, 1.08905419e-07, 9.52282780e-06,\n",
       "       3.19830626e-04, 2.06528147e-04, 5.91380695e-04, 0.00000000e+00,\n",
       "       0.00000000e+00, 1.68788209e-06, 1.78083443e-03, 4.17824710e-05,\n",
       "       3.82810767e-04, 1.38877524e-04, 5.93177017e-04, 5.60584453e-04,\n",
       "       4.16587139e-06, 2.36850412e-03, 7.63452849e-05, 5.94887718e-04,\n",
       "       4.31651834e-03, 2.18513129e-05, 1.33022369e-04, 6.20030602e-04,\n",
       "       6.51312428e-04, 4.17202414e-03, 1.49871409e-05, 5.73479657e-05,\n",
       "       9.81560149e-02, 2.41911291e-04, 8.85288428e-03, 1.11253726e-06,\n",
       "       1.17690905e-03, 8.86115615e-04, 1.56340122e-03, 1.10905337e-02,\n",
       "       2.48237207e-04, 1.01881818e-02, 0.00000000e+00, 5.93278283e-03])"
      ]
     },
     "execution_count": 34,
     "metadata": {},
     "output_type": "execute_result"
    }
   ],
   "source": [
    "rf.feature_importances_"
   ]
  },
  {
   "cell_type": "markdown",
   "metadata": {},
   "source": [
    "##### Hyper Parameter Tuning"
   ]
  },
  {
   "cell_type": "code",
   "execution_count": 35,
   "metadata": {},
   "outputs": [
    {
     "name": "stdout",
     "output_type": "stream",
     "text": [
      "Parameter grid:\n",
      "{'n_estimators': [10, 50, 75, 90, 100], 'max_depth': [1, 3, 5, 7, 9], 'max_features': [0.4, 0.5, 0.6, 'sqrt', 'log2']}\n"
     ]
    }
   ],
   "source": [
    "param_grid = {'n_estimators': [10, 50, 75, 90, 100],\n",
    "'max_depth': [1, 3, 5, 7, 9], 'max_features': [.40, .50, .60, 'sqrt', 'log2']}\n",
    "print(\"Parameter grid:\\n{}\".format(param_grid))"
   ]
  },
  {
   "cell_type": "code",
   "execution_count": null,
   "metadata": {},
   "outputs": [],
   "source": [
    "# grid_search = GridSearchCV(RandomForestRegressor(random_state = 50, n_jobs = -1), param_grid)\n",
    "# grid_search.fit(X_train, y_train)\n",
    "# print(\"Test set score: {:.2f}\".format(grid_search.score(X_test, y_test)))\n",
    "# print(\"Best parameters: {}\".format(grid_search.best_params_))\n"
   ]
  },
  {
   "cell_type": "code",
   "execution_count": null,
   "metadata": {},
   "outputs": [],
   "source": [
    "# y_pred_train = grid_search.predict(X_train)\n",
    "# y_pred_test = grid_search.predict(X_test)\n",
    "# print(\"Training Accuracy:\", np.round(r2_score(y_train, y_pred_train),2))\n",
    "# print(\"Training RMSE:\", np.sqrt(mean_squared_error(y_train, y_pred_train)))\n",
    "\n",
    "# print(\"Test Accuracy:\", np.round(r2_score(y_test, y_pred_test),2))\n",
    "# print(\"Test RMSE:\", np.sqrt(mean_squared_error(y_test, y_pred_test)))"
   ]
  },
  {
   "cell_type": "markdown",
   "metadata": {},
   "source": [
    "### Out of Bag (OOB) Score"
   ]
  },
  {
   "cell_type": "code",
   "execution_count": 36,
   "metadata": {},
   "outputs": [
    {
     "name": "stdout",
     "output_type": "stream",
     "text": [
      "Training Accuracy: 0.96\n",
      "Training RMSE: 16842.773595408056\n",
      "OOB Accuracy: 0.88\n",
      "OOB RMSE: 27799.740643856127\n",
      "OOB Accuracy: 0.88\n"
     ]
    }
   ],
   "source": [
    "rf = RandomForestRegressor(n_estimators = 100, max_depth =9, random_state = 50, \n",
    "                           max_features=.60, oob_score = True)\n",
    "rf.fit(X, y)\n",
    "y_pred = rf.predict(X)\n",
    "y_pred_oob = rf.oob_prediction_\n",
    "print(\"Training Accuracy:\", np.round(r2_score(y, y_pred),2))\n",
    "print(\"Training RMSE:\", np.sqrt(mean_squared_error(y, y_pred)))\n",
    "\n",
    "print(\"OOB Accuracy:\", np.round(r2_score(y, y_pred_oob),2))\n",
    "print(\"OOB RMSE:\", np.sqrt(mean_squared_error(y, y_pred_oob)))\n",
    "\n",
    "print(\"OOB Accuracy:\", np.round(rf.oob_score_, 2))"
   ]
  }
 ],
 "metadata": {
  "kernelspec": {
   "display_name": "Python 3",
   "language": "python",
   "name": "python3"
  },
  "language_info": {
   "codemirror_mode": {
    "name": "ipython",
    "version": 3
   },
   "file_extension": ".py",
   "mimetype": "text/x-python",
   "name": "python",
   "nbconvert_exporter": "python",
   "pygments_lexer": "ipython3",
   "version": "3.7.1"
  }
 },
 "nbformat": 4,
 "nbformat_minor": 2
}

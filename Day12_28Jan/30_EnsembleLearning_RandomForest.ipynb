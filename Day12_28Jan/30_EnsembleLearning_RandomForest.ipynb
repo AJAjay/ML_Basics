{
 "cells": [
  {
   "cell_type": "markdown",
   "metadata": {},
   "source": [
    "# ENSEMBLE LEARNING - Random Forest"
   ]
  },
  {
   "cell_type": "code",
   "execution_count": null,
   "metadata": {},
   "outputs": [],
   "source": [
    "import numpy as np\n",
    "import pandas as pd\n",
    "\n",
    "import matplotlib.pyplot as plt\n",
    "import seaborn as sns\n",
    "%matplotlib inline\n",
    "\n",
    "import random\n",
    "from pprint import pprint\n",
    "\n",
    "import seaborn as sns\n",
    "sns.set(style=\"ticks\", color_codes=True, font_scale=1.5)\n",
    "color = sns.color_palette()\n",
    "sns.set_style('darkgrid')\n",
    "\n",
    "\n",
    "from sklearn.linear_model import LinearRegression, LogisticRegression, Ridge, Lasso\n",
    "from sklearn.metrics import accuracy_score, confusion_matrix, r2_score, mean_squared_error\n",
    "from sklearn.model_selection import train_test_split, GridSearchCV\n",
    "from sklearn.tree import DecisionTreeRegressor, DecisionTreeClassifier\n",
    "from sklearn.ensemble import RandomForestRegressor, RandomForestClassifier\n",
    "\n"
   ]
  },
  {
   "cell_type": "markdown",
   "metadata": {},
   "source": [
    "### Example-1 IRIS"
   ]
  },
  {
   "cell_type": "code",
   "execution_count": null,
   "metadata": {},
   "outputs": [],
   "source": [
    "iris = pd.read_csv(\"data/Iris.csv\")\n",
    "iris = iris.drop(\"Id\", axis=1)\n",
    "iris = iris.rename(columns={\"species\": \"label\"})"
   ]
  },
  {
   "cell_type": "code",
   "execution_count": null,
   "metadata": {},
   "outputs": [],
   "source": [
    "iris.head()"
   ]
  },
  {
   "cell_type": "code",
   "execution_count": null,
   "metadata": {},
   "outputs": [],
   "source": [
    "iris.info()"
   ]
  },
  {
   "cell_type": "code",
   "execution_count": null,
   "metadata": {},
   "outputs": [],
   "source": [
    "X = iris.iloc[:, :-1].values\n",
    "y = iris.iloc[:, -1].values\n",
    "X_train, X_test, y_train, y_test = train_test_split(X, y, test_size = .20, random_state = 2794)"
   ]
  },
  {
   "cell_type": "markdown",
   "metadata": {},
   "source": [
    "##### Logistic Regression"
   ]
  },
  {
   "cell_type": "code",
   "execution_count": null,
   "metadata": {},
   "outputs": [],
   "source": [
    "log_reg = LogisticRegression()\n",
    "log_reg.fit(X_train, y_train)\n",
    "y_pred_train = log_reg.predict(X_train)\n",
    "y_pred_test = log_reg.predict(X_test)"
   ]
  },
  {
   "cell_type": "code",
   "execution_count": null,
   "metadata": {},
   "outputs": [],
   "source": [
    "print(\"Training Accuracy:\", np.round(accuracy_score(y_train, y_pred_train),2))\n",
    "print(\"Test Accuracy:\", np.round(accuracy_score(y_test, y_pred_test),2))"
   ]
  },
  {
   "cell_type": "code",
   "execution_count": null,
   "metadata": {},
   "outputs": [],
   "source": [
    "print(\"Confusion Matrix-Test Dataset:::\")\n",
    "print(\"--------------------------------\")\n",
    "confusion_matrix(y_test, y_pred_test)"
   ]
  },
  {
   "cell_type": "code",
   "execution_count": null,
   "metadata": {},
   "outputs": [],
   "source": [
    "pd.Series(y_test).value_counts()"
   ]
  },
  {
   "cell_type": "markdown",
   "metadata": {},
   "source": [
    "##### Decision Tree"
   ]
  },
  {
   "cell_type": "code",
   "execution_count": null,
   "metadata": {},
   "outputs": [],
   "source": [
    "dec_tree = DecisionTreeClassifier()\n",
    "dec_tree.fit(X_train, y_train)\n",
    "y_pred_train = dec_tree.predict(X_train)\n",
    "y_pred_test = dec_tree.predict(X_test)"
   ]
  },
  {
   "cell_type": "code",
   "execution_count": null,
   "metadata": {},
   "outputs": [],
   "source": [
    "print(\"Training Accuracy:\", np.round(accuracy_score(y_train, y_pred_train),2))\n",
    "print(\"Test Accuracy:\", np.round(accuracy_score(y_test, y_pred_test),2))"
   ]
  },
  {
   "cell_type": "code",
   "execution_count": null,
   "metadata": {},
   "outputs": [],
   "source": [
    "print(\"Confusion Matrix-Test Dataset:::\")\n",
    "print(\"--------------------------------\")\n",
    "confusion_matrix(y_test, y_pred_test)"
   ]
  },
  {
   "cell_type": "code",
   "execution_count": null,
   "metadata": {},
   "outputs": [],
   "source": [
    "sns.lmplot(data=iris, x = 'petal_width', y='petal_length', hue='label', \n",
    "           fit_reg=False, size = 6,  aspect = 1.5);\n",
    "plt.vlines(x=0.8, ymin=1, ymax=7);\n",
    "plt.vlines(x=1.75, ymin=1, ymax=7);\n",
    "plt.hlines(y=5.2, xmin=0.8, xmax=1.75);\n"
   ]
  },
  {
   "cell_type": "markdown",
   "metadata": {},
   "source": [
    "### Example-2 Housing Price"
   ]
  },
  {
   "cell_type": "code",
   "execution_count": null,
   "metadata": {},
   "outputs": [],
   "source": [
    "df = pd.read_excel(\"data/HousingPrice.xls\")\n",
    "df.head()"
   ]
  },
  {
   "cell_type": "code",
   "execution_count": null,
   "metadata": {},
   "outputs": [],
   "source": [
    "df.info()"
   ]
  },
  {
   "cell_type": "code",
   "execution_count": null,
   "metadata": {},
   "outputs": [],
   "source": [
    "df.columns = df.columns.str.strip().str.lower().str.replace(' ', '_').str.replace('/', '_').str.replace(')', '')\n",
    "df.columns"
   ]
  },
  {
   "cell_type": "code",
   "execution_count": null,
   "metadata": {},
   "outputs": [],
   "source": [
    "df.set_index('pid', inplace=True)  ### Setting Index \n",
    "df.drop('order', axis =1, inplace=True) ### Dropping Unneccessary column\n",
    "df.dropna(inplace=True) ### Dropping Missing Values"
   ]
  },
  {
   "cell_type": "code",
   "execution_count": null,
   "metadata": {},
   "outputs": [],
   "source": [
    "df.columns"
   ]
  },
  {
   "cell_type": "code",
   "execution_count": null,
   "metadata": {},
   "outputs": [],
   "source": [
    "df = pd.get_dummies(df)\n",
    "df.columns"
   ]
  },
  {
   "cell_type": "code",
   "execution_count": null,
   "metadata": {},
   "outputs": [],
   "source": [
    "column_order = ['lot_area', 'overall_qual', 'overall_cond', 'year_built',\n",
    "       'year_remod_add', 'f_flr', 's_flr', 'yr_sold', \n",
    "       'ms_zoning_C (all)', 'ms_zoning_FV', 'ms_zoning_I (all)',\n",
    "       'ms_zoning_RH', 'ms_zoning_RL', 'ms_zoning_RM', 'lot_shape_IR1',\n",
    "       'lot_shape_IR2', 'lot_shape_IR3', 'lot_shape_Reg', 'utilities_AllPub',\n",
    "       'utilities_NoSeWa', 'utilities_NoSewr', 'condition_1_Artery',\n",
    "       'condition_1_Feedr', 'condition_1_Norm', 'condition_1_PosA',\n",
    "       'condition_1_PosN', 'condition_1_RRAe', 'condition_1_RRAn',\n",
    "       'condition_1_RRNe', 'condition_1_RRNn', 'condition_2_Artery',\n",
    "       'condition_2_Feedr', 'condition_2_Norm', 'condition_2_PosA',\n",
    "       'condition_2_PosN', 'condition_2_RRAe', 'condition_2_RRAn',\n",
    "       'condition_2_RRNn', 'bldg_type_1Fam', 'bldg_type_2fmCon',\n",
    "       'bldg_type_Duplex', 'bldg_type_Twnhs', 'bldg_type_TwnhsE',\n",
    "       'house_style_1.5Fin', 'house_style_1.5Unf', 'house_style_1Story',\n",
    "       'house_style_2.5Fin', 'house_style_2.5Unf', 'house_style_2Story',\n",
    "       'house_style_SFoyer', 'house_style_SLvl', 'foundation_BrkTil',\n",
    "       'foundation_CBlock', 'foundation_PConc', 'foundation_Stone',\n",
    "       'foundation_Wood', 'bsmt_qual_Ex', 'bsmt_qual_Fa', 'bsmt_qual_Gd',\n",
    "       'bsmt_qual_Po', 'bsmt_qual_TA', 'central_air_N', 'central_air_Y',\n",
    "       'kitchen_qual_Ex', 'kitchen_qual_Fa', 'kitchen_qual_Gd',\n",
    "       'kitchen_qual_Po', 'kitchen_qual_TA', 'sale_price']"
   ]
  },
  {
   "cell_type": "code",
   "execution_count": null,
   "metadata": {},
   "outputs": [],
   "source": [
    "df = df[column_order]\n",
    "df.head()"
   ]
  },
  {
   "cell_type": "code",
   "execution_count": null,
   "metadata": {},
   "outputs": [],
   "source": [
    "X = df.iloc[:, :-1].values\n",
    "y = df.iloc[:, -1].values\n",
    "X_train, X_test, y_train, y_test = train_test_split(X, y, random_state = 2794)"
   ]
  },
  {
   "cell_type": "code",
   "execution_count": null,
   "metadata": {
    "scrolled": true
   },
   "outputs": [],
   "source": [
    "X_test.shape"
   ]
  },
  {
   "cell_type": "code",
   "execution_count": null,
   "metadata": {},
   "outputs": [],
   "source": [
    "lr  = LinearRegression()\n",
    "lr.fit(X_train, y_train)\n",
    "y_pred_train = lr.predict(X_train)\n",
    "y_pred_test = lr.predict(X_test)\n",
    "print(\"Training Accuracy:\", np.round(r2_score(y_train, y_pred_train),2))\n",
    "print(\"Training RMSE:\", np.sqrt(mean_squared_error(y_train, y_pred_train)))\n",
    "\n",
    "print(\"Test Accuracy:\", np.round(r2_score(y_test, y_pred_test),2))\n",
    "print(\"Test RMSE:\", np.sqrt(mean_squared_error(y_test, y_pred_test)))"
   ]
  },
  {
   "cell_type": "code",
   "execution_count": null,
   "metadata": {},
   "outputs": [],
   "source": [
    "dec_tree = DecisionTreeRegressor()\n",
    "dec_tree.fit(X_train, y_train)\n",
    "y_pred_train = dec_tree.predict(X_train)\n",
    "y_pred_test = dec_tree.predict(X_test)\n",
    "print(\"Training Accuracy:\", np.round(r2_score(y_train, y_pred_train),2))\n",
    "print(\"Training RMSE:\", np.sqrt(mean_squared_error(y_train, y_pred_train)))\n",
    "\n",
    "print(\"Test Accuracy:\", np.round(r2_score(y_test, y_pred_test),2))\n",
    "print(\"Test RMSE:\", np.sqrt(mean_squared_error(y_test, y_pred_test)))"
   ]
  },
  {
   "cell_type": "markdown",
   "metadata": {},
   "source": [
    "### Bias-Variance Tradeoff\n",
    "![](img/bias1.png)\n",
    "![](img/bias2.png)\n",
    "-----------------------------------\n",
    "### So Decision Tree is WOT ???\n",
    "![](img/think.png)"
   ]
  },
  {
   "cell_type": "code",
   "execution_count": null,
   "metadata": {},
   "outputs": [],
   "source": [
    "dec_tree = DecisionTreeRegressor(max_depth=5, min_samples_split= 5)\n",
    "dec_tree.fit(X_train, y_train)\n",
    "y_pred_train = dec_tree.predict(X_train)\n",
    "y_pred_test = dec_tree.predict(X_test)\n",
    "print(\"Training Accuracy:\", np.round(r2_score(y_train, y_pred_train),2))\n",
    "print(\"Training RMSE:\", np.sqrt(mean_squared_error(y_train, y_pred_train)))\n",
    "\n",
    "print(\"Test Accuracy:\", np.round(r2_score(y_test, y_pred_test),2))\n",
    "print(\"Test RMSE:\", np.sqrt(mean_squared_error(y_test, y_pred_test)))"
   ]
  },
  {
   "cell_type": "markdown",
   "metadata": {},
   "source": [
    "# Here comes the handy Ensemble Learning\n",
    "\n",
    "#### 1) Bagging (Ex. Random Forest)\n",
    "![](img/bagging.png)\n",
    "#### 2) Boosting (Ex. Gradient Boosting)\n",
    "![](img/boosting.png)\n",
    "#### 3) Stacking\n",
    "![](img/stacking.png)"
   ]
  },
  {
   "cell_type": "markdown",
   "metadata": {},
   "source": [
    "## Random Forest\n",
    "![](img/rf1.jpg)\n",
    "------------------------------------\n",
    "![](img/rf2.png)"
   ]
  },
  {
   "cell_type": "code",
   "execution_count": null,
   "metadata": {},
   "outputs": [],
   "source": [
    "rf = RandomForestRegressor(n_estimators=1)\n",
    "rf.fit(X_train, y_train)\n",
    "y_pred_train = rf.predict(X_train)\n",
    "y_pred_test = rf.predict(X_test)\n",
    "print(\"Training Accuracy:\", np.round(r2_score(y_train, y_pred_train),2))\n",
    "print(\"Training RMSE:\", np.sqrt(mean_squared_error(y_train, y_pred_train)))\n",
    "\n",
    "print(\"Test Accuracy:\", np.round(r2_score(y_test, y_pred_test),2))\n",
    "print(\"Test RMSE:\", np.sqrt(mean_squared_error(y_test, y_pred_test)))"
   ]
  },
  {
   "cell_type": "code",
   "execution_count": null,
   "metadata": {},
   "outputs": [],
   "source": [
    "RandomForestRegressor?"
   ]
  },
  {
   "cell_type": "code",
   "execution_count": null,
   "metadata": {},
   "outputs": [],
   "source": [
    "rf = RandomForestRegressor(n_estimators = 100, max_depth =9, random_state = 50, \n",
    "                           max_features=.60)\n",
    "rf.fit(X_train, y_train)\n",
    "y_pred_train = rf.predict(X_train)\n",
    "y_pred_test = rf.predict(X_test)\n",
    "print(\"Training Accuracy:\", np.round(r2_score(y_train, y_pred_train),2))\n",
    "print(\"Training RMSE:\", np.sqrt(mean_squared_error(y_train, y_pred_train)))\n",
    "\n",
    "print(\"Test Accuracy:\", np.round(r2_score(y_test, y_pred_test),2))\n",
    "print(\"Test RMSE:\", np.sqrt(mean_squared_error(y_test, y_pred_test)))"
   ]
  },
  {
   "cell_type": "code",
   "execution_count": null,
   "metadata": {},
   "outputs": [],
   "source": [
    "rf.feature_importances_"
   ]
  },
  {
   "cell_type": "markdown",
   "metadata": {},
   "source": [
    "##### Hyper Parameter Tuning"
   ]
  },
  {
   "cell_type": "code",
   "execution_count": null,
   "metadata": {},
   "outputs": [],
   "source": [
    "param_grid = {'n_estimators': [10, 50, 75, 90, 100],\n",
    "'max_depth': [1, 3, 5, 7, 9], 'max_features': [.40, .50, .60, 'sqrt', 'log2']}\n",
    "print(\"Parameter grid:\\n{}\".format(param_grid))"
   ]
  },
  {
   "cell_type": "code",
   "execution_count": null,
   "metadata": {},
   "outputs": [],
   "source": [
    "# grid_search = GridSearchCV(RandomForestRegressor(random_state = 50, n_jobs = -1), param_grid)\n",
    "# grid_search.fit(X_train, y_train)\n",
    "# print(\"Test set score: {:.2f}\".format(grid_search.score(X_test, y_test)))\n",
    "# print(\"Best parameters: {}\".format(grid_search.best_params_))\n"
   ]
  },
  {
   "cell_type": "code",
   "execution_count": null,
   "metadata": {},
   "outputs": [],
   "source": [
    "# y_pred_train = grid_search.predict(X_train)\n",
    "# y_pred_test = grid_search.predict(X_test)\n",
    "# print(\"Training Accuracy:\", np.round(r2_score(y_train, y_pred_train),2))\n",
    "# print(\"Training RMSE:\", np.sqrt(mean_squared_error(y_train, y_pred_train)))\n",
    "\n",
    "# print(\"Test Accuracy:\", np.round(r2_score(y_test, y_pred_test),2))\n",
    "# print(\"Test RMSE:\", np.sqrt(mean_squared_error(y_test, y_pred_test)))"
   ]
  },
  {
   "cell_type": "markdown",
   "metadata": {},
   "source": [
    "### Out of Bag (OOB) Score"
   ]
  },
  {
   "cell_type": "code",
   "execution_count": null,
   "metadata": {},
   "outputs": [],
   "source": [
    "rf = RandomForestRegressor(n_estimators = 100, max_depth =9, random_state = 50, \n",
    "                           max_features=.60, oob_score = True)\n",
    "rf.fit(X, y)\n",
    "y_pred = rf.predict(X)\n",
    "y_pred_oob = rf.oob_prediction_\n",
    "print(\"Training Accuracy:\", np.round(r2_score(y, y_pred),2))\n",
    "print(\"Training RMSE:\", np.sqrt(mean_squared_error(y, y_pred)))\n",
    "\n",
    "print(\"OOB Accuracy:\", np.round(r2_score(y, y_pred_oob),2))\n",
    "print(\"OOB RMSE:\", np.sqrt(mean_squared_error(y, y_pred_oob)))\n",
    "\n",
    "print(\"OOB Accuracy:\", np.round(rf.oob_score_, 2))"
   ]
  }
 ],
 "metadata": {
  "kernelspec": {
   "display_name": "Python 3",
   "language": "python",
   "name": "python3"
  },
  "language_info": {
   "codemirror_mode": {
    "name": "ipython",
    "version": 3
   },
   "file_extension": ".py",
   "mimetype": "text/x-python",
   "name": "python",
   "nbconvert_exporter": "python",
   "pygments_lexer": "ipython3",
   "version": "3.7.0"
  }
 },
 "nbformat": 4,
 "nbformat_minor": 2
}

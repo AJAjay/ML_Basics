{
 "cells": [
  {
   "cell_type": "markdown",
   "metadata": {},
   "source": [
    "# Case Study: Cycle Sharing Scheme"
   ]
  },
  {
   "cell_type": "markdown",
   "metadata": {},
   "source": [
    "##### Description:\n",
    "\n",
    "-----------\n",
    "    \n",
    "    The cycle sharing scheme provides means for the people of the city to commute using a convenient, cheap, and green transportation alternative. The service has 500 bikes at 50 stations across Seattle. Each of the stations has a dock locking system (where all bikes are parked); kiosks (so customers can get a membership key or pay for a trip) and a helmet rental service. A person can choose between purchasing a membership key or short-term pass. A membership key entitles an annual membership, and the key can be obtained from a kiosk. Advantages for members include quick retrieval of bikes and unlimited 45-minute rentals. Short-term passes offer access to bikes for a 24-hour or 3-day time interval. Riders can avail and return the bikes at any of the 50 stations citywide.\n",
    "\n",
    "------------\n",
    "\n",
    "#### DATA Dictionary\n",
    "![title](img/dictionary.png)"
   ]
  },
  {
   "cell_type": "markdown",
   "metadata": {},
   "source": [
    "### Importing Packages"
   ]
  },
  {
   "cell_type": "code",
   "execution_count": 1,
   "metadata": {},
   "outputs": [],
   "source": [
    "%matplotlib inline\n",
    "import random\n",
    "import datetime\n",
    "import pandas as pd\n",
    "import matplotlib.pyplot as plt\n",
    "import statistics\n",
    "import numpy as np\n",
    "import scipy\n",
    "from scipy import stats\n",
    "import seaborn"
   ]
  },
  {
   "cell_type": "markdown",
   "metadata": {},
   "source": [
    "#### Reading Input File"
   ]
  },
  {
   "cell_type": "code",
   "execution_count": 2,
   "metadata": {},
   "outputs": [],
   "source": [
    "data = pd.read_csv(\"data/trip.csv\")"
   ]
  },
  {
   "cell_type": "markdown",
   "metadata": {},
   "source": [
    "# EDA"
   ]
  },
  {
   "cell_type": "markdown",
   "metadata": {},
   "source": [
    "#### Exploring data\n",
    "\n",
    "##### Major types of variables\n",
    "![title](img/vartype.png)"
   ]
  },
  {
   "cell_type": "code",
   "execution_count": 3,
   "metadata": {},
   "outputs": [
    {
     "data": {
      "text/plain": [
       "286857"
      ]
     },
     "execution_count": 3,
     "metadata": {},
     "output_type": "execute_result"
    }
   ],
   "source": [
    "len(data)"
   ]
  },
  {
   "cell_type": "code",
   "execution_count": 4,
   "metadata": {},
   "outputs": [
    {
     "data": {
      "text/html": [
       "<div>\n",
       "<style scoped>\n",
       "    .dataframe tbody tr th:only-of-type {\n",
       "        vertical-align: middle;\n",
       "    }\n",
       "\n",
       "    .dataframe tbody tr th {\n",
       "        vertical-align: top;\n",
       "    }\n",
       "\n",
       "    .dataframe thead th {\n",
       "        text-align: right;\n",
       "    }\n",
       "</style>\n",
       "<table border=\"1\" class=\"dataframe\">\n",
       "  <thead>\n",
       "    <tr style=\"text-align: right;\">\n",
       "      <th></th>\n",
       "      <th>trip_id</th>\n",
       "      <th>starttime</th>\n",
       "      <th>stoptime</th>\n",
       "      <th>bikeid</th>\n",
       "      <th>tripduration</th>\n",
       "      <th>from_station_name</th>\n",
       "      <th>to_station_name</th>\n",
       "      <th>from_station_id</th>\n",
       "      <th>to_station_id</th>\n",
       "      <th>usertype</th>\n",
       "      <th>gender</th>\n",
       "      <th>birthyear</th>\n",
       "    </tr>\n",
       "  </thead>\n",
       "  <tbody>\n",
       "    <tr>\n",
       "      <th>0</th>\n",
       "      <td>431</td>\n",
       "      <td>10/13/2014 10:31</td>\n",
       "      <td>10/13/2014 10:48</td>\n",
       "      <td>SEA00298</td>\n",
       "      <td>985.935</td>\n",
       "      <td>2nd Ave &amp; Spring St</td>\n",
       "      <td>Occidental Park / Occidental Ave S &amp; S Washing...</td>\n",
       "      <td>CBD-06</td>\n",
       "      <td>PS-04</td>\n",
       "      <td>Member</td>\n",
       "      <td>Male</td>\n",
       "      <td>1960.0</td>\n",
       "    </tr>\n",
       "    <tr>\n",
       "      <th>1</th>\n",
       "      <td>432</td>\n",
       "      <td>10/13/2014 10:32</td>\n",
       "      <td>10/13/2014 10:48</td>\n",
       "      <td>SEA00195</td>\n",
       "      <td>926.375</td>\n",
       "      <td>2nd Ave &amp; Spring St</td>\n",
       "      <td>Occidental Park / Occidental Ave S &amp; S Washing...</td>\n",
       "      <td>CBD-06</td>\n",
       "      <td>PS-04</td>\n",
       "      <td>Member</td>\n",
       "      <td>Male</td>\n",
       "      <td>1970.0</td>\n",
       "    </tr>\n",
       "    <tr>\n",
       "      <th>2</th>\n",
       "      <td>433</td>\n",
       "      <td>10/13/2014 10:33</td>\n",
       "      <td>10/13/2014 10:48</td>\n",
       "      <td>SEA00486</td>\n",
       "      <td>883.831</td>\n",
       "      <td>2nd Ave &amp; Spring St</td>\n",
       "      <td>Occidental Park / Occidental Ave S &amp; S Washing...</td>\n",
       "      <td>CBD-06</td>\n",
       "      <td>PS-04</td>\n",
       "      <td>Member</td>\n",
       "      <td>Female</td>\n",
       "      <td>1988.0</td>\n",
       "    </tr>\n",
       "    <tr>\n",
       "      <th>3</th>\n",
       "      <td>434</td>\n",
       "      <td>10/13/2014 10:34</td>\n",
       "      <td>10/13/2014 10:48</td>\n",
       "      <td>SEA00333</td>\n",
       "      <td>865.937</td>\n",
       "      <td>2nd Ave &amp; Spring St</td>\n",
       "      <td>Occidental Park / Occidental Ave S &amp; S Washing...</td>\n",
       "      <td>CBD-06</td>\n",
       "      <td>PS-04</td>\n",
       "      <td>Member</td>\n",
       "      <td>Female</td>\n",
       "      <td>1977.0</td>\n",
       "    </tr>\n",
       "    <tr>\n",
       "      <th>4</th>\n",
       "      <td>435</td>\n",
       "      <td>10/13/2014 10:34</td>\n",
       "      <td>10/13/2014 10:49</td>\n",
       "      <td>SEA00202</td>\n",
       "      <td>923.923</td>\n",
       "      <td>2nd Ave &amp; Spring St</td>\n",
       "      <td>Occidental Park / Occidental Ave S &amp; S Washing...</td>\n",
       "      <td>CBD-06</td>\n",
       "      <td>PS-04</td>\n",
       "      <td>Member</td>\n",
       "      <td>Male</td>\n",
       "      <td>1971.0</td>\n",
       "    </tr>\n",
       "  </tbody>\n",
       "</table>\n",
       "</div>"
      ],
      "text/plain": [
       "   trip_id         starttime          stoptime    bikeid  tripduration  \\\n",
       "0      431  10/13/2014 10:31  10/13/2014 10:48  SEA00298       985.935   \n",
       "1      432  10/13/2014 10:32  10/13/2014 10:48  SEA00195       926.375   \n",
       "2      433  10/13/2014 10:33  10/13/2014 10:48  SEA00486       883.831   \n",
       "3      434  10/13/2014 10:34  10/13/2014 10:48  SEA00333       865.937   \n",
       "4      435  10/13/2014 10:34  10/13/2014 10:49  SEA00202       923.923   \n",
       "\n",
       "     from_station_name                                    to_station_name  \\\n",
       "0  2nd Ave & Spring St  Occidental Park / Occidental Ave S & S Washing...   \n",
       "1  2nd Ave & Spring St  Occidental Park / Occidental Ave S & S Washing...   \n",
       "2  2nd Ave & Spring St  Occidental Park / Occidental Ave S & S Washing...   \n",
       "3  2nd Ave & Spring St  Occidental Park / Occidental Ave S & S Washing...   \n",
       "4  2nd Ave & Spring St  Occidental Park / Occidental Ave S & S Washing...   \n",
       "\n",
       "  from_station_id to_station_id usertype  gender  birthyear  \n",
       "0          CBD-06         PS-04   Member    Male     1960.0  \n",
       "1          CBD-06         PS-04   Member    Male     1970.0  \n",
       "2          CBD-06         PS-04   Member  Female     1988.0  \n",
       "3          CBD-06         PS-04   Member  Female     1977.0  \n",
       "4          CBD-06         PS-04   Member    Male     1971.0  "
      ]
     },
     "execution_count": 4,
     "metadata": {},
     "output_type": "execute_result"
    }
   ],
   "source": [
    "data.head()"
   ]
  },
  {
   "cell_type": "code",
   "execution_count": 5,
   "metadata": {
    "scrolled": true
   },
   "outputs": [
    {
     "name": "stdout",
     "output_type": "stream",
     "text": [
      "<class 'pandas.core.frame.DataFrame'>\n",
      "RangeIndex: 286857 entries, 0 to 286856\n",
      "Data columns (total 12 columns):\n",
      "trip_id              286857 non-null int64\n",
      "starttime            286857 non-null object\n",
      "stoptime             286857 non-null object\n",
      "bikeid               286857 non-null object\n",
      "tripduration         286857 non-null float64\n",
      "from_station_name    286857 non-null object\n",
      "to_station_name      286857 non-null object\n",
      "from_station_id      286857 non-null object\n",
      "to_station_id        286857 non-null object\n",
      "usertype             286857 non-null object\n",
      "gender               181557 non-null object\n",
      "birthyear            181553 non-null float64\n",
      "dtypes: float64(2), int64(1), object(9)\n",
      "memory usage: 26.3+ MB\n"
     ]
    }
   ],
   "source": [
    "data.info()"
   ]
  },
  {
   "cell_type": "markdown",
   "metadata": {},
   "source": [
    "--------------------------\n",
    "![title](img/vartype1.png)"
   ]
  },
  {
   "cell_type": "code",
   "execution_count": 6,
   "metadata": {},
   "outputs": [
    {
     "data": {
      "text/html": [
       "<div>\n",
       "<style scoped>\n",
       "    .dataframe tbody tr th:only-of-type {\n",
       "        vertical-align: middle;\n",
       "    }\n",
       "\n",
       "    .dataframe tbody tr th {\n",
       "        vertical-align: top;\n",
       "    }\n",
       "\n",
       "    .dataframe thead th {\n",
       "        text-align: right;\n",
       "    }\n",
       "</style>\n",
       "<table border=\"1\" class=\"dataframe\">\n",
       "  <thead>\n",
       "    <tr style=\"text-align: right;\">\n",
       "      <th></th>\n",
       "      <th>trip_id</th>\n",
       "      <th>tripduration</th>\n",
       "      <th>birthyear</th>\n",
       "    </tr>\n",
       "  </thead>\n",
       "  <tbody>\n",
       "    <tr>\n",
       "      <th>count</th>\n",
       "      <td>286857.000000</td>\n",
       "      <td>286857.000000</td>\n",
       "      <td>181553.000000</td>\n",
       "    </tr>\n",
       "    <tr>\n",
       "      <th>mean</th>\n",
       "      <td>112431.968012</td>\n",
       "      <td>1178.295675</td>\n",
       "      <td>1979.759062</td>\n",
       "    </tr>\n",
       "    <tr>\n",
       "      <th>std</th>\n",
       "      <td>76565.154943</td>\n",
       "      <td>2038.458947</td>\n",
       "      <td>10.167119</td>\n",
       "    </tr>\n",
       "    <tr>\n",
       "      <th>min</th>\n",
       "      <td>431.000000</td>\n",
       "      <td>60.008000</td>\n",
       "      <td>1931.000000</td>\n",
       "    </tr>\n",
       "    <tr>\n",
       "      <th>25%</th>\n",
       "      <td>43051.000000</td>\n",
       "      <td>387.924000</td>\n",
       "      <td>1974.000000</td>\n",
       "    </tr>\n",
       "    <tr>\n",
       "      <th>50%</th>\n",
       "      <td>103487.000000</td>\n",
       "      <td>624.842000</td>\n",
       "      <td>1983.000000</td>\n",
       "    </tr>\n",
       "    <tr>\n",
       "      <th>75%</th>\n",
       "      <td>179545.000000</td>\n",
       "      <td>1118.466000</td>\n",
       "      <td>1987.000000</td>\n",
       "    </tr>\n",
       "    <tr>\n",
       "      <th>max</th>\n",
       "      <td>255245.000000</td>\n",
       "      <td>28794.398000</td>\n",
       "      <td>1999.000000</td>\n",
       "    </tr>\n",
       "  </tbody>\n",
       "</table>\n",
       "</div>"
      ],
      "text/plain": [
       "             trip_id   tripduration      birthyear\n",
       "count  286857.000000  286857.000000  181553.000000\n",
       "mean   112431.968012    1178.295675    1979.759062\n",
       "std     76565.154943    2038.458947      10.167119\n",
       "min       431.000000      60.008000    1931.000000\n",
       "25%     43051.000000     387.924000    1974.000000\n",
       "50%    103487.000000     624.842000    1983.000000\n",
       "75%    179545.000000    1118.466000    1987.000000\n",
       "max    255245.000000   28794.398000    1999.000000"
      ]
     },
     "execution_count": 6,
     "metadata": {},
     "output_type": "execute_result"
    }
   ],
   "source": [
    "data.describe()"
   ]
  },
  {
   "cell_type": "code",
   "execution_count": 8,
   "metadata": {},
   "outputs": [],
   "source": [
    "data.sort_values(by='starttime', inplace=True)\n",
    "data.reset_index(drop=True, inplace=True)"
   ]
  },
  {
   "cell_type": "code",
   "execution_count": 18,
   "metadata": {},
   "outputs": [
    {
     "name": "stdout",
     "output_type": "stream",
     "text": [
      "Date range of dataset: 2015-01-01 00:24:00 - 2015-09-09 10:00:00\n"
     ]
    }
   ],
   "source": [
    "print ('Date range of dataset: {} - {}'.format(data.loc[1, 'starttime'],data.loc[len(data)-1, 'stoptime']))"
   ]
  },
  {
   "cell_type": "markdown",
   "metadata": {},
   "source": [
    "#### Data Transformation"
   ]
  },
  {
   "cell_type": "code",
   "execution_count": 19,
   "metadata": {},
   "outputs": [],
   "source": [
    "data.starttime = pd.to_datetime(data.starttime)\n",
    "data.stoptime = pd.to_datetime(data.stoptime)"
   ]
  },
  {
   "cell_type": "code",
   "execution_count": 24,
   "metadata": {},
   "outputs": [],
   "source": [
    "data.sort_values(by='starttime', inplace=True)\n",
    "data.reset_index(drop=True, inplace=True)"
   ]
  },
  {
   "cell_type": "code",
   "execution_count": 25,
   "metadata": {},
   "outputs": [
    {
     "name": "stdout",
     "output_type": "stream",
     "text": [
      "Date range of dataset: 2014-10-13 10:31:00 - 2016-09-01 00:20:00\n"
     ]
    }
   ],
   "source": [
    "print ('Date range of dataset: {} - {}'.format(data.loc[1, 'starttime'],data.loc[len(data)-1, 'stoptime']))"
   ]
  },
  {
   "cell_type": "markdown",
   "metadata": {},
   "source": [
    "##### Generartion in workplace\n",
    "| Generation | Description |\n",
    "|--------|-------------|\n",
    "| The Silent Generation | Born 1928-1945 (73-90 years old) |\n",
    "| Baby Boomers | Born 1946-1964 (54-72 years old) |\n",
    "| Generation X | Born 1965-1980 (38-53 years old) |\n",
    "| Millennials | Born 1981-1996 (22-37 years old) |\n",
    "| Post-Millennials | Born 1997-Present (0-21 years old) |\n",
    "\n",
    "###### Exercise :Create a generation column using the above criteria"
   ]
  },
  {
   "cell_type": "code",
   "execution_count": 43,
   "metadata": {},
   "outputs": [],
   "source": [
    "##YourAnswershere:\n"
   ]
  },
  {
   "cell_type": "markdown",
   "metadata": {},
   "source": [
    "#### Plotting the distribution for the category variables"
   ]
  },
  {
   "cell_type": "code",
   "execution_count": 26,
   "metadata": {},
   "outputs": [
    {
     "data": {
      "image/png": "[encoded data removed]",
      "text/plain": [
       "<Figure size 432x288 with 1 Axes>"
      ]
     },
     "metadata": {
      "needs_background": "light"
     },
     "output_type": "display_data"
    }
   ],
   "source": [
    "### Plotting the Distribution of User Types\n",
    "groupby_user = data.groupby('usertype').size()\n",
    "groupby_user.plot.bar(title = 'Distribution of User Types');"
   ]
  },
  {
   "cell_type": "code",
   "execution_count": 27,
   "metadata": {
    "scrolled": true
   },
   "outputs": [
    {
     "data": {
      "image/png": "[encoded data removed]",
      "text/plain": [
       "<Figure size 432x288 with 1 Axes>"
      ]
     },
     "metadata": {
      "needs_background": "light"
     },
     "output_type": "display_data"
    }
   ],
   "source": [
    "### Plotting the Distribution of User Gender\n",
    "groupby_gender = data.groupby('gender').size()\n",
    "groupby_gender.plot.bar(title = 'Distribution of User Types');"
   ]
  },
  {
   "cell_type": "code",
   "execution_count": 28,
   "metadata": {},
   "outputs": [
    {
     "data": {
      "image/png": "[encoded data removed]",
      "text/plain": [
       "<Figure size 1080x288 with 1 Axes>"
      ]
     },
     "metadata": {
      "needs_background": "light"
     },
     "output_type": "display_data"
    }
   ],
   "source": [
    "### Plotting the Distribution of Birth Years\n",
    "data = data.sort_values(by='birthyear')\n",
    "groupby_birthyear = data.groupby('birthyear').size()\n",
    "groupby_birthyear.plot.bar(title = 'Distribution of birth years',figsize = (15,4));"
   ]
  },
  {
   "cell_type": "code",
   "execution_count": 29,
   "metadata": {},
   "outputs": [
    {
     "data": {
      "text/plain": [
       "<matplotlib.axes._subplots.AxesSubplot at 0xaeaffd0>"
      ]
     },
     "execution_count": 29,
     "metadata": {},
     "output_type": "execute_result"
    },
    {
     "data": {
      "image/png": "[encoded data removed]",
      "text/plain": [
       "<Figure size 432x288 with 1 Axes>"
      ]
     },
     "metadata": {
      "needs_background": "light"
     },
     "output_type": "display_data"
    }
   ],
   "source": [
    "data_mil = data[(data['birthyear'] >= 1981) & (data['birthyear']<=1996)]\n",
    "groupby_mil = data_mil.groupby('usertype').size()\n",
    "groupby_mil.plot.bar(title = 'Distribution of user types')"
   ]
  },
  {
   "cell_type": "markdown",
   "metadata": {},
   "source": [
    "### Multivariate Analysis"
   ]
  },
  {
   "cell_type": "code",
   "execution_count": 44,
   "metadata": {},
   "outputs": [
    {
     "data": {
      "text/plain": [
       "Male      140564\n",
       "Female     37562\n",
       "Other       3431\n",
       "Name: gender, dtype: int64"
      ]
     },
     "execution_count": 44,
     "metadata": {},
     "output_type": "execute_result"
    }
   ],
   "source": [
    "data.gender.value_counts()"
   ]
  },
  {
   "cell_type": "code",
   "execution_count": 58,
   "metadata": {},
   "outputs": [
    {
     "data": {
      "image/png": "[encoded data removed]",
      "text/plain": [
       "<Figure size 1080x360 with 1 Axes>"
      ]
     },
     "metadata": {
      "needs_background": "light"
     },
     "output_type": "display_data"
    }
   ],
   "source": [
    "groupby_birthyear_gender = data.groupby(['birthyear', 'gender'])['birthyear'].count().unstack('gender').fillna(0)\n",
    "groupby_birthyear_gender[['Male','Female','Other']].plot.bar(title =\n",
    "'Distribution of birth years by Gender', stacked=True, figsize = (15,5));"
   ]
  },
  {
   "cell_type": "markdown",
   "metadata": {},
   "source": [
    "##### Plotting the Distribution of Birth Years by User Types"
   ]
  },
  {
   "cell_type": "code",
   "execution_count": 59,
   "metadata": {},
   "outputs": [
    {
     "data": {
      "image/png": "[encoded data removed]",
      "text/plain": [
       "<Figure size 1080x288 with 1 Axes>"
      ]
     },
     "metadata": {
      "needs_background": "light"
     },
     "output_type": "display_data"
    }
   ],
   "source": [
    "groupby_birthyear_user = data.groupby(['birthyear', 'usertype'])['birthyear'].count().unstack('usertype').fillna(0)\n",
    "groupby_birthyear_user[['Member']].plot.bar(title = 'Distribution of birth years by Usertype', stacked=True, figsize = (15,4));"
   ]
  },
  {
   "cell_type": "code",
   "execution_count": 71,
   "metadata": {},
   "outputs": [
    {
     "data": {
      "text/plain": [
       "True"
      ]
     },
     "execution_count": 71,
     "metadata": {},
     "output_type": "execute_result"
    }
   ],
   "source": [
    "data[data['usertype']=='Short-Term Pass Holder']['birthyear'].isnull().values.all()"
   ]
  },
  {
   "cell_type": "code",
   "execution_count": 72,
   "metadata": {},
   "outputs": [
    {
     "data": {
      "text/plain": [
       "<bound method Series.isnull of 139      NaN\n",
       "140      NaN\n",
       "156      NaN\n",
       "159      NaN\n",
       "182      NaN\n",
       "183      NaN\n",
       "186      NaN\n",
       "187      NaN\n",
       "188      NaN\n",
       "189      NaN\n",
       "195      NaN\n",
       "197      NaN\n",
       "202      NaN\n",
       "203      NaN\n",
       "206      NaN\n",
       "209      NaN\n",
       "220      NaN\n",
       "221      NaN\n",
       "233      NaN\n",
       "235      NaN\n",
       "238      NaN\n",
       "239      NaN\n",
       "248      NaN\n",
       "249      NaN\n",
       "250      NaN\n",
       "254      NaN\n",
       "255      NaN\n",
       "256      NaN\n",
       "267      NaN\n",
       "269      NaN\n",
       "          ..\n",
       "286746   NaN\n",
       "286758   NaN\n",
       "286759   NaN\n",
       "286764   NaN\n",
       "286765   NaN\n",
       "286767   NaN\n",
       "286788   NaN\n",
       "286790   NaN\n",
       "286791   NaN\n",
       "286801   NaN\n",
       "286804   NaN\n",
       "286820   NaN\n",
       "286826   NaN\n",
       "286827   NaN\n",
       "286828   NaN\n",
       "286829   NaN\n",
       "286830   NaN\n",
       "286832   NaN\n",
       "286833   NaN\n",
       "286837   NaN\n",
       "286838   NaN\n",
       "286846   NaN\n",
       "286849   NaN\n",
       "286850   NaN\n",
       "286851   NaN\n",
       "286852   NaN\n",
       "286853   NaN\n",
       "286854   NaN\n",
       "286855   NaN\n",
       "286856   NaN\n",
       "Name: birthyear, Length: 105300, dtype: float64>"
      ]
     },
     "execution_count": 72,
     "metadata": {},
     "output_type": "execute_result"
    }
   ],
   "source": [
    "data[data['usertype']=='Short-Term Pass Holder']['birthyear'].isnull"
   ]
  },
  {
   "cell_type": "code",
   "execution_count": 83,
   "metadata": {},
   "outputs": [
    {
     "data": {
      "text/plain": [
       "True"
      ]
     },
     "execution_count": 83,
     "metadata": {},
     "output_type": "execute_result"
    }
   ],
   "source": [
    "data[data['usertype']=='Short-Term Pass Holder']['gender'].isnull().values.all()"
   ]
  },
  {
   "cell_type": "code",
   "execution_count": 85,
   "metadata": {},
   "outputs": [],
   "source": [
    "data['starttime_date'] = pd.DatetimeIndex(data.starttime).date"
   ]
  },
  {
   "cell_type": "code",
   "execution_count": 82,
   "metadata": {},
   "outputs": [],
   "source": [
    "data['starttime_date'] = pd.DatetimeIndex"
   ]
  },
  {
   "cell_type": "markdown",
   "metadata": {},
   "source": [
    "---------------------------------------------------\n",
    "## NORMAL DISTRIBUTION\n",
    "![title](img/nd.png)"
   ]
  },
  {
   "cell_type": "code",
   "execution_count": 86,
   "metadata": {},
   "outputs": [
    {
     "name": "stdout",
     "output_type": "stream",
     "text": [
      "Mean of trip duration:1178.2956753399815\n",
      "Median of trip duration:624.842\n",
      "Mode of trip duration:0    208.070\n",
      "1    233.758\n",
      "2    332.248\n",
      "3    429.153\n",
      "4    438.810\n",
      "5    466.174\n",
      "dtype: float64\n",
      "Mode of station originating from:0    Pier 69 / Alaskan Way & Clay St\n",
      "dtype: object\n"
     ]
    }
   ],
   "source": [
    "print (\"Mean of trip duration:{}\".format(data.tripduration.mean()))\n",
    "print (\"Median of trip duration:{}\".format(data.tripduration.median()))\n",
    "print(\"Mode of trip duration:{}\".format(data.tripduration.mode()))\n",
    "print(\"Mode of station originating from:{}\".format(data.from_station_name.mode()))"
   ]
  },
  {
   "cell_type": "code",
   "execution_count": 87,
   "metadata": {},
   "outputs": [
    {
     "data": {
      "text/plain": [
       "Pier 69 / Alaskan Way & Clay St                                           13054\n",
       "E Pine St & 16th Ave                                                      11392\n",
       "3rd Ave & Broad St                                                        10934\n",
       "2nd Ave & Pine St                                                         10049\n",
       "Westlake Ave & 6th Ave                                                     9994\n",
       "E Harrison St & Broadway Ave E                                             9639\n",
       "Cal Anderson Park / 11th Ave & Pine St                                     9468\n",
       "REI / Yale Ave N & John St                                                 8382\n",
       "2nd Ave & Vine St                                                          8168\n",
       "15th Ave E & E Thomas St                                                   7680\n",
       "Key Arena / 1st Ave N & Harrison St                                        7486\n",
       "PATH / 9th Ave & Westlake Ave                                              7206\n",
       "Dexter Ave N & Aloha St                                                    6937\n",
       "Summit Ave & E Denny Way                                                   6768\n",
       "Summit Ave E & E Republican St                                             6576\n",
       "Seattle Aquarium / Alaskan Way S & Elliott Bay Trail                       6357\n",
       "12th Ave & E Mercer St                                                     6322\n",
       "2nd Ave & Blanchard St                                                     6270\n",
       "Pine St & 9th Ave                                                          6060\n",
       "E Blaine St & Fairview Ave E                                               5747\n",
       "Harvard Ave & E Pine St                                                    5698\n",
       "Lake Union Park / Valley St & Boren Ave N                                  5676\n",
       "Republican St & Westlake Ave N                                             5673\n",
       "Occidental Park / Occidental Ave S & S Washington St                       5647\n",
       "1st Ave & Marion St                                                        5626\n",
       "7th Ave & Union St                                                         5555\n",
       "Bellevue Ave & E Pine St                                                   5548\n",
       "2nd Ave & Spring St                                                        5464\n",
       "9th Ave N & Mercer St                                                      5161\n",
       "6th Ave & Blanchard St                                                     4684\n",
       "                                                                          ...  \n",
       "Seattle University / E Columbia St & 12th Ave                              4077\n",
       "King Street Station Plaza / 2nd Ave Extension S & S Jackson St             3868\n",
       "12th Ave & E Denny Way                                                     3837\n",
       "Burke-Gilman Trail / NE Blakeley St & 24th Ave NE                          3784\n",
       "Eastlake Ave E & E Allison St                                              3645\n",
       "City Hall / 4th Ave & James St                                             3632\n",
       "12th Ave & NE Campus Pkwy                                                  3630\n",
       "Fred Hutchinson Cancer Research Center / Fairview Ave N & Ward St          3580\n",
       "Frye Art Museum / Terry Ave & Columbia St                                  3282\n",
       "15th Ave NE & NE 40th St                                                   2801\n",
       "6th Ave S & S King St                                                      2731\n",
       "Union St & 4th Ave                                                         2693\n",
       "UW Engineering Library / E Stevens Way NE & Jefferson Rd                   2689\n",
       "NE 47th St & 12th Ave NE                                                   2555\n",
       "Terry Ave & Stewart St                                                     2134\n",
       "Burke Museum / E Stevens Way NE & Memorial Way NE                          2068\n",
       "UW Intramural Activities Building                                          1848\n",
       "Children's Hospital / Sandpoint Way NE & 40th Ave NE                       1657\n",
       "NE 42nd St & University Way NE                                             1434\n",
       "UW Magnuson Health Sciences Center Rotunda / Columbia Rd & San Juan Rd     1398\n",
       "Broadway and E Denny Way                                                   1288\n",
       "NE Pacific St/UW Medical Center                                             988\n",
       "12th Ave & E Yesler Way                                                     958\n",
       "Mercer St & 9th Ave N                                                       863\n",
       "Thomas St & 5th Ave N                                                       761\n",
       "UW McCarty Hall / Whitman Ct                                                752\n",
       "Pier 66 / Alaskan Way & Bell St                                             160\n",
       "Pronto shop 2                                                                 2\n",
       "8D OPS 02                                                                     2\n",
       "Pronto shop                                                                   1\n",
       "Name: from_station_name, Length: 61, dtype: int64"
      ]
     },
     "execution_count": 87,
     "metadata": {},
     "output_type": "execute_result"
    }
   ],
   "source": [
    "data.from_station_name.value_counts()"
   ]
  },
  {
   "cell_type": "code",
   "execution_count": 88,
   "metadata": {
    "scrolled": true
   },
   "outputs": [
    {
     "data": {
      "image/png": "[encoded data removed]",
      "text/plain": [
       "<Figure size 432x288 with 1 Axes>"
      ]
     },
     "metadata": {
      "needs_background": "light"
     },
     "output_type": "display_data"
    }
   ],
   "source": [
    "data.tripduration.plot.hist(bins = 50, title = 'Frequency Distribution of Trip Duration');"
   ]
  },
  {
   "cell_type": "markdown",
   "metadata": {},
   "source": [
    "##### Box plot or Whisker plot\n",
    "\n",
    "![title](img/whisker.png)\n",
    "\n",
    "##### With Outliers\n",
    "\n",
    "![title](img/whisker1.png)\n"
   ]
  },
  {
   "cell_type": "code",
   "execution_count": 96,
   "metadata": {
    "scrolled": true
   },
   "outputs": [
    {
     "data": {
      "image/png": "[encoded data removed]",
      "text/plain": [
       "<Figure size 432x288 with 1 Axes>"
      ]
     },
     "metadata": {
      "needs_background": "light"
     },
     "output_type": "display_data"
    }
   ],
   "source": [
    "data.boxplot(column=['tripduration']);"
   ]
  },
  {
   "cell_type": "markdown",
   "metadata": {},
   "source": [
    "#### Outliers - Detecting using IQR\n",
    "\n",
    "![title](img/percentile.png)"
   ]
  },
  {
   "cell_type": "code",
   "execution_count": 90,
   "metadata": {},
   "outputs": [],
   "source": [
    "q75, q25 = np.percentile(data.tripduration, [75,25])"
   ]
  },
  {
   "cell_type": "code",
   "execution_count": 91,
   "metadata": {},
   "outputs": [],
   "source": [
    "iqr = q75 - q25"
   ]
  },
  {
   "cell_type": "code",
   "execution_count": 92,
   "metadata": {},
   "outputs": [],
   "source": [
    "upper_whisker = q75 + 1.5 * iqr\n",
    "lower_whisker = q25 - 1.5 * iqr"
   ]
  },
  {
   "cell_type": "code",
   "execution_count": 93,
   "metadata": {},
   "outputs": [
    {
     "data": {
      "text/plain": [
       "count    286857.000000\n",
       "mean       1178.295675\n",
       "std        2038.458947\n",
       "min          60.008000\n",
       "25%         387.924000\n",
       "50%         624.842000\n",
       "75%        1118.466000\n",
       "max       28794.398000\n",
       "Name: tripduration, dtype: float64"
      ]
     },
     "execution_count": 93,
     "metadata": {},
     "output_type": "execute_result"
    }
   ],
   "source": [
    "data.tripduration.describe()"
   ]
  },
  {
   "cell_type": "code",
   "execution_count": 97,
   "metadata": {},
   "outputs": [],
   "source": [
    "def check(x, ul, ll):\n",
    "    if ul>=x>=ll:\n",
    "        return x"
   ]
  },
  {
   "cell_type": "markdown",
   "metadata": {},
   "source": [
    "## Percentage of outliers"
   ]
  },
  {
   "cell_type": "code",
   "execution_count": 98,
   "metadata": {},
   "outputs": [
    {
     "name": "stdout",
     "output_type": "stream",
     "text": [
      "Percentage of Outliers in tripduration: 9.423859274830317\n"
     ]
    }
   ],
   "source": [
    "print(\"Percentage of Outliers in tripduration:\",len(data[data.tripduration.apply(check, args = (upper_whisker, lower_whisker)).isnull()]['tripduration'])/len(data) * 100)"
   ]
  },
  {
   "cell_type": "code",
   "execution_count": null,
   "metadata": {},
   "outputs": [],
   "source": [
    "mean_trip_duration = data[data.tripduration.apply(check, args = (upper_whisker, lower_whisker)).notnull()]['tripduration'].mean()\n",
    "print (mean_trip_duration)"
   ]
  },
  {
   "cell_type": "markdown",
   "metadata": {},
   "source": [
    "### Outliers Treatment"
   ]
  },
  {
   "cell_type": "code",
   "execution_count": null,
   "metadata": {},
   "outputs": [],
   "source": [
    "def transform_tripduration(x):\n",
    "    if x > upper_whisker:\n",
    "        return mean_trip_duration\n",
    "    return x\n",
    "\n",
    "data['tripduration_mean'] = data['tripduration'].apply(lambda x: transform_tripduration(x))\n",
    "data['tripduration_mean'].plot.hist(bins=100, title='Frequency distribution of mean transformed Trip duration');"
   ]
  },
  {
   "cell_type": "markdown",
   "metadata": {},
   "source": [
    "#### Skewness vs. Symmetric distibution\n",
    "\n",
    "!['title'](img/skew.png)"
   ]
  },
  {
   "cell_type": "markdown",
   "metadata": {},
   "source": [
    "### Measuring Center of Measure\n",
    "Mean\n",
    "\n",
    "Median\n",
    "\n",
    "\n",
    "Mode\n",
    "\n",
    "Variance - represents variability of data points about the mean\n",
    "\n",
    "\n",
    "Standard Deviation - Square root of Vairance\n"
   ]
  },
  {
   "cell_type": "markdown",
   "metadata": {},
   "source": [
    "### Correlation\n",
    "\n",
    "1) Pearson R\n",
    "\n",
    "\n",
    "2) Kendall Rank\n",
    "\n",
    "\n",
    "3) Spearman Rank"
   ]
  },
  {
   "cell_type": "code",
   "execution_count": null,
   "metadata": {},
   "outputs": [],
   "source": [
    "data['starttime_year'] = pd.DatetimeIndex(data.starttime).year"
   ]
  },
  {
   "cell_type": "code",
   "execution_count": null,
   "metadata": {},
   "outputs": [],
   "source": [
    "data['age'] = data['starttime_year'] - data['birthyear']"
   ]
  },
  {
   "cell_type": "code",
   "execution_count": null,
   "metadata": {},
   "outputs": [],
   "source": [
    "data.age.plot.hist(bins=100)"
   ]
  },
  {
   "cell_type": "code",
   "execution_count": null,
   "metadata": {},
   "outputs": [],
   "source": [
    "data = data.dropna()\n",
    "seaborn.pairplot(data, vars=['age', 'tripduration'], kind='reg')\n",
    "plt.show()"
   ]
  },
  {
   "cell_type": "markdown",
   "metadata": {},
   "source": [
    "##### Correlation Directions\n",
    "\n",
    "---------------------\n",
    "\n",
    "![title](img/corr1.png)\n",
    "\n",
    "-------------------\n",
    "Reference table\n",
    "\n",
    "![title](img/corr2.png)"
   ]
  },
  {
   "cell_type": "code",
   "execution_count": null,
   "metadata": {},
   "outputs": [],
   "source": [
    "correlations = data[['tripduration','age']].corr(method='pearson')\n",
    "print(correlations)"
   ]
  },
  {
   "cell_type": "markdown",
   "metadata": {},
   "source": [
    "#### Central Limit Theorem-VIsual Proof"
   ]
  },
  {
   "cell_type": "markdown",
   "metadata": {},
   "source": [
    "![title](img/clt1.jpeg)"
   ]
  },
  {
   "cell_type": "code",
   "execution_count": null,
   "metadata": {},
   "outputs": [],
   "source": [
    "daily_tickets = list(data.groupby('starttime_date').size())\n",
    "sample_tickets = []\n",
    "checkpoints = [1, 10, 100, 300, 500, 700, 900, 1000]\n",
    "\n",
    "plot_count = 1\n",
    "random.shuffle(daily_tickets)\n",
    "plt.figure(figsize=(15,7))\n",
    "binrange=np.array(np.linspace(0,500,101))\n",
    "\n",
    "for i in range(1000):\n",
    "    if daily_tickets:\n",
    "        sample_tickets.append(daily_tickets.pop())\n",
    "\n",
    "        if i+1 in checkpoints or not daily_tickets:\n",
    "            plt.subplot(2,3,plot_count)\n",
    "            plt.hist(sample_tickets, binrange)\n",
    "            plt.title('n=%d' % (i+1),fontsize=15)\n",
    "            plot_count+=1\n",
    "            \n",
    "        if not daily_tickets:\n",
    "            break"
   ]
  },
  {
   "cell_type": "markdown",
   "metadata": {},
   "source": [
    "### Log Transformation to reduce skewness"
   ]
  },
  {
   "cell_type": "code",
   "execution_count": null,
   "metadata": {},
   "outputs": [],
   "source": [
    "plt.hist(data.age);"
   ]
  },
  {
   "cell_type": "code",
   "execution_count": null,
   "metadata": {},
   "outputs": [],
   "source": [
    "plt.hist(np.log10(data.age));"
   ]
  },
  {
   "cell_type": "code",
   "execution_count": null,
   "metadata": {},
   "outputs": [],
   "source": []
  }
 ],
 "metadata": {
  "kernelspec": {
   "display_name": "Python 3",
   "language": "python",
   "name": "python3"
  },
  "language_info": {
   "codemirror_mode": {
    "name": "ipython",
    "version": 3
   },
   "file_extension": ".py",
   "mimetype": "text/x-python",
   "name": "python",
   "nbconvert_exporter": "python",
   "pygments_lexer": "ipython3",
   "version": "3.7.0"
  }
 },
 "nbformat": 4,
 "nbformat_minor": 2
}

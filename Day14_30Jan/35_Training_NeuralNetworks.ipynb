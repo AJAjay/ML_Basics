{
 "cells": [
  {
   "cell_type": "markdown",
   "metadata": {},
   "source": [
    "# Training Neural Networks - Best Practices"
   ]
  },
  {
   "cell_type": "code",
   "execution_count": null,
   "metadata": {},
   "outputs": [],
   "source": [
    "### Loading Packages\n",
    "import numpy as np\n",
    "import pandas as pd\n",
    "import matplotlib.pyplot as plt\n",
    "\n",
    "%matplotlib inline"
   ]
  },
  {
   "cell_type": "code",
   "execution_count": null,
   "metadata": {},
   "outputs": [],
   "source": [
    "### Functions:\n",
    "def sigmoid(x):\n",
    "    1/(1+np.exp(-x))"
   ]
  },
  {
   "cell_type": "markdown",
   "metadata": {},
   "source": [
    "#### Lets start with a quiz\n",
    "\n",
    "### Which model is performing Better???\n",
    "![](img/tnn1.png)\n",
    "\n"
   ]
  },
  {
   "cell_type": "code",
   "execution_count": null,
   "metadata": {},
   "outputs": [],
   "source": [
    "#### Why Testing Data?\n",
    "![](img/tnn2.png)"
   ]
  },
  {
   "cell_type": "markdown",
   "metadata": {},
   "source": [
    "## Underfitting and Overfitting\n",
    "\n",
    "\n",
    "![](img/tnn3.png)\n",
    "\n",
    "#### Underfitting vs. Overfitting in Classification Example\n",
    "![](img/tnn4.png)\n",
    "\n",
    "![](img/tnn5.png)\n",
    "\n",
    "![](img/tnn6.png)\n",
    "###### But when encounters the test data\n",
    "![](img/tnn7.png)\n",
    "\n",
    "\n",
    "### Whats is the best architecture\n",
    "![](img/tnn8.png)\n",
    "\n",
    "![](img/tnn9.png)\n"
   ]
  },
  {
   "cell_type": "markdown",
   "metadata": {},
   "source": [
    "### Model Complexity Graph\n",
    "\n",
    "##### Early Stopping??\n",
    "\n",
    "![](img/tnn10.png)\n",
    "\n",
    "![](img/tnn11.png)\n",
    "\n"
   ]
  },
  {
   "cell_type": "markdown",
   "metadata": {},
   "source": [
    "### Regularization"
   ]
  },
  {
   "cell_type": "markdown",
   "metadata": {},
   "source": [
    "![](img/tnn13.png)\n",
    "\n",
    "----------------------------------\n",
    "\n",
    "##### L1 vs. L2 Regularization\n",
    "\n",
    "![](img/tnn14.png)\n",
    "\n",
    "\n",
    "##### Dropout\n",
    "\n",
    "![](img/tnn15.png)\n",
    "\n",
    "##### Probability of drop out -- Common use 0.2\n",
    "\n",
    "![](img/tnn16.png)\n"
   ]
  },
  {
   "cell_type": "markdown",
   "metadata": {},
   "source": [
    "### Local Minimum Problem \n",
    "\n",
    "\n",
    "![](img/tnn17.png)\n",
    "\n",
    "\n",
    "##### Random Restart\n",
    "\n",
    "![](img/tnn18.png)\n",
    "\n",
    "##### Momentum\n",
    "\n",
    "![](img/tnn19.png)\n",
    "\n",
    "Average Steps - Momentum\n",
    "![](img/tnn20.png)\n"
   ]
  },
  {
   "cell_type": "markdown",
   "metadata": {},
   "source": [
    "### Vanishing Gradient\n",
    "\n",
    "![](img/tnn21.png)\n",
    "\n",
    "#### Changing Activation Functions\n",
    "###### TAN-H Function\n",
    "![](img/tnn22.png)\n",
    "\n",
    "###### RELU Function\n",
    "\n",
    "![](img/tnn23.png)\n",
    "\n",
    "![](img/tnn23a.png)"
   ]
  },
  {
   "cell_type": "markdown",
   "metadata": {},
   "source": [
    "### Exploding Gradient\n",
    "\n",
    "![](img/tnn24.png)\n",
    "\n",
    "###### Use Gradient Clipping- Limit the size"
   ]
  },
  {
   "cell_type": "markdown",
   "metadata": {},
   "source": [
    "### Batch vs. Mini Batch Gradient Descent"
   ]
  },
  {
   "cell_type": "markdown",
   "metadata": {},
   "source": [
    "##### Batch Gradient Descent -- Updating weights once all the data/records gets trained for each epoch\n",
    "![](img/bgd.png)\n",
    "##### Mini-Batch Gradient Descent -- Updating weights on small batches"
   ]
  },
  {
   "cell_type": "markdown",
   "metadata": {},
   "source": [
    "## Learning Rate Decay\n",
    "![](img/lr.png)"
   ]
  },
  {
   "cell_type": "code",
   "execution_count": null,
   "metadata": {},
   "outputs": [],
   "source": []
  }
 ],
 "metadata": {
  "kernelspec": {
   "display_name": "Python 3",
   "language": "python",
   "name": "python3"
  },
  "language_info": {
   "codemirror_mode": {
    "name": "ipython",
    "version": 3
   },
   "file_extension": ".py",
   "mimetype": "text/x-python",
   "name": "python",
   "nbconvert_exporter": "python",
   "pygments_lexer": "ipython3",
   "version": "3.6.5"
  }
 },
 "nbformat": 4,
 "nbformat_minor": 2
}

{
 "cells": [
  {
   "cell_type": "markdown",
   "metadata": {},
   "source": [
    "##### Importing Packages"
   ]
  },
  {
   "cell_type": "code",
   "execution_count": 1,
   "metadata": {},
   "outputs": [],
   "source": [
    "import numpy as np\n",
    "import pandas as pd\n",
    "import matplotlib.pyplot as plt\n",
    "import random"
   ]
  },
  {
   "cell_type": "markdown",
   "metadata": {},
   "source": [
    "## 1) Deep Learning\n",
    "### What is Deep Learning and what it is used for?\n",
    "\n",
    "![](img/dl.png)\n",
    "\n",
    "--------------------------------------------\n",
    "### Applications of Deep Learning\n",
    "\n",
    "i) Self Driving Cars\n",
    "---\n",
    "\n",
    "![](img/self_driving.png)\n",
    "\n",
    "ii) Image Recognition\n",
    "---\n",
    "\n",
    "![](img/facial_recognition.png)\n",
    "\n",
    "iii) Machine Translation\n",
    "---\n",
    "\n",
    "\n",
    "![](img/machine_translation.png)\n",
    "\n",
    "\n",
    "iv) Alphago Deep Mind\n",
    "---\n",
    "\n",
    "![](img/alphago.png)\n",
    "\n",
    "-------------------------\n",
    "and many more .........................\n",
    "\n",
    "--------------------------------------------\n",
    "### How it is different from traditional ML\n",
    "![](img/dl_vs_ml.png)"
   ]
  },
  {
   "cell_type": "markdown",
   "metadata": {},
   "source": [
    "### Linear Boundary\n",
    "![](img/lb1.png)\n",
    "\n",
    "### Deep learning is good at finding non-linear decision boundary\n",
    "![](img/nonlinear.png)"
   ]
  },
  {
   "cell_type": "markdown",
   "metadata": {},
   "source": [
    "## 2) Classification Problem - Student Admission test"
   ]
  },
  {
   "cell_type": "markdown",
   "metadata": {},
   "source": [
    "### Quiz1\n",
    "![](img/quiz1.png)\n",
    "\n",
    "\n",
    "\n",
    "\n",
    "\n",
    "\n",
    "\n",
    "\n",
    "--------------------------------"
   ]
  },
  {
   "cell_type": "markdown",
   "metadata": {},
   "source": [
    "### Quiz1-Sol\n",
    "![](img/quiz1_sol.png)\n",
    "\n",
    "\n",
    "#### So How do we arrive at the decision boundry?? / Split Line"
   ]
  },
  {
   "cell_type": "markdown",
   "metadata": {},
   "source": [
    "## 3) Linear Boundaries\n",
    "\n",
    "![](img/lb.png)\n",
    "----------------------------------\n",
    "#### In General we can write the equation as :\n",
    "\n",
    "![](img/lbg.png)"
   ]
  },
  {
   "cell_type": "markdown",
   "metadata": {},
   "source": [
    "## 4) Higher Dimensions\n",
    "\n",
    "![](img/higher_dimensions.png)"
   ]
  },
  {
   "cell_type": "markdown",
   "metadata": {},
   "source": [
    "## 5) Perceptron - Building Block of Neural Networks\n",
    "\n",
    "\n",
    "![](img/perceptron1.png)\n",
    "\n",
    "\n",
    "--------------------------------------\n",
    "\n",
    "![](img/perceptron2.png)\n",
    "\n",
    "---------------\n",
    "##### Step Function\n",
    "\n",
    "![](img/step_function.png)\n",
    "\n",
    "\n"
   ]
  },
  {
   "cell_type": "markdown",
   "metadata": {},
   "source": [
    "###### Quick Quiz??\n",
    "\n",
    "![](img/q1.png)"
   ]
  },
  {
   "cell_type": "markdown",
   "metadata": {},
   "source": [
    "#### Why it is called as Neural Networks ?? \n",
    "\n",
    "\n",
    "\n",
    "\n",
    "-------------------\n",
    "###### Perceptron as Neurons\n",
    "![](img/perceptron_brain.png)"
   ]
  },
  {
   "cell_type": "markdown",
   "metadata": {},
   "source": [
    "#### Perceptrons as Logical Operators\n",
    "\n",
    "##### And Perceptron\n",
    "![](img/AND_perceptron.png)"
   ]
  },
  {
   "cell_type": "markdown",
   "metadata": {},
   "source": [
    "##### Quiz2 \n",
    "What are the weights and bias for the AND perceptron?\n",
    "Set the weights (weight1, weight2) and bias bias to the correct values that calculate AND operation as shown above."
   ]
  },
  {
   "cell_type": "code",
   "execution_count": 2,
   "metadata": {},
   "outputs": [
    {
     "name": "stdout",
     "output_type": "stream",
     "text": [
      "You got 3 wrong.  Keep trying!\n",
      "\n",
      "Input 1    Input 2    Linear Combination    Activation Output   Is Correct\n",
      "      0          0                   0.0                    1           No\n",
      "      0          1                   0.0                    1           No\n",
      "      1          0                   0.0                    1           No\n",
      "      1          1                   0.0                    1          Yes\n"
     ]
    }
   ],
   "source": [
    "import pandas as pd\n",
    "\n",
    "# TODO: Set weight1, weight2, and bias\n",
    "weight1 = 0.0\n",
    "weight2 = 0.0\n",
    "bias = 0.0\n",
    "\n",
    "\n",
    "# DON'T CHANGE ANYTHING BELOW\n",
    "# Inputs and outputs\n",
    "test_inputs = [(0, 0), (0, 1), (1, 0), (1, 1)]\n",
    "correct_outputs = [False, False, False, True]\n",
    "outputs = []\n",
    "\n",
    "# Generate and check output\n",
    "for test_input, correct_output in zip(test_inputs, correct_outputs):\n",
    "    linear_combination = weight1 * test_input[0] + weight2 * test_input[1] + bias\n",
    "    output = int(linear_combination >= 0)\n",
    "    is_correct_string = 'Yes' if output == correct_output else 'No'\n",
    "    outputs.append([test_input[0], test_input[1], linear_combination, output, is_correct_string])\n",
    "\n",
    "# Print output\n",
    "num_wrong = len([output[4] for output in outputs if output[4] == 'No'])\n",
    "output_frame = pd.DataFrame(outputs, columns=['Input 1', '  Input 2', '  Linear Combination', '  Activation Output', '  Is Correct'])\n",
    "if not num_wrong:\n",
    "    print('Nice!  You got it all correct.\\n')\n",
    "else:\n",
    "    print('You got {} wrong.  Keep trying!\\n'.format(num_wrong))\n",
    "print(output_frame.to_string(index=False))\n"
   ]
  },
  {
   "cell_type": "markdown",
   "metadata": {},
   "source": [
    "##### OR Perceptron\n",
    "\n",
    "![](img/OR_perceptron.PNG)\n",
    "\n",
    "What are ways to go from AND - OR Perceptron"
   ]
  },
  {
   "cell_type": "markdown",
   "metadata": {},
   "source": [
    "## 6) Perceptron Trick \n",
    "\n",
    "\n",
    "Question-How to find the boundary line?\n",
    "\n",
    "![](img/how_boundary_line.png)\n",
    "\n",
    "---------------------------\n",
    "![](img/split.png)\n",
    "\n",
    "##### Quiz3 - Misclassified point\n",
    "\n",
    "![](img/quiz3.png)\n",
    "\n",
    "\n",
    "\n"
   ]
  },
  {
   "cell_type": "markdown",
   "metadata": {},
   "source": [
    "##### So whats the trick?? Lets use some math\n",
    "\n",
    "![](img/percp_trick1.png)\n",
    "\n",
    "\n",
    "![](img/percp_trick2.png)"
   ]
  },
  {
   "cell_type": "markdown",
   "metadata": {},
   "source": [
    "## 7) Perceptron Algorithm\n",
    "\n",
    "![](img/percp_algo.png)"
   ]
  },
  {
   "cell_type": "code",
   "execution_count": 3,
   "metadata": {},
   "outputs": [],
   "source": [
    "import numpy as np\n",
    "# Setting the random seed, feel free to change it and see different solutions.\n",
    "np.random.seed(42)\n",
    "\n",
    "def stepFunction(t):\n",
    "    if t >= 0:\n",
    "        return 1\n",
    "    return 0\n",
    "\n",
    "def prediction(X, W, b):\n",
    "    return stepFunction((np.matmul(X,W)+b)[0])\n",
    "\n",
    "# The function should receive as inputs the data X, the labels y,\n",
    "# the weights W (as an array), and the bias b,\n",
    "# update the weights and bias W, b, according to the perceptron algorithm,\n",
    "# and return W and b.\n",
    "def perceptronStep(X, y, W, b, learn_rate = 0.01):\n",
    "    for i in range(len(X)):\n",
    "        y_hat = prediction(X[i],W,b)\n",
    "        ## Misclassified Point\n",
    "        #### When y_hat =0 which supposed to be 1\n",
    "        if y[i]-y_hat == 1:\n",
    "            W[0] += X[i][0]*learn_rate\n",
    "            W[1] += X[i][1]*learn_rate\n",
    "            b += learn_rate\n",
    "        #### When y_hat = 1 which supposed to be 0\n",
    "        elif y[i]-y_hat == -1:\n",
    "            W[0] -= X[i][0]*learn_rate\n",
    "            W[1] -= X[i][1]*learn_rate\n",
    "            b -= learn_rate\n",
    "    return W, b\n",
    "    \n",
    "# This function runs the perceptron algorithm repeatedly on the dataset,\n",
    "# and returns a few of the boundary lines obtained in the iterations,\n",
    "# for plotting purposes.\n",
    "# Feel free to play with the learning rate and the num_epochs,\n",
    "# and see your results plotted below.\n",
    "def trainPerceptronAlgorithm(X, y, learn_rate = 0.01, num_epochs = 25):\n",
    "    x_min, x_max = min(X.T[0]), max(X.T[0])\n",
    "    y_min, y_max = min(X.T[1]), max(X.T[1])\n",
    "    W = np.array(np.random.rand(2,1))\n",
    "    b = np.random.rand(1)[0] + x_max\n",
    "    # These are the solution lines that get plotted below.\n",
    "    boundary_lines = []\n",
    "    for i in range(num_epochs):\n",
    "        # In each epoch, we apply the perceptron step.\n",
    "        W, b = perceptronStep(X, y, W, b, learn_rate)\n",
    "        boundary_lines.append((-W[0]/W[1], -b/W[1]))\n",
    "    return boundary_lines"
   ]
  },
  {
   "cell_type": "markdown",
   "metadata": {},
   "source": [
    "## 8) Non-Linear Regions\n",
    "\n",
    "![](img/quiz4.png)\n",
    "\n",
    "\n",
    "--------------------------\n",
    "So How to Seperate??\n",
    "![](img/curve.png)\n",
    "\n",
    "------------------------------\n",
    "Will our perceptron algorithm work ??? \n",
    "\n",
    "![](img/think.png)\n"
   ]
  },
  {
   "cell_type": "markdown",
   "metadata": {},
   "source": [
    "## 9) ERROR FUNCTION\n",
    "![](img/error_gd.png)\n",
    "\n",
    "\n",
    "### Bad Approach- Using Discrete Error function\n",
    "![](img/bad_app.png)\n",
    "\n",
    "### Discrete Vs. Continous Error Function\n",
    "![](img/disVScont.png)\n",
    "\n",
    "### Discrete Vs. Continous Predictions\n",
    "![](img/disVScont1.png)\n",
    "\n",
    "### Activation function\n",
    "![](img/disVScont2.png)\n",
    "\n",
    "### Sigmoid Predictions\n",
    "![](img/disVScont3.png)\n",
    "\n",
    "----------------------\n",
    "![](img/disVScont4.png)\n",
    "\n",
    "\n",
    "##### Quiz5) \n",
    "![](img/quiz5.png)\n"
   ]
  },
  {
   "cell_type": "markdown",
   "metadata": {},
   "source": [
    "### Multi-class Classification\n",
    "![](img/multi1.png)\n",
    "\n",
    "----\n",
    "![](img/multi2.png)\n",
    "\n",
    "\n",
    "\n"
   ]
  },
  {
   "cell_type": "markdown",
   "metadata": {},
   "source": [
    "### Softmax Function\n",
    "![](img/softmax.png)\n"
   ]
  },
  {
   "cell_type": "code",
   "execution_count": 4,
   "metadata": {},
   "outputs": [
    {
     "data": {
      "text/plain": [
       "array([0.67, 0.24, 0.09])"
      ]
     },
     "execution_count": 4,
     "metadata": {},
     "output_type": "execute_result"
    }
   ],
   "source": [
    "## Coding Softmax\n",
    "def softmax(L):\n",
    "    expL = np.exp(L)\n",
    "    sumL = np.sum(expL)\n",
    "    result = []\n",
    "    for i in expL:\n",
    "        result.append(i/sumL)\n",
    "    return result\n",
    "\n",
    "np.round(softmax([2,1,0]), decimals=2)"
   ]
  },
  {
   "cell_type": "markdown",
   "metadata": {},
   "source": [
    "### One-Hot Coding\n",
    "![](img/onehot1.png)"
   ]
  },
  {
   "cell_type": "markdown",
   "metadata": {},
   "source": [
    "### Maximum Likelihood Function\n",
    "##### Lets Start with a quiz- Which model looks better\n",
    "![](img/quiz6.png)\n",
    "\n",
    "\n",
    "-------------------------\n",
    "![](img/max_lik1.png)\n"
   ]
  },
  {
   "cell_type": "markdown",
   "metadata": {},
   "source": [
    "###### Products are complicated??"
   ]
  },
  {
   "cell_type": "code",
   "execution_count": 5,
   "metadata": {},
   "outputs": [
    {
     "data": {
      "text/plain": [
       "array([0.37454012, 0.95071431, 0.73199394, 0.59865848, 0.15601864,\n",
       "       0.15599452, 0.05808361, 0.86617615, 0.60111501, 0.70807258,\n",
       "       0.02058449, 0.96990985, 0.83244264, 0.21233911, 0.18182497,\n",
       "       0.18340451, 0.30424224, 0.52475643, 0.43194502, 0.29122914,\n",
       "       0.61185289, 0.13949386, 0.29214465, 0.36636184, 0.45606998,\n",
       "       0.78517596, 0.19967378, 0.51423444, 0.59241457, 0.04645041,\n",
       "       0.60754485, 0.17052412, 0.06505159, 0.94888554, 0.96563203,\n",
       "       0.80839735, 0.30461377, 0.09767211, 0.68423303, 0.44015249,\n",
       "       0.12203823, 0.49517691, 0.03438852, 0.9093204 , 0.25877998,\n",
       "       0.66252228, 0.31171108, 0.52006802, 0.54671028, 0.18485446,\n",
       "       0.96958463, 0.77513282, 0.93949894, 0.89482735, 0.59789998,\n",
       "       0.92187424, 0.0884925 , 0.19598286, 0.04522729, 0.32533033,\n",
       "       0.38867729, 0.27134903, 0.82873751, 0.35675333, 0.28093451,\n",
       "       0.54269608, 0.14092422, 0.80219698, 0.07455064, 0.98688694,\n",
       "       0.77224477, 0.19871568, 0.00552212, 0.81546143, 0.70685734,\n",
       "       0.72900717, 0.77127035, 0.07404465, 0.35846573, 0.11586906,\n",
       "       0.86310343, 0.62329813, 0.33089802, 0.06355835, 0.31098232,\n",
       "       0.32518332, 0.72960618, 0.63755747, 0.88721274, 0.47221493,\n",
       "       0.11959425, 0.71324479, 0.76078505, 0.5612772 , 0.77096718,\n",
       "       0.4937956 , 0.52273283, 0.42754102, 0.02541913, 0.10789143])"
      ]
     },
     "execution_count": 5,
     "metadata": {},
     "output_type": "execute_result"
    }
   ],
   "source": [
    "\n",
    "np.random.rand(100)"
   ]
  },
  {
   "cell_type": "code",
   "execution_count": 6,
   "metadata": {},
   "outputs": [
    {
     "data": {
      "text/plain": [
       "9.366443893620945e-44"
      ]
     },
     "execution_count": 6,
     "metadata": {},
     "output_type": "execute_result"
    }
   ],
   "source": [
    "np.prod(np.random.rand(100))"
   ]
  },
  {
   "cell_type": "markdown",
   "metadata": {},
   "source": [
    "\n",
    "![](img/quiz7.png)"
   ]
  },
  {
   "cell_type": "code",
   "execution_count": 7,
   "metadata": {},
   "outputs": [
    {
     "data": {
      "text/plain": [
       "-98.90000305557437"
      ]
     },
     "execution_count": 7,
     "metadata": {},
     "output_type": "execute_result"
    }
   ],
   "source": [
    "np.sum(np.log(np.random.rand(100)))"
   ]
  },
  {
   "cell_type": "markdown",
   "metadata": {},
   "source": [
    "### Cross-Entropy\n",
    "\n",
    "\n",
    "![](img/cross_ent1.png)\n",
    "\n",
    "![](img/cross_ent.png)\n",
    "\n",
    "![](img/cross_ent2.png)\n"
   ]
  },
  {
   "cell_type": "markdown",
   "metadata": {},
   "source": [
    "### Whats the Cross-Entropy of the given pairs?? and which one to be selected\n",
    "1) CE [(1, 1, 0), (0.8, 0.7, 0.1)]\n",
    "------------------------------------\n",
    "2) CE [(0, 0, 1), (0.8, 0.7, 0.1)]\n",
    "-------------------------------------"
   ]
  },
  {
   "cell_type": "code",
   "execution_count": 8,
   "metadata": {},
   "outputs": [],
   "source": [
    "### Coding Cross-Entropy\n",
    "def cross_entropy(Y, P):\n",
    "    Y = np.float_(Y)\n",
    "    P = np.float_(P)\n",
    "    return -np.sum(Y * np.log(P) + (1 - Y) * np.log(1 - P))"
   ]
  },
  {
   "cell_type": "code",
   "execution_count": 9,
   "metadata": {},
   "outputs": [
    {
     "data": {
      "text/plain": [
       "0.6851790109107685"
      ]
     },
     "execution_count": 9,
     "metadata": {},
     "output_type": "execute_result"
    }
   ],
   "source": [
    "cross_entropy([1, 1, 0], [0.8, 0.7, 0.1])"
   ]
  },
  {
   "cell_type": "code",
   "execution_count": 10,
   "metadata": {},
   "outputs": [
    {
     "data": {
      "text/plain": [
       "5.115995809754082"
      ]
     },
     "execution_count": 10,
     "metadata": {},
     "output_type": "execute_result"
    }
   ],
   "source": [
    "cross_entropy([0, 0, 1], [0.8, 0.7, 0.1])"
   ]
  },
  {
   "cell_type": "markdown",
   "metadata": {},
   "source": [
    "#### Multi-Class Cross Entropy\n",
    "Formula\n",
    "![](img/multi_cross_ent.png)"
   ]
  },
  {
   "cell_type": "markdown",
   "metadata": {},
   "source": [
    "## Logistic Regression\n",
    "##### Steps to be followed::\n",
    "\n",
    "![](img/log1.png)\n",
    "\n",
    "##### Recap of Error Function\n",
    "\n",
    "i) Binary Classification\n",
    "----\n",
    "![](img/log2.png)\n",
    "i) Multi-Class Classification\n",
    "----\n",
    "![](img/log3.png)"
   ]
  },
  {
   "cell_type": "markdown",
   "metadata": {},
   "source": [
    "##  Gradient Descent\n",
    "![](img/gd1.png)\n",
    "\n",
    "###### Partial derivative of Error\n",
    "![](img/gd2.png)\n",
    "\n",
    "\n",
    "##### Gradient of Error\n",
    "![](img/gd3a.png)\n",
    "![](img/gd3b.png)\n",
    "![](img/gd3.png)\n",
    "\n",
    "#### Gradient Descent - Step Update\n",
    "![](img/gd4.png)"
   ]
  },
  {
   "cell_type": "markdown",
   "metadata": {},
   "source": [
    "#### Steps for GD\n",
    "![](img/gd5.png)"
   ]
  },
  {
   "cell_type": "markdown",
   "metadata": {},
   "source": [
    "### Gradient Descent Vs. Perceptron Algorithm\n",
    "![](img/percpvsGD.png)\n",
    "------------------------\n",
    "![](img/GDD.png)"
   ]
  },
  {
   "cell_type": "markdown",
   "metadata": {},
   "source": [
    "###  Non Linear Models\n",
    "![](img/nl1.png)"
   ]
  },
  {
   "cell_type": "markdown",
   "metadata": {},
   "source": [
    "## 11) Neural Network Architecture\n",
    "\n",
    "\n",
    "##### Combine two Linear Models\n",
    "![](img/nl2.png)\n",
    "##### Combine two Linear Models with Weights\n",
    "![](img/nl3.png)\n",
    "\n",
    "\n",
    "![](img/nl4.png)\n",
    "![](img/nl5.png)\n",
    "\n",
    "###### Neural Architecture\n",
    "![](img/nl6.png)\n",
    "\n",
    "--------\n",
    "###### Neural Architecture-3 Nodes -Higher Dimension\n",
    "![](img/nl7.png)\n",
    "\n",
    "--------\n",
    "###### Neural Architecture-Multiclass\n",
    "![](img/nl8.png)\n",
    "\n",
    "\n",
    "--------\n",
    "###### Neural Architecture-Deep Neural Network-More than 1 hidden layers\n",
    "![](img/nl9.png)\n",
    "\n",
    "--------\n",
    "###### Neural Architecture-Multiclass Classification\n",
    "![](img/nl10.png)\n",
    "![](img/nl11.png)"
   ]
  },
  {
   "cell_type": "code",
   "execution_count": null,
   "metadata": {},
   "outputs": [],
   "source": []
  }
 ],
 "metadata": {
  "kernelspec": {
   "display_name": "Python 3",
   "language": "python",
   "name": "python3"
  },
  "language_info": {
   "codemirror_mode": {
    "name": "ipython",
    "version": 3
   },
   "file_extension": ".py",
   "mimetype": "text/x-python",
   "name": "python",
   "nbconvert_exporter": "python",
   "pygments_lexer": "ipython3",
   "version": "3.7.1"
  }
 },
 "nbformat": 4,
 "nbformat_minor": 2
}
